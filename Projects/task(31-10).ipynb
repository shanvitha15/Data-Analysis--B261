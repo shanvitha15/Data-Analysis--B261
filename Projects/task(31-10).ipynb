{
 "cells": [
  {
   "cell_type": "markdown",
   "metadata": {},
   "source": [
    " #### 1) Write a Python program that asks the user for their age and prints \"You are an adult\" if the age is 18 or older, otherwise prints \"You are a minor'."
   ]
  },
  {
   "cell_type": "code",
   "execution_count": 5,
   "metadata": {},
   "outputs": [
    {
     "name": "stdout",
     "output_type": "stream",
     "text": [
      "enter your age : 16\n",
      "you are minor\n"
     ]
    }
   ],
   "source": [
    "age = int(input('enter your age : '))\n",
    "\n",
    "if age>=18: # it checks if the age is greater-than 18 then\n",
    "    print('you are an adult')\n",
    "else:\n",
    "    print('you are minor')"
   ]
  },
  {
   "cell_type": "code",
   "execution_count": 6,
   "metadata": {},
   "outputs": [
    {
     "name": "stdout",
     "output_type": "stream",
     "text": [
      "enter your age : 21\n",
      "you are an adult\n"
     ]
    }
   ],
   "source": [
    "age = int(input('enter your age : '))\n",
    "\n",
    "if age>=18:\n",
    "    print('you are an adult')\n",
    "else:\n",
    "    print('you are minor')"
   ]
  },
  {
   "cell_type": "markdown",
   "metadata": {},
   "source": [
    "#### 2) Write a program that takes a numerical grade (out of 100) as input and prints the corresponding letter grade according to the following scale:\n",
    "* 90-100: A\n",
    "* 80-89: B\n",
    "* 70-79: C\n",
    "* 60-69: D\n",
    "* Below 60: F\n"
   ]
  },
  {
   "cell_type": "code",
   "execution_count": 27,
   "metadata": {},
   "outputs": [
    {
     "name": "stdout",
     "output_type": "stream",
     "text": [
      "enter your marks : 65\n",
      "D\n"
     ]
    }
   ],
   "source": [
    "marks = int(input('enter your marks : '))\n",
    "\n",
    "if marks >=90:\n",
    "    print('A')\n",
    "elif marks >=80:\n",
    "    print('B')\n",
    "elif marks >=70:\n",
    "    print('C')\n",
    "elif marks >=60:\n",
    "    print('D')\n",
    "else:\n",
    "    print('F')"
   ]
  },
  {
   "cell_type": "code",
   "execution_count": 26,
   "metadata": {},
   "outputs": [
    {
     "name": "stdout",
     "output_type": "stream",
     "text": [
      "enter your marks : 95\n",
      "A\n"
     ]
    }
   ],
   "source": [
    "marks = int(input('enter your marks : '))\n",
    "\n",
    "if marks >=90:\n",
    "    print('A')\n",
    "elif marks >=80:\n",
    "    print('B')\n",
    "elif marks >=70:\n",
    "    print('C')\n",
    "elif marks >=60:\n",
    "    print('D')\n",
    "else:\n",
    "    print('F')"
   ]
  },
  {
   "cell_type": "markdown",
   "metadata": {},
   "source": [
    "#### 3) Write a program that calculates the Body Mass Index (BMI) of a person. The user should input their weight in kilograms and height in meters. The program should then print whether the person is underweight, normal weight, overweight, or obese\n"
   ]
  },
  {
   "cell_type": "code",
   "execution_count": 14,
   "metadata": {},
   "outputs": [
    {
     "name": "stdout",
     "output_type": "stream",
     "text": [
      "enter your weight : 70\n",
      "enter your height : 1.73\n",
      "the weight, height, and bmi of your body are 70.0,1.73, are 23.38868655818771\n",
      "you are in the normal weight range\n"
     ]
    }
   ],
   "source": [
    "weight = (float(input('enter your weight : ')))\n",
    "height = (float(input('enter your height : ')))\n",
    "bmi = weight / (height ** 2)\n",
    "print(f'the weight, height, and bmi of your body are {weight},{height}, are {bmi}')\n",
    "\n",
    "if bmi <= 18.5:\n",
    "    print('you are underweight')\n",
    "elif 18.5 <= bmi < 24.9:\n",
    "    print('you are in the normal weight range')\n",
    "elif 25 <= bmi < 29.9:\n",
    "    print('you are overweight')\n",
    "else:\n",
    "    print('you are obese')"
   ]
  },
  {
   "cell_type": "markdown",
   "metadata": {},
   "source": [
    "#### 4) Write a program that asks the user for three numbers and prints the maximum of the three."
   ]
  },
  {
   "cell_type": "code",
   "execution_count": 15,
   "metadata": {},
   "outputs": [
    {
     "name": "stdout",
     "output_type": "stream",
     "text": [
      "enter a value : 10\n",
      "enter b value : 20\n",
      "enter c value : 30\n",
      "a,b,c values are : 10,20,30\n",
      "c is maximum\n"
     ]
    }
   ],
   "source": [
    "a = int(input('enter a value : '))\n",
    "b = int(input('enter b value : '))\n",
    "c = int(input('enter c value : '))\n",
    "print(f'a,b,c values are : {a},{b},{c}')\n",
    "\n",
    "if a>b and a>c:\n",
    "    print('a is maximum')\n",
    "elif b>a and b>c:\n",
    "    print('b is maximum')\n",
    "else:\n",
    "    print('c is maximum')"
   ]
  },
  {
   "cell_type": "markdown",
   "metadata": {},
   "source": [
    "#### 5) Write a program that asks the user for a temperature (in Celsius) and prints \"It's freezing\" if the temperature is below 0, \"It's cool\" if it's between 0 and 10, \"It's warm\" if it's between 10 and 20, and \"It's hot\" if it's above 20\n"
   ]
  },
  {
   "cell_type": "code",
   "execution_count": 16,
   "metadata": {},
   "outputs": [
    {
     "name": "stdout",
     "output_type": "stream",
     "text": [
      "enter room temp : -20\n",
      "freezing\n"
     ]
    }
   ],
   "source": [
    "temp = float(input('enter room temp : '))\n",
    "\n",
    "if temp<=0:\n",
    "    print('freezing')\n",
    "elif temp in range(0, 11):\n",
    "    print('it\\'s cool')\n",
    "elif temp in range(10, 21):\n",
    "    print('it\\'s warm')\n",
    "else:\n",
    "    print('it\\'s hot')"
   ]
  },
  {
   "cell_type": "code",
   "execution_count": 17,
   "metadata": {},
   "outputs": [
    {
     "name": "stdout",
     "output_type": "stream",
     "text": [
      "enter room temp : 5\n",
      "it's cool\n"
     ]
    }
   ],
   "source": [
    "temp = float(input('enter room temp : '))\n",
    "\n",
    "if temp<=0:\n",
    "    print('freezing')\n",
    "elif temp in range(0, 11):\n",
    "    print('it\\'s cool')\n",
    "elif temp in range(10, 21):\n",
    "    print('it\\'s warm')\n",
    "else:\n",
    "    print('it\\'s hot')"
   ]
  },
  {
   "cell_type": "code",
   "execution_count": 18,
   "metadata": {},
   "outputs": [
    {
     "name": "stdout",
     "output_type": "stream",
     "text": [
      "enter room temp : 25\n",
      "it's hot\n"
     ]
    }
   ],
   "source": [
    "temp = float(input('enter room temp : '))\n",
    "\n",
    "if temp<=0:\n",
    "    print('freezing')\n",
    "elif temp in range(0, 11):\n",
    "    print('it\\'s cool')\n",
    "elif temp in range(10, 21):\n",
    "    print('it\\'s warm')\n",
    "else:\n",
    "    print('it\\'s hot')"
   ]
  },
  {
   "cell_type": "markdown",
   "metadata": {},
   "source": [
    "#### 6) Write a program that asks the user for a number (1-7) and prints the corresponding day of the week."
   ]
  },
  {
   "cell_type": "code",
   "execution_count": 19,
   "metadata": {},
   "outputs": [
    {
     "name": "stdout",
     "output_type": "stream",
     "text": [
      "enter a number : 9\n",
      "invalid number\n"
     ]
    }
   ],
   "source": [
    "d = int(input('enter a number : '))\n",
    "\n",
    "if d==1:\n",
    "    print('sunday')\n",
    "elif d==2:\n",
    "    print('monday')\n",
    "elif d==3:\n",
    "    print('tuesday')\n",
    "elif d==4:\n",
    "    print('wednesday')\n",
    "elif d==5:\n",
    "    print('thursday')\n",
    "elif d==6:\n",
    "    print('friday')\n",
    "elif d==7:\n",
    "    print('saturday')\n",
    "else:\n",
    "    print('invalid number')"
   ]
  },
  {
   "cell_type": "code",
   "execution_count": 20,
   "metadata": {},
   "outputs": [
    {
     "name": "stdout",
     "output_type": "stream",
     "text": [
      "enter a number : 5\n",
      "thursday\n"
     ]
    }
   ],
   "source": [
    "d = int(input('enter a number : '))\n",
    "\n",
    "if d==1:\n",
    "    print('sunday')\n",
    "elif d==2:\n",
    "    print('monday')\n",
    "elif d==3:\n",
    "    print('tuesday')\n",
    "elif d==4:\n",
    "    print('wednesday')\n",
    "elif d==5:\n",
    "    print('thursday')\n",
    "elif d==6:\n",
    "    print('friday')\n",
    "elif d==7:\n",
    "    print('saturday')\n",
    "else:\n",
    "    print('invalid number')"
   ]
  },
  {
   "cell_type": "markdown",
   "metadata": {},
   "source": [
    "### alternative method:"
   ]
  },
  {
   "cell_type": "code",
   "execution_count": 34,
   "metadata": {},
   "outputs": [
    {
     "data": {
      "text/plain": [
       "'monday'"
      ]
     },
     "execution_count": 34,
     "metadata": {},
     "output_type": "execute_result"
    }
   ],
   "source": [
    "d={'1':'sunday','2':'monday','3':'tuesday','4':'wednesday','5':'thursday','6':'friday','7':'saturday'}\n",
    "d.get('2')"
   ]
  },
  {
   "cell_type": "code",
   "execution_count": 35,
   "metadata": {},
   "outputs": [
    {
     "data": {
      "text/plain": [
       "'friday'"
      ]
     },
     "execution_count": 35,
     "metadata": {},
     "output_type": "execute_result"
    }
   ],
   "source": [
    "d={'1':'sunday','2':'monday','3':'tuesday','4':'wednesday','5':'thursday','6':'friday','7':'saturday'}\n",
    "d.get('6')"
   ]
  },
  {
   "cell_type": "markdown",
   "metadata": {},
   "source": [
    "#### 7) Write a program that asks the user for a number and prints \"In range\" if the number is between 10 and 20 (inclusive), and \"Out of range\" otherwise."
   ]
  },
  {
   "cell_type": "code",
   "execution_count": 21,
   "metadata": {},
   "outputs": [
    {
     "name": "stdout",
     "output_type": "stream",
     "text": [
      "enter a number : 25\n",
      "out of range\n"
     ]
    }
   ],
   "source": [
    "n = int(input('enter a number : '))\n",
    "\n",
    "if n in range(10, 21):\n",
    "    print('in range')\n",
    "else:\n",
    "    print('out of range')\n"
   ]
  },
  {
   "cell_type": "code",
   "execution_count": 22,
   "metadata": {},
   "outputs": [
    {
     "name": "stdout",
     "output_type": "stream",
     "text": [
      "enter a number : 12\n",
      "in range\n"
     ]
    }
   ],
   "source": [
    "n = int(input('enter a number : '))\n",
    "\n",
    "if n in range(10, 21):\n",
    "    print('in range')\n",
    "else:\n",
    "    print('out of range')"
   ]
  },
  {
   "cell_type": "markdown",
   "metadata": {},
   "source": [
    "#### 8) Write a program that asks the user for an integer and prints whether it's even or odd."
   ]
  },
  {
   "cell_type": "code",
   "execution_count": 23,
   "metadata": {
    "scrolled": true
   },
   "outputs": [
    {
     "name": "stdout",
     "output_type": "stream",
     "text": [
      "enter a number : 22\n",
      "even number\n"
     ]
    }
   ],
   "source": [
    "n = int(input('enter a number : '))\n",
    "\n",
    "if n % 2 == 0:\n",
    "    print('even number')\n",
    "else:\n",
    "    print('odd number')"
   ]
  },
  {
   "cell_type": "code",
   "execution_count": 24,
   "metadata": {},
   "outputs": [
    {
     "name": "stdout",
     "output_type": "stream",
     "text": [
      "enter a number : 13\n",
      "odd number\n"
     ]
    }
   ],
   "source": [
    "n = int(input('enter a number : '))\n",
    "\n",
    "if n % 2 == 0:\n",
    "    print('even number')\n",
    "else:\n",
    "    print('odd number')"
   ]
  },
  {
   "cell_type": "markdown",
   "metadata": {},
   "source": [
    "#### 9)  Write a Python program to add 'ing' at the end of a given string (string length should be equal to or more than 3). If the given string already ends with 'ing' then add 'ly' instead.If the string length of the given string is less than 3, leave it unchanged"
   ]
  },
  {
   "cell_type": "code",
   "execution_count": 28,
   "metadata": {},
   "outputs": [
    {
     "name": "stdout",
     "output_type": "stream",
     "text": [
      "enter a string  hii\n",
      "hiiing\n"
     ]
    }
   ],
   "source": [
    "y=input('enter a string  ')\n",
    "\n",
    "if len(y)==2:\n",
    "    print((y))\n",
    "elif y.endswith('ing'):\n",
    "    print((y).replace('ing','ly'))\n",
    "else:\n",
    "    print((y)+('ing'))\n"
   ]
  },
  {
   "cell_type": "code",
   "execution_count": 29,
   "metadata": {},
   "outputs": [
    {
     "name": "stdout",
     "output_type": "stream",
     "text": [
      "enter a string  hi\n",
      "hi\n"
     ]
    }
   ],
   "source": [
    "y=input('enter a string  ')\n",
    "\n",
    "if len(y)==2:\n",
    "    print((y))\n",
    "elif y.endswith('ing'):\n",
    "    print((y).replace('ing','ly'))\n",
    "else:\n",
    "    print((y)+('ing'))"
   ]
  },
  {
   "cell_type": "code",
   "execution_count": 33,
   "metadata": {},
   "outputs": [
    {
     "name": "stdout",
     "output_type": "stream",
     "text": [
      "enter a string  hlo\n",
      "hloing\n"
     ]
    }
   ],
   "source": [
    "y=input('enter a string  ')\n",
    "\n",
    "if len(y)==2:\n",
    "    print((y))\n",
    "elif y.endswith('ing'):\n",
    "    print((y).replace('ing','ly'))\n",
    "else:\n",
    "    print((y)+('ing'))"
   ]
  },
  {
   "cell_type": "code",
   "execution_count": null,
   "metadata": {},
   "outputs": [],
   "source": []
  }
 ],
 "metadata": {
  "kernelspec": {
   "display_name": "Python 3",
   "language": "python",
   "name": "python3"
  },
  "language_info": {
   "codemirror_mode": {
    "name": "ipython",
    "version": 3
   },
   "file_extension": ".py",
   "mimetype": "text/x-python",
   "name": "python",
   "nbconvert_exporter": "python",
   "pygments_lexer": "ipython3",
   "version": "3.8.5"
  }
 },
 "nbformat": 4,
 "nbformat_minor": 4
}
