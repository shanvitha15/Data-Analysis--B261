{
 "cells": [
  {
   "cell_type": "markdown",
   "metadata": {},
   "source": [
    "#### 10) Create rock-paper-scissors by using the if condition."
   ]
  },
  {
   "cell_type": "code",
   "execution_count": 2,
   "metadata": {},
   "outputs": [
    {
     "name": "stdout",
     "output_type": "stream",
     "text": [
      "player - I : r\n",
      "tie\n"
     ]
    }
   ],
   "source": [
    "import random\n",
    "b = list('rps') \n",
    "random.shuffle(b)\n",
    "b = b[0]\n",
    "a = input('player - I : ').lower()\n",
    "if (a == 'p' and b == 'r') or (a == 's' and b == 'p') or (a == 'r' and b == 's'):\n",
    "    print('a wins')\n",
    "elif a == b:\n",
    "    print('tie')\n",
    "else:\n",
    "    print('b wins')"
   ]
  },
  {
   "cell_type": "markdown",
   "metadata": {},
   "source": [
    "#### 12) Manoj Kumar has family and friends. Help him remind them who is who. Given a string with a name, return the relation of that person to Manoj Kumar.,Person Relation,\n",
    " * Shiva father ,\n",
    " * Letha mother, \n",
    " * Tarun brother,\n",
    " * Kavitha sister ,\n",
    " * ,Strange Coder.\n"
   ]
  },
  {
   "cell_type": "code",
   "execution_count": 13,
   "metadata": {},
   "outputs": [
    {
     "name": "stdout",
     "output_type": "stream",
     "text": [
      "enter relation : father\n",
      "Manoj father name is : Shiva\n"
     ]
    }
   ],
   "source": [
    "r = input('enter relation : ')\n",
    "if r == 'father': # checks the relation if given input and condition is matched or not\n",
    "    print('Manoj father name is : Shiva')\n",
    "elif d == 'mother':\n",
    "    print('Manoj Mother name is : Letha')\n",
    "elif d == 'brother':\n",
    "    print('Manoj brother name is : Tarun')\n",
    "elif d == 'sister':\n",
    "    print('Manoj sister name is : Kavitha')\n",
    "elif d == 'strange':\n",
    "    print('Manoj Strange name is : Coder')"
   ]
  },
  {
   "cell_type": "code",
   "execution_count": 17,
   "metadata": {},
   "outputs": [
    {
     "name": "stdout",
     "output_type": "stream",
     "text": [
      "enter relation : mother\n",
      "Manoj Mother name is : Letha\n"
     ]
    }
   ],
   "source": [
    "r = input('enter relation : ')\n",
    "\n",
    "if r == 'father':\n",
    "    print('Manoj father name is : Shiva')\n",
    "elif r == 'mother':\n",
    "    print('Manoj Mother name is : Letha') # checks the relation if given input and condition is matched or not\n",
    "elif r == 'brother':\n",
    "    print('Manoj brother name is : Tarun')\n",
    "elif r == 'sister':\n",
    "    print('Manoj sister name is : Kavitha')\n",
    "elif r == 'strange':\n",
    "    print('Manoj Strange name is : Coder')"
   ]
  },
  {
   "cell_type": "markdown",
   "metadata": {},
   "source": [
    "#### 11) Create a dynamic calculator which asks for numbers and operator and return the answers,\n",
    "* Example\n",
    "* Input: Type first number: 10\",\n",
    "* Type any of this (+, -, *, /, %, **): ,*\n",
    "* Assignment-2 ,\n",
    "* Type second number: 19,\n",
    "* Output:Answer is 190\n",
    " "
   ]
  },
  {
   "cell_type": "code",
   "execution_count": 50,
   "metadata": {},
   "outputs": [
    {
     "name": "stdout",
     "output_type": "stream",
     "text": [
      "enter number-1 : 10\n",
      "enter number-2 : 20\n",
      "your assignment operator choosen ('+','-','*','/','%','//','**') : /\n",
      "output answer is 10 / 20 is :  0.5\n"
     ]
    }
   ],
   "source": [
    "n1 = int(input('enter number-1 : '))\n",
    "n2 = int(input('enter number-2 : '))\n",
    "a = input(\"your assignment operator choosen ('+','-','*','/','%','//','**') : \")\n",
    "\n",
    "if a == '+':\n",
    "    print(f'output answer is {n1} {a} {n2} is : ',n1+n2) # by checking the condition and input given and prints in the format string. \n",
    "elif a == '-':\n",
    "     print(f'output answer is {n1} {a} {n2} is : ',n1-n2)\n",
    "elif a == '*':\n",
    "     print(f'output answer is {n1} {a} {n2} is : ',n1*n2)\n",
    "elif a == '/':\n",
    "     print(f'output answer is {n1} {a} {n2} is : ',n1/n2)\n",
    "elif a == '%':\n",
    "     print(f'output answer is {n1} {a} {n2} is : ',n1%n2)\n",
    "elif a == '//':\n",
    "     print(f'output answer is {n1} {a} {n2} is : ',n1//n2)\n",
    "elif a == '**':\n",
    "     print(f'output answer is {n1} {a} {n2} is : ',n1**n2)\n",
    "else:\n",
    "    print('Invalid input')"
   ]
  },
  {
   "cell_type": "markdown",
   "metadata": {},
   "source": [
    "#### 13) Write a python program that takes in a word and determines whether or not it is plural. A plural word is one that ends with “s”"
   ]
  },
  {
   "cell_type": "code",
   "execution_count": 31,
   "metadata": {},
   "outputs": [
    {
     "name": "stdout",
     "output_type": "stream",
     "text": [
      "enter a string : man\n",
      "mans\n"
     ]
    }
   ],
   "source": [
    "y = input('enter a string : ')\n",
    "\n",
    "if y.endswith('s'):\n",
    "    print(y)\n",
    "else:\n",
    "    print((y)+('s'))"
   ]
  },
  {
   "cell_type": "code",
   "execution_count": 32,
   "metadata": {},
   "outputs": [
    {
     "name": "stdout",
     "output_type": "stream",
     "text": [
      "enter a string : is\n",
      "is\n"
     ]
    }
   ],
   "source": [
    "y = input('enter a string : ')\n",
    "\n",
    "if y.endswith('s'):\n",
    "    print(y)\n",
    "else:\n",
    "    print((y)+('s'))"
   ]
  },
  {
   "cell_type": "markdown",
   "metadata": {},
   "source": [
    "#### 14) A company decided to give a bonus of 5% to employees if his/her year of service is more than 5 years.Ask user for their salary and year of service and print the net bonus amount."
   ]
  },
  {
   "cell_type": "code",
   "execution_count": 59,
   "metadata": {},
   "outputs": [
    {
     "name": "stdout",
     "output_type": "stream",
     "text": [
      "enter salary : 20000\n",
      "enter the year of duration : 5\n",
      "your bouns amount is :  21000.0\n"
     ]
    }
   ],
   "source": [
    "salary = int(input('enter salary : '))\n",
    "duration = int(input('enter the year of duration : '))\n",
    "if duration >=5:\n",
    "    print('your bouns amount is : ', salary+(5/100*salary))\n",
    "else:\n",
    "    print('your bouns amount is : ', salary)"
   ]
  },
  {
   "cell_type": "code",
   "execution_count": 68,
   "metadata": {},
   "outputs": [
    {
     "name": "stdout",
     "output_type": "stream",
     "text": [
      "enter salary : 20000\n",
      "enter the year of duration : 1\n",
      "your bouns amount is :  20000\n"
     ]
    }
   ],
   "source": [
    "salary = int(input('enter salary : '))\n",
    "duration = int(input('enter the year of duration : '))\n",
    "if duration >=5:\n",
    "    print('your bouns amount is : ', salary+(5/100*salary))\n",
    "else:\n",
    "    print('your bouns amount is : ', salary)"
   ]
  },
  {
   "cell_type": "markdown",
   "metadata": {},
   "source": [
    "#### 15) Take values of length and breadth of a rectangle from the user and check if it is square or not."
   ]
  },
  {
   "cell_type": "code",
   "execution_count": 51,
   "metadata": {},
   "outputs": [
    {
     "name": "stdout",
     "output_type": "stream",
     "text": [
      "enter l1 length : 10\n",
      "enter l2 length : 10\n",
      "enter l3 length : 10\n",
      "enter l4 length : 10\n",
      "it's a sqaure\n"
     ]
    }
   ],
   "source": [
    "l1 = int(input('enter l1 length : '))\n",
    "l2 = int(input('enter l2 length : '))\n",
    "l3 = int(input('enter l3 length : '))\n",
    "l4 = int(input('enter l4 length : '))\n",
    "if l1 == l2 and l3 == l4:\n",
    "    print('it\\'s a sqaure')\n",
    "else:\n",
    "    print('it\\'s not a sqaure')"
   ]
  },
  {
   "cell_type": "markdown",
   "metadata": {},
   "source": [
    "#### 16) Accept any city from the user and display the momentum of the city \n",
    "* Hyderabad  : “charminar”\n",
    "* “Delhi”         : “red fort\n",
    "* “Agra           : Taj mahal\n",
    "#### If the city name is not given correctly, give him a warning message."
   ]
  },
  {
   "cell_type": "code",
   "execution_count": 54,
   "metadata": {},
   "outputs": [
    {
     "name": "stdout",
     "output_type": "stream",
     "text": [
      "enter a city : Hyderabad\n",
      "Chairminar\n"
     ]
    }
   ],
   "source": [
    "s = input('enter a city : ')\n",
    "a = ['Hyderabad','Delhi','Agra']\n",
    "\n",
    "if s in a:\n",
    "    if s == a[0]: # by givimg the indexing of the string and prints the output to that input given.\n",
    "        print('Chairminar')\n",
    "    elif s == a[1]:\n",
    "        print('Red_Fort')\n",
    "    elif s == a[2]:\n",
    "        print('Taj_Mahel')\n",
    "else:\n",
    "    print(\"city name is not given correctly\")  "
   ]
  },
  {
   "cell_type": "code",
   "execution_count": null,
   "metadata": {},
   "outputs": [],
   "source": [
    "s = input('enter a city : ')\n",
    "a = ['Hyderabad','Delhi','Agra']\n",
    "\n",
    "if s in a:\n",
    "    if s == a[0]: \n",
    "        print('Chairminar')\n",
    "    elif s == a[1]:\n",
    "        print('Red_Fort')\n",
    "    elif s == a[2]:\n",
    "        print('Taj_Mahel')\n",
    "else:\n",
    "    print(\"city name is not given correctly\")  "
   ]
  },
  {
   "cell_type": "markdown",
   "metadata": {},
   "source": [
    "#### 17) Write a program to check whether a person is eligible for voting or not  (voting age>=18)."
   ]
  },
  {
   "cell_type": "code",
   "execution_count": 56,
   "metadata": {},
   "outputs": [
    {
     "name": "stdout",
     "output_type": "stream",
     "text": [
      "enter your age : 22\n",
      "you are eligible for vote\n"
     ]
    }
   ],
   "source": [
    "age = int(input('enter your age : '))\n",
    "if age>=18: \n",
    "    print('you are eligible for vote')\n",
    "else:\n",
    "    print('you are not eligible for vote')"
   ]
  },
  {
   "cell_type": "code",
   "execution_count": 58,
   "metadata": {},
   "outputs": [
    {
     "name": "stdout",
     "output_type": "stream",
     "text": [
      "enter your age : 16\n",
      "you are not eligible for vote\n"
     ]
    }
   ],
   "source": [
    "age = int(input('enter your age : '))\n",
    "if age>=18: \n",
    "    print('you are eligible for vote')\n",
    "else:\n",
    "    print('you are not eligible for vote')"
   ]
  },
  {
   "cell_type": "markdown",
   "metadata": {},
   "source": [
    "#### 18) Accept three sides of the triangle and check whether the triangle is possible or not.(Triangle is possible only when the sum of any two sides is greater than 3 rd side). "
   ]
  },
  {
   "cell_type": "code",
   "execution_count": 61,
   "metadata": {},
   "outputs": [
    {
     "name": "stdout",
     "output_type": "stream",
     "text": [
      "enter side1 length : 10\n",
      "enter side2 length : 10\n",
      "enter side3 length : 10\n",
      "is's a triangle\n"
     ]
    }
   ],
   "source": [
    "s1 = int(input('enter side1 length : '))\n",
    "s2 = int(input('enter side2 length : '))\n",
    "s3 = int(input('enter side3 length : '))\n",
    "\n",
    "if s1 + s2 == s3 and s2 + s3 == s1 and s3 +s1 == s2:\n",
    "    print('is\\'s a triangle')\n",
    "else:\n",
    "    print('is\\'s a triangle')"
   ]
  },
  {
   "cell_type": "code",
   "execution_count": 67,
   "metadata": {},
   "outputs": [
    {
     "name": "stdout",
     "output_type": "stream",
     "text": [
      "enter side1 length : 20\n",
      "enter side2 length : 50\n",
      "enter side3 length : 30\n",
      "is's a not form of triangle\n"
     ]
    }
   ],
   "source": [
    "s1 = int(input('enter side1 length : '))\n",
    "s2 = int(input('enter side2 length : '))\n",
    "s3 = int(input('enter side3 length : '))\n",
    "\n",
    "if s1 + s2 > s3 and s2 + s3 > s1 and s3 + s1 > s2:\n",
    "    print('is\\'s a form of  triangle')\n",
    "else:\n",
    "    print('is\\'s a not form of triangle')"
   ]
  }
 ],
 "metadata": {
  "kernelspec": {
   "display_name": "Python 3",
   "language": "python",
   "name": "python3"
  },
  "language_info": {
   "codemirror_mode": {
    "name": "ipython",
    "version": 3
   },
   "file_extension": ".py",
   "mimetype": "text/x-python",
   "name": "python",
   "nbconvert_exporter": "python",
   "pygments_lexer": "ipython3",
   "version": "3.8.5"
  }
 },
 "nbformat": 4,
 "nbformat_minor": 4
}
