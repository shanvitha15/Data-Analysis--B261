{
 "cells": [
  {
   "cell_type": "markdown",
   "metadata": {},
   "source": [
    "##### 1) Create a function that takes two numbers as arguments (num, length) and returns a list of multiples of num until the list length reaches length.\n"
   ]
  },
  {
   "cell_type": "code",
   "execution_count": 14,
   "metadata": {},
   "outputs": [
    {
     "name": "stdout",
     "output_type": "stream",
     "text": [
      "enter a number :  7\n",
      "enter a length : 5\n",
      "list_of_multiples (7,5) is : [7, 14, 21, 28, 35]\n"
     ]
    }
   ],
   "source": [
    "num = int(input('enter a number :  '))\n",
    "length = int(input('enter a length : '))\n",
    "z = []\n",
    "for i in range(1, length + 1):\n",
    "    z.append(num * i)\n",
    "print(f'list_of_multiples ({num},{length}) is : {z}')"
   ]
  },
  {
   "cell_type": "code",
   "execution_count": 12,
   "metadata": {},
   "outputs": [
    {
     "name": "stdout",
     "output_type": "stream",
     "text": [
      "enter a number :  7\n",
      "enter a length : 5\n",
      "list_of_multiples (7,5) is : [7, 14, 21, 28, 35]\n"
     ]
    }
   ],
   "source": [
    "num = int(input('enter a number :  '))\n",
    "length = int(input('enter a length : '))\n",
    "z = []\n",
    "if num == 0 or length <= 0:\n",
    "    print('z')\n",
    "multiples = []\n",
    "current = num\n",
    "while len(multiples) < length:\n",
    "    multiples.append(current)\n",
    "    current += num\n",
    "print(f'list_of_multiples ({num},{length}) is : {multiples}')"
   ]
  },
  {
   "cell_type": "markdown",
   "metadata": {},
   "source": [
    "##### 2) Write a function that accepts the height and width (m, n) and an optional proc s and generates a list with m elements. Each element is a string consisting of either:\n",
    "\n",
    "* The default character (hash #) repeating n times (if no proc is given).\n",
    "* The character passed in through the proc repeating n times."
   ]
  },
  {
   "cell_type": "code",
   "execution_count": 22,
   "metadata": {},
   "outputs": [
    {
     "name": "stdout",
     "output_type": "stream",
     "text": [
      "enter m value : 3\n",
      "enter n value : 5\n",
      "enter special char : #\n",
      "#####\n",
      "#####\n",
      "#####\n"
     ]
    }
   ],
   "source": [
    "m = int(input('enter m value : '))\n",
    "n = int(input('enter n value : '))\n",
    "s = input('enter special char : ')\n",
    "\n",
    "for i in range(m):\n",
    "    for j in range(n):\n",
    "        print(s, end = '')\n",
    "        \n",
    "    print()"
   ]
  },
  {
   "cell_type": "code",
   "execution_count": 19,
   "metadata": {},
   "outputs": [
    {
     "name": "stdout",
     "output_type": "stream",
     "text": [
      "enter m value : 3\n",
      "enter n value : 5\n",
      "enter special char : *\n",
      "grid\n"
     ]
    }
   ],
   "source": [
    "m = int(input('enter m value : '))\n",
    "n = int(input('enter n value : '))\n",
    "p = input('enter special char : ')\n",
    "z = []\n",
    "if m <= 0 or n <= 0:\n",
    "    print('z')\n",
    "grid = []\n",
    "while len(grid) < m:\n",
    "    row = p * n\n",
    "    grid.append(row)\n",
    "\n",
    "print('grid')"
   ]
  },
  {
   "cell_type": "markdown",
   "metadata": {},
   "source": [
    "##### 3) You prepare a list to send to the insurance company. As you finish, you notice you misformatted it. Given a dictionary with at least one key/value pair, convert all the values to numbers."
   ]
  },
  {
   "cell_type": "code",
   "execution_count": 28,
   "metadata": {},
   "outputs": [
    {
     "name": "stdout",
     "output_type": "stream",
     "text": [
      "enter key value : j\n",
      "enter value value : 8\n",
      "{'j': 8}\n"
     ]
    }
   ],
   "source": [
    "key = input('enter key value : ')\n",
    "value = int(input('enter value value : '))\n",
    "itemss = {key:value}\n",
    "d = {}\n",
    "for key, value in itemss.items():\n",
    "    if isinstance(value,(int, float)):\n",
    "        d[key] = value\n",
    "    elif isinstance(value, str):\n",
    "        if value.isnumeric():\n",
    "            d[key] = int(value)\n",
    "        elif '.' in value and value.replace('.',\" \", 1).isdigit():\n",
    "            d[key] = float(value)\n",
    "        else:\n",
    "            d[key] = value\n",
    "    else:\n",
    "        d[key] = value\n",
    "print(d) "
   ]
  },
  {
   "cell_type": "markdown",
   "metadata": {},
   "source": [
    "##### 4) In each input list, every number repeats at least once, except for two. Write a function that returns the two unique numbers."
   ]
  },
  {
   "cell_type": "code",
   "execution_count": 12,
   "metadata": {},
   "outputs": [
    {
     "name": "stdout",
     "output_type": "stream",
     "text": [
      "enter a lst : 1,9,8,8,7,6,1,6\n",
      "return_unique 1,9,8,8,7,6,1,6 : ['9', '7']\n"
     ]
    }
   ],
   "source": [
    "a = input('enter a lst : ')\n",
    "counts = {}\n",
    "for num in a:\n",
    "    if num in counts:\n",
    "        counts[num] += 1\n",
    "    else:\n",
    "        counts[num] = 1\n",
    "unique = [num for num, count in counts.items() if count == 1]\n",
    "print(f'return_unique {a} : {unique}')"
   ]
  },
  {
   "cell_type": "code",
   "execution_count": 16,
   "metadata": {},
   "outputs": [
    {
     "name": "stdout",
     "output_type": "stream",
     "text": [
      "enter a lst : 1,9,8,8,7,6,1,6\n",
      "return_unique 1,9,8,8,7,6,1,6 : ['9', '7']\n"
     ]
    }
   ],
   "source": [
    "lst = input('enter a lst : ')\n",
    "counts = {}\n",
    "i = 0\n",
    "n = len(lst)\n",
    "while i < n:\n",
    "    num = lst[i]\n",
    "    if num in counts:\n",
    "        counts[num] += 1\n",
    "    else:\n",
    "        counts[num] = 1\n",
    "    i += 1\n",
    "unique = [num for num, count in counts.items() if count == 1]\n",
    "print(f'return_unique {a} : {unique}')"
   ]
  },
  {
   "cell_type": "markdown",
   "metadata": {},
   "source": [
    "##### 5) Create a function that takes a number (step) as an argument and returns the amount of boxes in that step of the sequence.\n",
    "* Step 0: Start with 0\n",
    "* Step 1: Add 3\n",
    "* Step 2: Subtract 1\n",
    "* Repeat Step 1 & 2 ..."
   ]
  },
  {
   "cell_type": "code",
   "execution_count": 23,
   "metadata": {},
   "outputs": [
    {
     "name": "stdout",
     "output_type": "stream",
     "text": [
      "enter step : 2\n",
      "5\n"
     ]
    }
   ],
   "source": [
    "step = int(input('enter step : '))\n",
    "box = 0\n",
    "i = 0\n",
    "while i <= step:\n",
    "    if i % 2 == 0:\n",
    "        box += 3\n",
    "    else:\n",
    "        box -= 1\n",
    "    i += 1\n",
    "print(box)"
   ]
  },
  {
   "cell_type": "code",
   "execution_count": 21,
   "metadata": {},
   "outputs": [
    {
     "name": "stdout",
     "output_type": "stream",
     "text": [
      "enter step : 3\n",
      "4\n"
     ]
    }
   ],
   "source": [
    "step = int(input('enter step : '))\n",
    "tb = 0\n",
    "cs = 0\n",
    "add = True\n",
    "while cs <= step:\n",
    "    if add:\n",
    "        tb += 3\n",
    "    else:\n",
    "        tb -= 1\n",
    "    add = not add  \n",
    "    cs += 1\n",
    "print(tb)"
   ]
  },
  {
   "cell_type": "markdown",
   "metadata": {},
   "source": [
    "##### 6) A number is said to be Harshad if it's exactly divisible by the sum of its digits. Create a function that determines whether a number is a Harshad or not."
   ]
  },
  {
   "cell_type": "code",
   "execution_count": 10,
   "metadata": {},
   "outputs": [
    {
     "name": "stdout",
     "output_type": "stream",
     "text": [
      "enter171\n",
      "it is a harsh hard\n"
     ]
    }
   ],
   "source": [
    "n = input(\"enter\")\n",
    "s = 0\n",
    "for i in n:\n",
    "    s+=int(i)\n",
    "if int(n)%s==0:\n",
    "    print(\"it is a harsh hard\")\n",
    "else:\n",
    "    print(\"it is not s hsrshhard\")"
   ]
  },
  {
   "cell_type": "markdown",
   "metadata": {},
   "source": [
    "##### 7) The challenge is to recreate the functionality of the title() method into a function called emphasise(). The title() method capitalises the first letter of every word and lowercases all of the other letters in the word."
   ]
  },
  {
   "cell_type": "code",
   "execution_count": 26,
   "metadata": {},
   "outputs": [
    {
     "name": "stdout",
     "output_type": "stream",
     "text": [
      "enter a string : kolhi\n"
     ]
    },
    {
     "ename": "AttributeError",
     "evalue": "'str' object has no attribute 'add'",
     "output_type": "error",
     "traceback": [
      "\u001b[1;31m---------------------------------------------------------------------------\u001b[0m",
      "\u001b[1;31mAttributeError\u001b[0m                            Traceback (most recent call last)",
      "\u001b[1;32m<ipython-input-26-32f61942f3ee>\u001b[0m in \u001b[0;36m<module>\u001b[1;34m\u001b[0m\n\u001b[0;32m     11\u001b[0m         \u001b[1;32melse\u001b[0m\u001b[1;33m:\u001b[0m\u001b[1;33m\u001b[0m\u001b[1;33m\u001b[0m\u001b[0m\n\u001b[0;32m     12\u001b[0m             \u001b[0mempw\u001b[0m \u001b[1;33m+=\u001b[0m \u001b[0mchar\u001b[0m\u001b[1;33m.\u001b[0m\u001b[0mlower\u001b[0m\u001b[1;33m(\u001b[0m\u001b[1;33m)\u001b[0m\u001b[1;33m\u001b[0m\u001b[1;33m\u001b[0m\u001b[0m\n\u001b[1;32m---> 13\u001b[1;33m         \u001b[0mempw\u001b[0m\u001b[1;33m.\u001b[0m\u001b[0madd\u001b[0m\u001b[1;33m(\u001b[0m\u001b[0mempw\u001b[0m\u001b[1;33m)\u001b[0m\u001b[1;33m\u001b[0m\u001b[1;33m\u001b[0m\u001b[0m\n\u001b[0m\u001b[0;32m     14\u001b[0m \u001b[0mprint\u001b[0m\u001b[1;33m(\u001b[0m\u001b[1;34m\" \"\u001b[0m\u001b[1;33m.\u001b[0m\u001b[0mjoin\u001b[0m\u001b[1;33m(\u001b[0m\u001b[0mempw\u001b[0m\u001b[1;33m)\u001b[0m\u001b[1;33m)\u001b[0m\u001b[1;33m\u001b[0m\u001b[1;33m\u001b[0m\u001b[0m\n",
      "\u001b[1;31mAttributeError\u001b[0m: 'str' object has no attribute 'add'"
     ]
    }
   ],
   "source": [
    "emp = input('enter a string : ')\n",
    "if not emp:\n",
    "    print(\" \")\n",
    "word = s.split()\n",
    "empw = []\n",
    "for word in word:\n",
    "    empw = \"\"\n",
    "    for i, char in enumerate(word):\n",
    "        if i == 0:\n",
    "            empw += char.upper()\n",
    "        else:\n",
    "            empw += char.lower()\n",
    "        empw.add(empw)\n",
    "print(\" \".join(empw))"
   ]
  },
  {
   "cell_type": "markdown",
   "metadata": {},
   "source": [
    "##### 8) To train for an upcoming marathon, Johnny goes on one long-distance run each Saturday. He wants to track how often the number of miles he runs exceeds the previous Saturday. This is called a progress day.\n",
    "\n",
    "* Create a function that takes in a list of miles run every Saturday and returns Johnny's total number of progress days."
   ]
  },
  {
   "cell_type": "code",
   "execution_count": 37,
   "metadata": {},
   "outputs": [
    {
     "name": "stdout",
     "output_type": "stream",
     "text": [
      "enter miles run : 10,10,11,12\n",
      "4\n"
     ]
    }
   ],
   "source": [
    "mile = input('enter miles run : ')\n",
    "progress = 0\n",
    "for i in range(1, len(mile)):\n",
    "    if mile[i] > mile[i - 1]:\n",
    "        progress += 1\n",
    "print(progress)"
   ]
  },
  {
   "cell_type": "code",
   "execution_count": 34,
   "metadata": {},
   "outputs": [
    {
     "name": "stdout",
     "output_type": "stream",
     "text": [
      "enter miles run : 9,9\n",
      "1\n"
     ]
    }
   ],
   "source": [
    "mile = input('enter miles run : ')\n",
    "if len(mile) < 2:\n",
    "    print(0)\n",
    "progress = 0\n",
    "i = 1\n",
    "while i < len(mile):\n",
    "    if mile[i] > mile[i - 1]:\n",
    "        progress += 1\n",
    "    i += 1\n",
    "print(progress)"
   ]
  },
  {
   "cell_type": "markdown",
   "metadata": {},
   "source": [
    "# Easy Pograms:"
   ]
  },
  {
   "cell_type": "markdown",
   "metadata": {},
   "source": [
    "##### 1) Given a list of numbers, create a function which returns the list but with each element's index in the list added to itself. This means you add 0 to the number at index 0, add 1 to the number at index 1, etc.."
   ]
  },
  {
   "cell_type": "code",
   "execution_count": 45,
   "metadata": {},
   "outputs": [
    {
     "name": "stdout",
     "output_type": "stream",
     "text": [
      "enter lst : 0,0,0,0,0\n"
     ]
    },
    {
     "ename": "TypeError",
     "evalue": "can only concatenate str (not \"int\") to str",
     "output_type": "error",
     "traceback": [
      "\u001b[1;31m---------------------------------------------------------------------------\u001b[0m",
      "\u001b[1;31mTypeError\u001b[0m                                 Traceback (most recent call last)",
      "\u001b[1;32m<ipython-input-45-fafadbd5c910>\u001b[0m in \u001b[0;36m<module>\u001b[1;34m\u001b[0m\n\u001b[0;32m      3\u001b[0m \u001b[0mi\u001b[0m \u001b[1;33m=\u001b[0m \u001b[1;36m0\u001b[0m\u001b[1;33m\u001b[0m\u001b[1;33m\u001b[0m\u001b[0m\n\u001b[0;32m      4\u001b[0m \u001b[1;32mwhile\u001b[0m \u001b[0mi\u001b[0m \u001b[1;33m<\u001b[0m \u001b[0mlen\u001b[0m\u001b[1;33m(\u001b[0m\u001b[0mlist\u001b[0m\u001b[1;33m)\u001b[0m\u001b[1;33m:\u001b[0m\u001b[1;33m\u001b[0m\u001b[1;33m\u001b[0m\u001b[0m\n\u001b[1;32m----> 5\u001b[1;33m     \u001b[0mr\u001b[0m \u001b[1;33m+\u001b[0m \u001b[1;33m(\u001b[0m\u001b[0mlist\u001b[0m\u001b[1;33m[\u001b[0m\u001b[0mi\u001b[0m\u001b[1;33m]\u001b[0m \u001b[1;33m+\u001b[0m \u001b[0mi\u001b[0m\u001b[1;33m)\u001b[0m\u001b[1;33m\u001b[0m\u001b[1;33m\u001b[0m\u001b[0m\n\u001b[0m\u001b[0;32m      6\u001b[0m     \u001b[0mi\u001b[0m \u001b[1;33m+=\u001b[0m \u001b[1;36m1\u001b[0m\u001b[1;33m\u001b[0m\u001b[1;33m\u001b[0m\u001b[0m\n\u001b[0;32m      7\u001b[0m \u001b[0mprint\u001b[0m\u001b[1;33m(\u001b[0m\u001b[0mr\u001b[0m\u001b[1;33m)\u001b[0m\u001b[1;33m\u001b[0m\u001b[1;33m\u001b[0m\u001b[0m\n",
      "\u001b[1;31mTypeError\u001b[0m: can only concatenate str (not \"int\") to str"
     ]
    }
   ],
   "source": [
    "list = input('enter lst : ')\n",
    "r = []\n",
    "i = 0\n",
    "while i < len(list):\n",
    "    r + (list[i] + i)\n",
    "    i += 1\n",
    "print(r)"
   ]
  },
  {
   "cell_type": "code",
   "execution_count": 48,
   "metadata": {},
   "outputs": [
    {
     "name": "stdout",
     "output_type": "stream",
     "text": [
      "enter list : 0,0,0,0,0\n"
     ]
    },
    {
     "ename": "TypeError",
     "evalue": "can only concatenate str (not \"int\") to str",
     "output_type": "error",
     "traceback": [
      "\u001b[1;31m---------------------------------------------------------------------------\u001b[0m",
      "\u001b[1;31mTypeError\u001b[0m                                 Traceback (most recent call last)",
      "\u001b[1;32m<ipython-input-48-41be9f272f1c>\u001b[0m in \u001b[0;36m<module>\u001b[1;34m\u001b[0m\n\u001b[0;32m      3\u001b[0m \u001b[1;32mfor\u001b[0m \u001b[0mi\u001b[0m \u001b[1;32min\u001b[0m \u001b[0mrange\u001b[0m\u001b[1;33m(\u001b[0m\u001b[0mlen\u001b[0m\u001b[1;33m(\u001b[0m\u001b[0mlist\u001b[0m\u001b[1;33m)\u001b[0m\u001b[1;33m)\u001b[0m\u001b[1;33m:\u001b[0m\u001b[1;33m\u001b[0m\u001b[1;33m\u001b[0m\u001b[0m\n\u001b[0;32m      4\u001b[0m     \u001b[0mnum\u001b[0m \u001b[1;33m=\u001b[0m \u001b[0mlist\u001b[0m\u001b[1;33m[\u001b[0m\u001b[0mi\u001b[0m\u001b[1;33m]\u001b[0m\u001b[1;33m\u001b[0m\u001b[1;33m\u001b[0m\u001b[0m\n\u001b[1;32m----> 5\u001b[1;33m     \u001b[0mr1\u001b[0m \u001b[1;33m=\u001b[0m \u001b[0mr\u001b[0m \u001b[1;33m+\u001b[0m \u001b[1;33m(\u001b[0m\u001b[0mnum\u001b[0m \u001b[1;33m+\u001b[0m \u001b[1;36m1\u001b[0m\u001b[1;33m)\u001b[0m\u001b[1;33m\u001b[0m\u001b[1;33m\u001b[0m\u001b[0m\n\u001b[0m\u001b[0;32m      6\u001b[0m \u001b[0mprint\u001b[0m\u001b[1;33m(\u001b[0m\u001b[0mr1\u001b[0m\u001b[1;33m)\u001b[0m\u001b[1;33m\u001b[0m\u001b[1;33m\u001b[0m\u001b[0m\n",
      "\u001b[1;31mTypeError\u001b[0m: can only concatenate str (not \"int\") to str"
     ]
    }
   ],
   "source": [
    "list = input('enter list : ')\n",
    "r = []\n",
    "for i in range(len(list)):\n",
    "    num = list[i]\n",
    "    r1 = r + (num + 1)\n",
    "print(r1)"
   ]
  },
  {
   "cell_type": "markdown",
   "metadata": {},
   "source": [
    "##### 2) This Triangular Number Sequence is generated from a pattern of dots that form a triangle. The first 5 numbers of the sequence, or dots, are:\n",
    "\n",
    "* 1, 3, 6, 10, 15\n",
    "* This means that the first triangle has just one dot, the second one has three dots, the third one has 6 dots and so on.\n",
    "\n",
    "* Write a function that returns the number of dots when given its corresponding triangle number of the sequence."
   ]
  },
  {
   "cell_type": "code",
   "execution_count": 66,
   "metadata": {},
   "outputs": [
    {
     "name": "stdout",
     "output_type": "stream",
     "text": [
      "enter triangle dots : 215\n",
      "23220\n"
     ]
    }
   ],
   "source": [
    "trid = int(input('enter triangle dots : '))\n",
    "if trid <= 0:\n",
    "    print(0)\n",
    "total = 0\n",
    "current = 1\n",
    "dotc = 1\n",
    "while current <= trid:\n",
    "    total += current\n",
    "    current += 1\n",
    "    dotc += current\n",
    "print(total)"
   ]
  },
  {
   "cell_type": "code",
   "execution_count": 65,
   "metadata": {},
   "outputs": [
    {
     "name": "stdout",
     "output_type": "stream",
     "text": [
      "enter triangle dots : 215\n",
      "23220\n"
     ]
    }
   ],
   "source": [
    "trid = int(input('enter triangle dots : '))\n",
    "if trid <= 0:\n",
    "    print(0)\n",
    "total = 0\n",
    "current = 1\n",
    "for current in range(1, trid+1):\n",
    "    total += current\n",
    "    dotc += current\n",
    "print(total)"
   ]
  },
  {
   "cell_type": "markdown",
   "metadata": {},
   "source": [
    "##### 3) In BlackJack, cards are counted with -1, 0, 1 values:\n",
    "\n",
    "* 2, 3, 4, 5, 6 are counted as +1\n",
    "* 7, 8, 9 are counted as 0\n",
    "* 10, J, Q, K, A are counted as -1\n",
    "##### Create a function that counts the number and returns it from the list of cards provided.\n",
    "\n"
   ]
  },
  {
   "cell_type": "code",
   "execution_count": 5,
   "metadata": {},
   "outputs": [
    {
     "name": "stdout",
     "output_type": "stream",
     "text": [
      "enter cards : 2\n",
      "0\n"
     ]
    }
   ],
   "source": [
    "cards = input('enter cards : ')\n",
    "count = 0\n",
    "i = 0\n",
    "while i < len(cards):\n",
    "    card = cards[i]\n",
    "    if card in [2,3,4,5,6]:\n",
    "        count += 1\n",
    "    elif card in [10,'J','K','Q','A']:\n",
    "        count -= 1\n",
    "    i += 1\n",
    "print(count)"
   ]
  },
  {
   "cell_type": "code",
   "execution_count": 3,
   "metadata": {},
   "outputs": [
    {
     "name": "stdout",
     "output_type": "stream",
     "text": [
      "enter cards : 10\n",
      "0\n"
     ]
    }
   ],
   "source": [
    "cards = input('enter cards : ')\n",
    "count = 0\n",
    "for i in range(len(cards)):\n",
    "    card = cards[i]\n",
    "    if card in [2,3,4,5,6]:\n",
    "        count += 1\n",
    "    elif card in [10,'J','K','Q','A']:\n",
    "        count -= 1\n",
    "    i += 1\n",
    "print(count)"
   ]
  },
  {
   "cell_type": "markdown",
   "metadata": {},
   "source": [
    "##### 4) Write a function that takes a list of elements and returns only the integers."
   ]
  },
  {
   "cell_type": "code",
   "execution_count": null,
   "metadata": {},
   "outputs": [
    {
     "name": "stdout",
     "output_type": "stream",
     "text": [
      "enter elements : 2\n"
     ]
    }
   ],
   "source": [
    "element = input('enter elements : ')\n",
    "integer = []\n",
    "i = 0\n",
    "while i < len(element):\n",
    "    if isinstance(element[i], int):\n",
    "        integer.add(element[i])\n",
    "        i += 1\n",
    "print(integer)   "
   ]
  },
  {
   "cell_type": "code",
   "execution_count": 2,
   "metadata": {},
   "outputs": [
    {
     "name": "stdout",
     "output_type": "stream",
     "text": [
      "enter elements : 2\n",
      "[]\n"
     ]
    }
   ],
   "source": [
    "element = input('enter elements : ')\n",
    "integers = []\n",
    "for element in element:\n",
    "    if isinstance(element, int):\n",
    "        integers.append(element)\n",
    "print(integers)"
   ]
  },
  {
   "cell_type": "markdown",
   "metadata": {},
   "source": [
    "##### 5) An isogram is a word that has no duplicate letters. Create a function that takes a string and returns either True or False depending on whether or not it's an \"isogram\""
   ]
  },
  {
   "cell_type": "code",
   "execution_count": null,
   "metadata": {},
   "outputs": [
    {
     "name": "stdout",
     "output_type": "stream",
     "text": [
      "enter word : algorism\n"
     ]
    }
   ],
   "source": [
    "word = input('enter word : ')\n",
    "word = word.lower()\n",
    "i = 0\n",
    "while i < len(word):\n",
    "    c = word[i]\n",
    "    j = i + 1\n",
    "    while j < len(word):\n",
    "        if c == word[j]:\n",
    "            print(False)\n",
    "    j += 1\n",
    "print(True)"
   ]
  }
 ],
 "metadata": {
  "kernelspec": {
   "display_name": "Python 3",
   "language": "python",
   "name": "python3"
  },
  "language_info": {
   "codemirror_mode": {
    "name": "ipython",
    "version": 3
   },
   "file_extension": ".py",
   "mimetype": "text/x-python",
   "name": "python",
   "nbconvert_exporter": "python",
   "pygments_lexer": "ipython3",
   "version": "3.8.5"
  }
 },
 "nbformat": 4,
 "nbformat_minor": 4
}
