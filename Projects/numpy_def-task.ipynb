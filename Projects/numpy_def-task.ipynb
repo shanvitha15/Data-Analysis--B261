{
 "cells": [
  {
   "cell_type": "code",
   "execution_count": 1,
   "metadata": {},
   "outputs": [],
   "source": [
    "import numpy as np"
   ]
  },
  {
   "cell_type": "markdown",
   "metadata": {},
   "source": [
    "#### 1. Write a function, foo_1, that takes a NumPy array `arr` and returns the indices of the elements that are closest to a given target. If target is not in the given array, it should return ‘no item found’"
   ]
  },
  {
   "cell_type": "code",
   "execution_count": 2,
   "metadata": {},
   "outputs": [],
   "source": [
    "def foo(arr, target):\n",
    "    index = np.where(arr == target)[0]\n",
    "    if index.size == 0:\n",
    "        return 'not found'\n",
    "    return index"
   ]
  },
  {
   "cell_type": "markdown",
   "metadata": {},
   "source": [
    "input - 1:"
   ]
  },
  {
   "cell_type": "code",
   "execution_count": 3,
   "metadata": {},
   "outputs": [],
   "source": [
    "arr = np.array([3,8,7,7,7,7,7,8,7,10])"
   ]
  },
  {
   "cell_type": "code",
   "execution_count": 4,
   "metadata": {},
   "outputs": [],
   "source": [
    "target = 7"
   ]
  },
  {
   "cell_type": "code",
   "execution_count": 5,
   "metadata": {},
   "outputs": [
    {
     "data": {
      "text/plain": [
       "array([2, 3, 4, 5, 6, 8], dtype=int64)"
      ]
     },
     "execution_count": 5,
     "metadata": {},
     "output_type": "execute_result"
    }
   ],
   "source": [
    "foo(arr, target)"
   ]
  },
  {
   "cell_type": "markdown",
   "metadata": {},
   "source": [
    "input - 2 :"
   ]
  },
  {
   "cell_type": "code",
   "execution_count": 6,
   "metadata": {},
   "outputs": [],
   "source": [
    "arr = np.array([3,8,7,7,7,7,7,8,7,10])"
   ]
  },
  {
   "cell_type": "code",
   "execution_count": 7,
   "metadata": {},
   "outputs": [],
   "source": [
    "target = 11"
   ]
  },
  {
   "cell_type": "code",
   "execution_count": 8,
   "metadata": {},
   "outputs": [
    {
     "data": {
      "text/plain": [
       "'not found'"
      ]
     },
     "execution_count": 8,
     "metadata": {},
     "output_type": "execute_result"
    }
   ],
   "source": [
    "foo(arr, target)"
   ]
  },
  {
   "cell_type": "markdown",
   "metadata": {},
   "source": [
    "### expalintion for above program : \n",
    "\n",
    "* step - 1 : import numpy as np imports NumPy to work with arrays\n",
    "* step - 2: Initialize an empty list index to store the matching indices later\n",
    "* STEP - 3 : Iterate through arr using enumerate, which gives us the index i and value x\n",
    "* step - 4 : Compare x to the target. If match, append i to index\n",
    "* step - 5 : After iteration, if index is empty (length 0), return 'no item found'\n",
    "* step - 6 : Otherwise, convert index to a NumPy array\n",
    "* step - 7 : And return the index array"
   ]
  },
  {
   "cell_type": "markdown",
   "metadata": {},
   "source": [
    "#### 2.  Write a user defined function foo_2 that takes a  2,3 dim NumPy array arr and returns a new n-1 dim array, where each element is replaced by the count of non-zero elements wrt axis"
   ]
  },
  {
   "cell_type": "code",
   "execution_count": 76,
   "metadata": {},
   "outputs": [],
   "source": [
    "def foo(arr, axis):\n",
    "    if arr.ndim == 2:\n",
    "        x=np.where(arr != 0, 1, 0)\n",
    "        counts=np.sum(x,axis=axis)\n",
    "        return counts\n",
    "    elif arr.ndim == 3:\n",
    "        x=np.where(arr != 0, 1, 0)\n",
    "        counts=np.sum(x,axis=axis)\n",
    "        return counts"
   ]
  },
  {
   "cell_type": "code",
   "execution_count": 77,
   "metadata": {},
   "outputs": [],
   "source": [
    "arr = np.array([[1, 2, 3, 4],\n",
    "                [0, 5, 0, 0],\n",
    "                [2, 0, 1, 0]])"
   ]
  },
  {
   "cell_type": "code",
   "execution_count": 78,
   "metadata": {},
   "outputs": [
    {
     "data": {
      "text/plain": [
       "array([4, 1, 2])"
      ]
     },
     "execution_count": 78,
     "metadata": {},
     "output_type": "execute_result"
    }
   ],
   "source": [
    "foo(arr, axis = 1)"
   ]
  },
  {
   "cell_type": "code",
   "execution_count": 79,
   "metadata": {},
   "outputs": [
    {
     "data": {
      "text/plain": [
       "array([2, 2, 2, 1])"
      ]
     },
     "execution_count": 79,
     "metadata": {},
     "output_type": "execute_result"
    }
   ],
   "source": [
    "foo(arr, axis = 0)"
   ]
  },
  {
   "cell_type": "code",
   "execution_count": 80,
   "metadata": {},
   "outputs": [],
   "source": [
    "arr1 = np.array([[[1, 2, 3, 4], [0, 5, 0, 0], [2, 0, 1, 0]],\n",
    "                [[2, 0, 1, 0], [0, 5, 0, 0], [1, 2, 3, 4]]])"
   ]
  },
  {
   "cell_type": "code",
   "execution_count": 81,
   "metadata": {},
   "outputs": [
    {
     "data": {
      "text/plain": [
       "array([[2, 1, 2, 1],\n",
       "       [0, 2, 0, 0],\n",
       "       [2, 1, 2, 1]])"
      ]
     },
     "execution_count": 81,
     "metadata": {},
     "output_type": "execute_result"
    }
   ],
   "source": [
    "foo(arr1 , axis = 0)"
   ]
  },
  {
   "cell_type": "code",
   "execution_count": 82,
   "metadata": {},
   "outputs": [
    {
     "data": {
      "text/plain": [
       "array([[2, 2, 2, 1],\n",
       "       [2, 2, 2, 1]])"
      ]
     },
     "execution_count": 82,
     "metadata": {},
     "output_type": "execute_result"
    }
   ],
   "source": [
    "foo(arr1 , axis = 1)"
   ]
  },
  {
   "cell_type": "code",
   "execution_count": 83,
   "metadata": {},
   "outputs": [
    {
     "data": {
      "text/plain": [
       "array([[4, 1, 2],\n",
       "       [2, 1, 4]])"
      ]
     },
     "execution_count": 83,
     "metadata": {},
     "output_type": "execute_result"
    }
   ],
   "source": [
    "foo(arr1 , axis = 2)"
   ]
  },
  {
   "cell_type": "markdown",
   "metadata": {},
   "source": [
    "### expalintion for above program : \n",
    "\n",
    "* Step-1 : creat a function which accepts array and axis .\n",
    "arr ----> which is array , axis ----> in arrays we have axis ,when axis=0 it collapsing the rows ,axis=1 is for columns\n",
    "\n",
    "* step-2 : if arr.ndim==2: ---> if the given array is 2 dim array then it executes the beneath of if statement .\n",
    "* step-3 : x=np.where(arr != 0, 1, 0) \"Where\" Function to create a new array x with the same shape as the input array. The elements of x are 1((which is True) the corresponding elements of arr are not equal to 0 ,if it is equal to zero then it is 0(which is False ).\n",
    "* step-4 : counts=np.sum(x,axis=axis)---> sum of x ,is nothing but count of non zero elements.\n",
    "* step-5 : returns counts\n",
    "* step-6 : the above functionality is same for 3 dim array"
   ]
  },
  {
   "cell_type": "markdown",
   "metadata": {},
   "source": [
    "#### 3. 1. You are given a 2D NumPy array of data representing student scores. Each row represents a student, and each column represents a subject. Extract the scores of all students who scored above 90 in at least one subject. Provide the resulting array."
   ]
  },
  {
   "cell_type": "code",
   "execution_count": 9,
   "metadata": {},
   "outputs": [],
   "source": [
    "def foo_marks(scores):\n",
    "    high = []\n",
    "    for row in scores:\n",
    "        for score in row:\n",
    "            if score > 90:\n",
    "                high.append(row)\n",
    "                break\n",
    "    return np.array(high)"
   ]
  },
  {
   "cell_type": "code",
   "execution_count": 10,
   "metadata": {},
   "outputs": [],
   "source": [
    "marks = np.array([[85, 89, 88],  \n",
    "                  [78, 89, 94],\n",
    "                  [91, 87, 90],\n",
    "                  [87, 95, 84]])\n"
   ]
  },
  {
   "cell_type": "code",
   "execution_count": 11,
   "metadata": {},
   "outputs": [
    {
     "data": {
      "text/plain": [
       "array([[78, 89, 94],\n",
       "       [91, 87, 90],\n",
       "       [87, 95, 84]])"
      ]
     },
     "execution_count": 11,
     "metadata": {},
     "output_type": "execute_result"
    }
   ],
   "source": [
    "foo_marks(marks)"
   ]
  },
  {
   "cell_type": "markdown",
   "metadata": {},
   "source": [
    "### expalintion for above program : \n",
    "\n",
    "* step -1 : Define the function foo_marks that takes one parameter called scores. This will be the 2D array of test scores.\n",
    "\n",
    "* step - 2: Initialize an empty list called high to store the rows of students who scored above 90.\n",
    "\n",
    "* step - 3 : Start iterating through each row in the scores array using a for loop. So row will contain the test scores for each student.\n",
    "\n",
    "* step - 4 : Nest another for loop that goes through each test score in the current row.We assign each test score to the variable score.\n",
    "\n",
    "* step - 5 : Check if the current test score is greater than 90 using a conditional.\n",
    "\n",
    "* step - 6 : If true, then we found a score above 90 for this student. So append the entire current row to the list high.\n",
    "\n",
    "* step - 7 : Use break to stop going through anymore scores in this row since we already found a >90 score.\n",
    "\n",
    "* step - 8 : After checking all rows in the array, convert the high list into a NumPy array.\n",
    "\n",
    "* step - 9 : Return the high scoring rows array."
   ]
  },
  {
   "cell_type": "markdown",
   "metadata": {},
   "source": [
    "#### 3.2. You are provided with a 2D NumPy array of data representing sales data for different products. Each row corresponds to a product, and each column represents the monthly sales for a specific month. Calculate the following statistics for each product: mean, median, standard deviation, and the month with the highest sales."
   ]
  },
  {
   "cell_type": "code",
   "execution_count": 23,
   "metadata": {},
   "outputs": [],
   "source": [
    "data = np.array([[120, 150, 130, 110],\n",
    "                [200, 180, 220, 250],\n",
    "                [90, 100,95, 110],\n",
    "                [300, 280, 320, 340]])\n",
    "\n",
    "def get_mean(array):\n",
    "    return np.mean(array)\n",
    "def get_median(array):\n",
    "    return np.median(array)  \n",
    "def get_std(array):\n",
    "    return np.std(array)   \n",
    "def get_max_month(array):\n",
    "    return np.argmax(array) + 1"
   ]
  },
  {
   "cell_type": "code",
   "execution_count": 24,
   "metadata": {},
   "outputs": [],
   "source": [
    "def foo(row):\n",
    "    mean = get_mean(row)\n",
    "    median = get_median(row)\n",
    "    stdev = get_std(row) \n",
    "    max_month = get_max_month(row)\n",
    "    print(f\"Mean: {mean:.2f}, Median: {median:.2f}, STD: {stdev:.2f}, Best Month: {max_month}\")"
   ]
  },
  {
   "cell_type": "code",
   "execution_count": 25,
   "metadata": {},
   "outputs": [
    {
     "name": "stdout",
     "output_type": "stream",
     "text": [
      "Mean: 127.50, Median: 125.00, STD: 14.79, Best Month: 2\n",
      "Mean: 212.50, Median: 210.00, STD: 25.86, Best Month: 4\n",
      "Mean: 98.75, Median: 97.50, STD: 7.40, Best Month: 4\n",
      "Mean: 310.00, Median: 310.00, STD: 22.36, Best Month: 4\n"
     ]
    }
   ],
   "source": [
    "for product_row in data:\n",
    "    foo(product_row)"
   ]
  },
  {
   "cell_type": "markdown",
   "metadata": {},
   "source": [
    "### expalintion for above program : \n",
    "\n",
    "1. <b>Define the statistics functions : </b>\n",
    "\n",
    "* step - 1 : get_mean() => Calculates and returns the mean of the given array (Numpy vectorized)\n",
    "* step - 2 : get_median() => Calculates and returns the median of the array\n",
    "* step - 3 : get_std() => Calculates and returns the standard deviation value\n",
    "* step - 4 : get_max_month() => Finds the index of the max value from array and returns the index +1 (Month number).\n",
    "2. <b> Define the foo() method : </b> \n",
    "\n",
    "* step - 5 : Calls get_mean(), get_median(), get_std() and get_max_month() by passing the row as argument to calculate the statistics on it.\n",
    "* step - 6 : It stores each returned statistic in a variable (mean, median, stdev, max_month)\n",
    "* step - 7 : Prints the results using f-string formatting to 2 decimal places\n",
    "3. <b>Loop over data : </b>\n",
    "* step - 8 : We have our data array containing rows of product sales\n",
    "* step - 9 : We loop over each product_row in data\n",
    "* step - 10 : We pass that product_row into foo() to print statistics"
   ]
  },
  {
   "cell_type": "markdown",
   "metadata": {},
   "source": [
    "#### 3.3.  Create a NumPy array of size 1000 with random integers between 1 and 100. Then, use NumPy functions to find the top 10 most frequently occurring values in the array.\n"
   ]
  },
  {
   "cell_type": "code",
   "execution_count": 26,
   "metadata": {},
   "outputs": [],
   "source": [
    "arr = np.random.randint(1, 100, 1000)"
   ]
  },
  {
   "cell_type": "code",
   "execution_count": 27,
   "metadata": {},
   "outputs": [
    {
     "data": {
      "text/plain": [
       "array([90, 48, 55, 74, 75, 87, 27, 85, 54, 55, 60, 99, 57, 55, 14, 28, 90,\n",
       "       77, 79, 33, 74, 33, 75, 74, 23, 31, 42, 84, 31, 62, 15, 45, 80, 74,\n",
       "       43, 85, 69, 97, 36, 28, 12,  4, 28, 33, 12, 36, 88, 83, 98, 51, 99,\n",
       "       93, 24, 50, 36, 85, 64,  8, 67, 11, 46, 71, 99,  5, 16, 31, 60, 77,\n",
       "       90, 20, 89, 38, 17, 43, 41, 86, 91, 97, 81, 64, 85, 96, 32, 93, 33,\n",
       "        7, 35, 54, 59, 36, 75, 95, 57, 89, 66, 34, 69, 74, 16, 59,  7, 20,\n",
       "       29, 49, 14, 48, 20, 42, 63, 26, 64,  9, 29, 85, 50, 47,  2, 65, 20,\n",
       "       83, 56, 48, 90,  5, 72, 63, 79, 30, 47, 17, 56, 23, 84, 88, 89, 15,\n",
       "       72, 29, 27, 16, 95, 53, 97, 87,  3, 29, 54, 89, 41, 40, 67,  5, 52,\n",
       "       23, 59, 81, 83,  1, 77, 30, 95, 15, 67,  8, 60, 11, 15, 63, 54, 57,\n",
       "       31, 14, 78, 94, 10, 83, 33, 44, 52, 77, 21,  3,  1, 33, 40, 45, 71,\n",
       "       11, 74, 85, 76, 54, 31,  7, 38, 77, 45, 50, 53, 32, 78, 80, 13, 61,\n",
       "       69, 14, 32, 33, 59, 71, 67, 31, 90, 51, 92, 68, 86, 66, 51, 23,  5,\n",
       "       73, 35,  9, 95, 83, 83, 92, 79,  7, 84, 51, 24, 96, 21, 36, 68, 96,\n",
       "       46, 77,  3, 89, 55, 34, 67, 47, 83, 43, 93, 74, 24, 11,  2, 43, 56,\n",
       "        9, 28,  4, 44, 40, 75, 83, 89, 85, 95, 67, 82, 45, 10, 91, 86, 92,\n",
       "       10, 94, 94, 16, 36, 93, 54,  1, 51, 27, 20, 92, 80,  3, 47,  3, 76,\n",
       "       51,  2, 51, 14, 90, 29, 34, 91, 25, 88,  5, 46, 35, 75, 91, 60, 71,\n",
       "        9, 71, 47, 64,  2, 30, 19, 11, 60, 99, 63, 62, 13, 38, 94, 10, 52,\n",
       "       58, 98,  3,  9, 57, 66,  9, 53, 61, 60, 81, 64, 92, 59, 14, 51, 14,\n",
       "       65, 76, 31, 24, 41, 71, 80, 82, 79, 21, 22,  5, 76, 11, 91, 89,  2,\n",
       "       66, 49, 10, 44, 11, 72, 75, 85, 31,  1, 65, 21, 43, 38, 59, 78,  1,\n",
       "       66, 53, 55, 11, 58, 76, 84, 47, 25, 33, 43, 98, 61,  9, 95, 77, 49,\n",
       "       94, 36, 63, 22, 35, 56, 20, 39, 82,  2, 19, 58, 31, 63, 54, 16, 24,\n",
       "       61, 19, 93, 56, 37, 81, 94, 89, 25, 72, 35, 63, 72,  6, 93, 61, 75,\n",
       "       19, 89, 34,  1, 30, 20, 78, 69, 29, 77, 41, 70, 62, 53, 14, 19, 25,\n",
       "       42, 51, 33, 53, 59, 66, 67, 29, 43, 72, 99, 11,  6, 97, 56, 42,  3,\n",
       "       60, 13, 97, 49,  5, 73, 29, 47, 73, 74, 65, 26, 53, 38, 50, 98, 64,\n",
       "       48, 82, 86, 37, 98, 27,  2, 93, 25, 21, 17, 13, 61, 20, 56, 36, 44,\n",
       "       10, 20, 73,  8, 44, 55,  8, 76, 91, 72, 67, 55, 11, 70, 32, 58, 52,\n",
       "       90, 62, 91, 78, 79, 87, 39, 45, 45, 59, 75, 48, 78, 20, 67, 26, 34,\n",
       "       21, 71, 34, 91, 45, 61, 49,  7, 85, 40, 45, 70, 88,  6, 96, 19, 72,\n",
       "       66, 92, 67, 55, 86,  5, 15, 41, 31, 22, 37, 21, 55, 13, 72, 23, 66,\n",
       "        4, 47, 83, 80, 18, 10, 83, 22, 62, 21, 76, 16, 95, 24, 35, 63, 64,\n",
       "       64, 27, 18, 35, 31, 60, 91, 77, 12, 46, 51,  6, 76,  3, 54, 64, 69,\n",
       "       44, 56, 47,  1, 86, 47, 49, 56, 96,  5, 99, 94, 88, 23, 57, 82, 18,\n",
       "       26, 43, 35, 63, 21, 78, 12, 49, 96,  3, 52, 79, 60, 18, 43, 94, 86,\n",
       "       69,  8, 53, 63, 93, 32, 70, 36, 73, 49, 29, 60, 67, 32, 15, 91, 46,\n",
       "       71, 46, 80, 45, 40, 37, 79, 43, 48, 72,  7, 18, 55, 82,  6, 33,  8,\n",
       "       47, 20, 37,  3, 83, 64, 71, 13, 31, 53, 63, 93, 76, 67, 90, 46, 21,\n",
       "       18, 81, 10, 72, 92, 33, 84,  8, 57, 13, 45, 87, 95, 80, 58, 25, 39,\n",
       "       70, 25, 55, 50, 22, 25, 94, 91, 24, 42, 89, 38, 59, 78, 33,  1, 18,\n",
       "       75, 12, 14, 70, 80, 46, 23, 49, 18, 87, 99, 18, 83, 77, 35, 77,  2,\n",
       "       24, 35, 70,  7, 65, 15, 69, 54, 51, 80, 19,  4, 17, 61, 62, 83, 16,\n",
       "       29, 94, 19,  3, 19, 57, 81,  9, 14, 54, 88, 57, 43, 13, 40,  6, 62,\n",
       "       16, 38,  2, 60, 48, 65, 12, 63, 35, 36, 71, 23,  7, 26, 19, 44, 37,\n",
       "       74, 22, 43, 94, 27, 82, 57, 48, 40, 82, 70, 80,  4, 45, 32, 46, 84,\n",
       "       10, 65, 60, 38, 20, 90, 90, 30, 54,  4, 92, 38,  9, 91, 65, 47, 26,\n",
       "        2, 83, 54, 91, 12, 24, 14, 77, 88, 23, 38, 85, 79, 72,  8, 99, 18,\n",
       "       26, 58, 98, 10, 16, 84, 99, 88, 22, 86, 86, 54, 25, 13, 88, 36, 73,\n",
       "       83, 39, 31, 75, 30, 88, 88, 43, 46, 87, 43, 28, 98, 90, 13, 68, 64,\n",
       "       30, 56, 22, 12, 40, 94, 53, 88, 85, 80, 95, 84, 17, 54, 93, 54, 54,\n",
       "       32, 55, 23, 21, 28, 53, 59, 91, 96, 90, 74, 80, 46, 60, 48,  7, 18,\n",
       "       64,  6, 96, 17, 43, 64, 31, 57, 41, 85, 63, 85, 20,  2, 35, 18, 92,\n",
       "       18,  8, 48, 38, 66, 98, 56, 96, 98, 77, 54, 30, 43, 61, 11, 98, 75,\n",
       "       61, 43, 23, 52, 70, 66, 90, 84, 70, 65, 83,  2, 82, 74, 16, 36, 34,\n",
       "       30, 75, 64, 59, 74, 82,  6, 62, 86,  4, 26,  7, 22, 35, 96, 29, 47,\n",
       "       69, 37, 42, 92, 70, 32, 29, 83, 72, 66, 38, 17, 70, 42, 26,  2, 86,\n",
       "       14, 92, 87, 80, 28, 40, 15, 90, 70, 10, 57, 44, 86, 40])"
      ]
     },
     "execution_count": 27,
     "metadata": {},
     "output_type": "execute_result"
    }
   ],
   "source": [
    "arr"
   ]
  },
  {
   "cell_type": "code",
   "execution_count": 28,
   "metadata": {},
   "outputs": [],
   "source": [
    "unique, counts = np.unique(arr, return_counts=True)"
   ]
  },
  {
   "cell_type": "code",
   "execution_count": 29,
   "metadata": {},
   "outputs": [],
   "source": [
    "freq = unique[np.argsort(counts)[::-1][:10]  "
   ]
  },
  {
   "cell_type": "code",
   "execution_count": 31,
   "metadata": {},
   "outputs": [
    {
     "name": "stdout",
     "output_type": "stream",
     "text": [
      "top 10 most frequent values that are occuring : \n",
      "value : 43, counts : 8\n",
      "value : 83, counts : 9\n",
      "value : 54, counts : 12\n",
      "value : 64, counts : 9\n",
      "value : 91, counts : 11\n",
      "value : 90, counts : 14\n",
      "value : 31, counts : 9\n",
      "value : 63, counts : 14\n",
      "value : 85, counts : 12\n",
      "value : 72, counts : 6\n"
     ]
    }
   ],
   "source": [
    "print(\"top 10 most frequent values that are occuring : \")\n",
    "for index in freq:\n",
    "    print(f'value : {index}, counts : {counts[index]}')"
   ]
  },
  {
   "cell_type": "markdown",
   "metadata": {},
   "source": [
    "### expalintion for above program : \n",
    "\n",
    "* step - 1 : Generate a random array arr with 1000 integers between 1 and 100 using np.random.randint.\n",
    "* step - 2 : Get the unique values present and their counts by passing return_counts=True in np.unique() function. This returns two arrays - unique values and their counts.\n",
    "* step - 3 : Sort the count array in descending order with np.argsort()[::-1]. Slicing [:10] limits to top 10 indices.\n",
    "* step - 4 : Use the sorted indices to index into the unique values array, so freq now contains the top 10 most frequent values.\n",
    "* step - 5 : Print heading for output results\n",
    "* step - 6 : Iterate through each of the top 10 values in freq array using a for loop\n",
    "* step - 7 : Print the value and fetch its corresponding count from the counts array using index position."
   ]
  }
 ],
 "metadata": {
  "kernelspec": {
   "display_name": "Python 3",
   "language": "python",
   "name": "python3"
  },
  "language_info": {
   "codemirror_mode": {
    "name": "ipython",
    "version": 3
   },
   "file_extension": ".py",
   "mimetype": "text/x-python",
   "name": "python",
   "nbconvert_exporter": "python",
   "pygments_lexer": "ipython3",
   "version": "3.8.5"
  }
 },
 "nbformat": 4,
 "nbformat_minor": 4
}
