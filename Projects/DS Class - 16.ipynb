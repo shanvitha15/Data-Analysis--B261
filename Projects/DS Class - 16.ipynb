{
 "cells": [
  {
   "cell_type": "markdown",
   "metadata": {},
   "source": [
    "# Conditional Statements :\n"
   ]
  },
  {
   "cell_type": "markdown",
   "metadata": {},
   "source": [
    "> ### What are conditional statements ? \n",
    "\n",
    "> > *  these are used to make the decision in the code.\n",
    "> > * allows the program to excute the code in set of instruction where these are true or false.\n",
    "> > * if condition is true, then it excutes next line, otherwise it exit the entire block of the code.\n",
    "\n",
    "> Types of condtional statements :\n",
    "* these conditional statements are of 4 types:\n",
    "> 1. if statements.\n",
    "> 2. nested-if statements.\n",
    "> 3. if-else statements.\n",
    "> 4. if-elif-else statements.\n"
   ]
  },
  {
   "cell_type": "markdown",
   "metadata": {},
   "source": [
    "### 1) if-Statements :\n",
    ">  these statements will print if the condition is true only, otherwise it exits the code loop.\n",
    "* Syntax :\n",
    "    if(# some conditions ):"
   ]
  },
  {
   "cell_type": "code",
   "execution_count": 1,
   "metadata": {},
   "outputs": [
    {
     "name": "stdout",
     "output_type": "stream",
     "text": [
      "6\n",
      "div by 6\n"
     ]
    }
   ],
   "source": [
    "num = int(input())\n",
    "if num % 3 == 0 and num % 2 == 0: # 6 will be divisible by 2 and 3(satisfying these both conditions) \n",
    "    print('div by 6') # will prints the next line"
   ]
  },
  {
   "cell_type": "code",
   "execution_count": 2,
   "metadata": {},
   "outputs": [
    {
     "name": "stdout",
     "output_type": "stream",
     "text": [
      "7\n"
     ]
    }
   ],
   "source": [
    "num = int(input())\n",
    "if num % 3 == 0 and num % 2 == 0: # if anyone will not satisfy these conditions.\n",
    "    print('div by 6') #exits the code block and  will prints the input value."
   ]
  },
  {
   "cell_type": "markdown",
   "metadata": {},
   "source": [
    "### 2) nested-if statements :\n",
    "\n",
    "* if with in the if statements are called as nested-if statements.\n",
    "* Code to execute when both condition1 and condition2 are true "
   ]
  },
  {
   "cell_type": "code",
   "execution_count": 3,
   "metadata": {},
   "outputs": [
    {
     "name": "stdout",
     "output_type": "stream",
     "text": [
      "6\n",
      "div by 6\n"
     ]
    }
   ],
   "source": [
    "num = int(input())\n",
    "if num % 3 == 0: # condition 1 is true only it enter into 2nd condition\n",
    "    if num % 2 == 0: # condtion 2 is also satisfy, then goes to next line.\n",
    "        print('div by 6')"
   ]
  },
  {
   "cell_type": "code",
   "execution_count": 4,
   "metadata": {},
   "outputs": [
    {
     "name": "stdout",
     "output_type": "stream",
     "text": [
      "7\n"
     ]
    }
   ],
   "source": [
    "num = int(input())\n",
    "if num % 3 == 0:  # condition 1 is false then it doesn't enter into 2nd condition\n",
    "    if num % 2 == 0:\n",
    "        print('div by 6') # prints the input value if not satisfy both cases."
   ]
  },
  {
   "cell_type": "markdown",
   "metadata": {},
   "source": [
    "### 3) if-else statements :\n",
    "* these statement will excute when if condition is false, then interpreter will come out of block of code.\n",
    "* it is not necessary to write the else statement in each and every case.\n",
    "* it depends upon the logic that we should have to give another condition to print about that condition."
   ]
  },
  {
   "cell_type": "code",
   "execution_count": 5,
   "metadata": {},
   "outputs": [
    {
     "name": "stdout",
     "output_type": "stream",
     "text": [
      "enter a string :shanu\n",
      "the third letter is not upper\n"
     ]
    }
   ],
   "source": [
    "s = input('enter a string :')\n",
    "if ord(s[2]) in range(65, 91):\n",
    "    print('the thrid letter is upper case') # checks the string 3rd letter is upper or not\n",
    "else:\n",
    "    print('the third letter is not upper') # 3rd letter is not upper so it prints this statement."
   ]
  },
  {
   "cell_type": "code",
   "execution_count": 6,
   "metadata": {},
   "outputs": [
    {
     "name": "stdout",
     "output_type": "stream",
     "text": [
      "enter a string :shAnu\n",
      "the thrid letter is upper case\n"
     ]
    }
   ],
   "source": [
    "s = input('enter a string :')\n",
    "if ord(s[2]) in range(65, 91): # checks the string 3rd letter is upper or not\n",
    "    print('the thrid letter is upper case') # 3rd letter is upper than it excutes the below print statement.\n",
    "else:\n",
    "    print('the third letter is not upper')"
   ]
  },
  {
   "cell_type": "markdown",
   "metadata": {},
   "source": [
    "### 4) if-elif-else statements :\n",
    "\n",
    "* this checks if statements is false, then will give another condition statement other than if statement that may it will satisfy the condition.\n",
    "* these type of condition called if-elif-else statements."
   ]
  },
  {
   "cell_type": "code",
   "execution_count": 8,
   "metadata": {},
   "outputs": [
    {
     "name": "stdout",
     "output_type": "stream",
     "text": [
      "enter your marks60\n",
      "screening round\n"
     ]
    }
   ],
   "source": [
    "marks = float(input('enter your marks'))\n",
    "\n",
    "if marks >= 80: # condition false and goes to check another condition.\n",
    "    print('second round')\n",
    "elif marks >=70:\n",
    "    print('first round')# condition false and goes to check another condition.\n",
    "elif marks >= 60:\n",
    "    print('screening round') # condition is true and prints it's below statement.\n",
    "else:\n",
    "    print('study hard, see you later')"
   ]
  },
  {
   "cell_type": "code",
   "execution_count": 9,
   "metadata": {},
   "outputs": [
    {
     "name": "stdout",
     "output_type": "stream",
     "text": [
      "enter your marks20\n",
      "study hard, see you later\n"
     ]
    }
   ],
   "source": [
    "marks = float(input('enter your marks'))\n",
    "\n",
    "if marks >= 80: # condition false and goes to check another condition.\n",
    "    print('second round')\n",
    "elif marks >=70:\n",
    "    print('first round')# condition false and goes to check another condition.\n",
    "elif marks >= 60:\n",
    "    print('screening round') \n",
    "else:\n",
    "    print('study hard, see you later') # exits the block and print statement."
   ]
  },
  {
   "cell_type": "markdown",
   "metadata": {},
   "source": [
    "## Control Flow Statements :"
   ]
  },
  {
   "cell_type": "markdown",
   "metadata": {},
   "source": [
    "### What are control flow statements ?\n",
    "\n",
    "> control flow statements are nothing but, these keywords are used to help the flow of the control in code in our decided order.\n",
    "* Types of control flow statements :\n",
    "> 1. pass\n",
    "> 2. continue\n",
    "> 3. Break."
   ]
  },
  {
   "cell_type": "markdown",
   "metadata": {},
   "source": [
    "### 1) pass statement :\n",
    "* this keyword/control statement is used in programming the code:\n",
    "> when we are strucked at particular block of code and we know the next condition/ logic of the 2nd block code.\n",
    "> > its says that \" i will that i will keep the space for this block of code\"."
   ]
  },
  {
   "cell_type": "code",
   "execution_count": 18,
   "metadata": {},
   "outputs": [
    {
     "name": "stdout",
     "output_type": "stream",
     "text": [
      "7\n"
     ]
    }
   ],
   "source": [
    "num = int(input())\n",
    "if num % 3 == 0:\n",
    "    pass # it will keep some memory to that if block and goes to the next line. \n",
    "    if num % 2 == 0:\n",
    "        print('div by 6')   "
   ]
  },
  {
   "cell_type": "markdown",
   "metadata": {},
   "source": [
    "### 2) Continue statement :\n",
    "* this keyword/ control statement is used in programming the code as :\n",
    "> it restarts the excution program again with value increased by '+1'."
   ]
  },
  {
   "cell_type": "code",
   "execution_count": 10,
   "metadata": {},
   "outputs": [
    {
     "name": "stdout",
     "output_type": "stream",
     "text": [
      "current value of i is : 1\n",
      "current value of i is : 3\n",
      "current value of i is : 5\n"
     ]
    }
   ],
   "source": [
    "for i in range(1, 6):\n",
    "    if i % 2 == 0:\n",
    "        continue # starts the next iteration by increasing value +1.\n",
    "    else:\n",
    "        print(f'current value of i is : {i}')"
   ]
  },
  {
   "cell_type": "markdown",
   "metadata": {},
   "source": [
    "## While looping statements :"
   ]
  },
  {
   "cell_type": "markdown",
   "metadata": {},
   "source": [
    "### What is a while loop ? \n",
    "\n",
    "> * it's a block of code, it runs until it meet the condition = true.\n",
    "> *These type of looping statements are called as while looping statements.\n",
    "> * if condition = false, then it stops the program excution. "
   ]
  },
  {
   "cell_type": "code",
   "execution_count": 12,
   "metadata": {},
   "outputs": [
    {
     "name": "stdout",
     "output_type": "stream",
     "text": [
      "enter a number : 12\n",
      "enter a number : 33\n",
      "[12, 14, 16, 18, 20, 22, 24, 26, 28, 30, 32]\n",
      "[13, 15, 17, 19, 21, 23, 25, 27, 29, 31]\n"
     ]
    }
   ],
   "source": [
    "a = int(input('enter a number : ')) \n",
    "b = int(input('enter a number : '))\n",
    "g, s = max(a,b), min(a,b) # checks the min, and max numbers from the output given\n",
    "odd, even = [], [] # considering them as even list and odd list\n",
    "x = s\n",
    "while x in range(s, g): # it's start the iteration from the input = 12\n",
    "    if x % 2 == 0:\n",
    "        even.append(x) # even numbers will be this list\n",
    "    else:\n",
    "        odd.append(x) # odd numbers will be in this list\n",
    "    x+=1\n",
    "print(even) # printing the even list from even.append.\n",
    "print(odd) # printing the odd ;list from odd.append."
   ]
  },
  {
   "cell_type": "code",
   "execution_count": null,
   "metadata": {},
   "outputs": [],
   "source": []
  }
 ],
 "metadata": {
  "kernelspec": {
   "display_name": "Python 3",
   "language": "python",
   "name": "python3"
  },
  "language_info": {
   "codemirror_mode": {
    "name": "ipython",
    "version": 3
   },
   "file_extension": ".py",
   "mimetype": "text/x-python",
   "name": "python",
   "nbconvert_exporter": "python",
   "pygments_lexer": "ipython3",
   "version": "3.8.5"
  }
 },
 "nbformat": 4,
 "nbformat_minor": 4
}
