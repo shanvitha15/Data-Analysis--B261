{
 "cells": [
  {
   "cell_type": "markdown",
   "metadata": {},
   "source": [
    "## group task - 2 "
   ]
  },
  {
   "cell_type": "markdown",
   "metadata": {},
   "source": [
    "### pattern - 51"
   ]
  },
  {
   "cell_type": "code",
   "execution_count": 1,
   "metadata": {},
   "outputs": [
    {
     "name": "stdout",
     "output_type": "stream",
     "text": [
      "Enter the number of rows: 4\n",
      "DDDDDDD\n",
      " CCCCC\n",
      "  BBB\n",
      "   A\n"
     ]
    }
   ],
   "source": [
    "def foopattern(n):\n",
    "    \"\"\"\n",
    "    Generate a pattern of uppercase letters in a diagonal form based on the input value 'n'.\n",
    "\n",
    "    Parameters:\n",
    "    - n (int): The number of rows in the pattern.\n",
    "\n",
    "    Output:\n",
    "    Prints a pattern of uppercase letters and spaces, where each row contains letters in a diagonal form,\n",
    "    and spaces are used to create a symmetric pattern.\n",
    "    \"\"\"\n",
    "    decr = n * 2 - 1\n",
    "    for x in range(n, 0, -1):\n",
    "        for y in range(x, n):\n",
    "            print(\" \", end=\"\")\n",
    "        for z in range(1, decr + 1):\n",
    "            print(chr(x + 64), end=\"\")\n",
    "        decr -= 2\n",
    "        print()\n",
    "\n",
    "n = int(input(\"Enter the number of rows: \"))\n",
    "\n",
    "foopattern(n)"
   ]
  },
  {
   "cell_type": "markdown",
   "metadata": {},
   "source": [
    "### pattern - 52"
   ]
  },
  {
   "cell_type": "code",
   "execution_count": 2,
   "metadata": {},
   "outputs": [
    {
     "name": "stdout",
     "output_type": "stream",
     "text": [
      "Enter the decrement value: 4\n",
      " DDDD\n",
      "  BB\n",
      "   \n",
      "    \n"
     ]
    }
   ],
   "source": [
    "def foopattern(decr_value):\n",
    "    \"\"\"\n",
    "    Generate a pattern of uppercase letters in a diagonal form based on the input value 'decr_value'.\n",
    "\n",
    "    Parameters:\n",
    "    - decr_value (int): The value used for decrementing.\n",
    "\n",
    "    Output:\n",
    "    Prints a pattern of uppercase letters and spaces, where each row contains letters in a diagonal form,\n",
    "    and spaces are used to create a symmetric pattern.\n",
    "    \"\"\"\n",
    "    for x in range(4, 0, -1):\n",
    "        for y in range(x, 5):\n",
    "            print(\" \", end=\"\")\n",
    "        for z in range(1, decr_value + 1):\n",
    "            print(chr(decr_value + 64), end=\"\")\n",
    "        decr_value -= 2\n",
    "        print()\n",
    "\n",
    "decr_value = int(input(\"Enter the decrement value: \"))\n",
    "\n",
    "foopattern(decr_value)"
   ]
  },
  {
   "cell_type": "markdown",
   "metadata": {},
   "source": [
    "### pattern - 52"
   ]
  },
  {
   "cell_type": "code",
   "execution_count": 3,
   "metadata": {},
   "outputs": [
    {
     "name": "stdout",
     "output_type": "stream",
     "text": [
      "Enter the decrement value: 7\n",
      " ABCDEFG\n",
      "  ABCDE\n",
      "   ABC\n",
      "    A\n"
     ]
    }
   ],
   "source": [
    "def foopattern(decr_value):\n",
    "    \"\"\"\n",
    "    Generate a pattern of uppercase letters in a diagonal form based on the input value 'decr_value'.\n",
    "\n",
    "    Parameters:\n",
    "    - decr_value (int): The value used for decrementing.\n",
    "\n",
    "    Output:\n",
    "    Prints a pattern of uppercase letters and spaces, where each row contains letters in a diagonal form,\n",
    "    and spaces are used to create a symmetric pattern.\n",
    "    \"\"\"\n",
    "    for x in range(4, 0, -1):\n",
    "        for y in range(x, 5):\n",
    "            print(\" \", end=\"\")\n",
    "        for z in range(1, decr_value + 1):\n",
    "            print(chr(z + 64), end=\"\")\n",
    "        decr_value -= 2\n",
    "        print()\n",
    "\n",
    "decr_value = int(input(\"Enter the decrement value: \"))\n",
    "foopattern(decr_value)"
   ]
  },
  {
   "cell_type": "markdown",
   "metadata": {},
   "source": [
    "### pattern - 54"
   ]
  },
  {
   "cell_type": "code",
   "execution_count": 4,
   "metadata": {},
   "outputs": [
    {
     "name": "stdout",
     "output_type": "stream",
     "text": [
      "Enter the size of the pattern: 7\n",
      "*\n",
      "**\n",
      "***\n",
      "****\n",
      "*****\n",
      "******\n",
      "*******\n",
      "********\n",
      "*******\n",
      "******\n",
      "*****\n",
      "****\n",
      "***\n",
      "**\n",
      "*\n"
     ]
    }
   ],
   "source": [
    "def foopattern(size):\n",
    "    \"\"\"\n",
    "    Generate a pattern of asterisks in a specific form based on the input size.\n",
    "\n",
    "    Parameters:\n",
    "    - size (int): The size of the pattern.\n",
    "\n",
    "    Output:\n",
    "    Prints a pattern of asterisks, where each row contains asterisks in a specific form.\n",
    "    \"\"\"\n",
    "    for x in range(size, -(size + 1), -1):\n",
    "        for y in range(size, abs(x) - 1, -1):\n",
    "            print(\"*\", end=\"\")\n",
    "        print()\n",
    "\n",
    "size = int(input(\"Enter the size of the pattern: \"))\n",
    "\n",
    "foopattern(size)\n"
   ]
  },
  {
   "cell_type": "markdown",
   "metadata": {},
   "source": [
    "### pattern - 55"
   ]
  },
  {
   "cell_type": "code",
   "execution_count": 5,
   "metadata": {},
   "outputs": [
    {
     "name": "stdout",
     "output_type": "stream",
     "text": [
      "Enter the size of the pattern: 5\n",
      "5\n",
      "54\n",
      "543\n",
      "5432\n",
      "54321\n",
      "543210\n",
      "54321\n",
      "5432\n",
      "543\n",
      "54\n",
      "5\n"
     ]
    }
   ],
   "source": [
    "def foopattern(size):\n",
    "    \"\"\"\n",
    "    Generate a pattern of numbers in a specific form based on the input size.\n",
    "\n",
    "    Parameters:\n",
    "    - size (int): The size of the pattern.\n",
    "\n",
    "    Output:\n",
    "    Prints a pattern of numbers, where each row contains numbers in a specific form.\n",
    "    \"\"\"\n",
    "    for x in range(size, -(size + 1), -1):\n",
    "        for y in range(size, abs(x) - 1, -1):\n",
    "            print(y, end=\"\")\n",
    "        print()\n",
    "\n",
    "size = int(input(\"Enter the size of the pattern: \"))\n",
    "\n",
    "foopattern(size)"
   ]
  },
  {
   "cell_type": "markdown",
   "metadata": {},
   "source": [
    "### pattern - 56"
   ]
  },
  {
   "cell_type": "code",
   "execution_count": 6,
   "metadata": {},
   "outputs": [
    {
     "name": "stdout",
     "output_type": "stream",
     "text": [
      "D\n",
      "DC\n",
      "DCB\n",
      "DCBA\n",
      "DCB\n",
      "DC\n",
      "D\n"
     ]
    }
   ],
   "source": [
    "size = 3\n",
    "for x in range(size, -(size + 1), -1):\n",
    "    for y in range(size, abs(x) - 1, -1):\n",
    "        print(chr(y + 65), end=\"\")\n",
    "    print()"
   ]
  },
  {
   "cell_type": "markdown",
   "metadata": {},
   "source": [
    "### pattern - 57"
   ]
  },
  {
   "cell_type": "code",
   "execution_count": 7,
   "metadata": {},
   "outputs": [
    {
     "name": "stdout",
     "output_type": "stream",
     "text": [
      "D\n",
      "CD\n",
      "BCD\n",
      "ABCD\n",
      "BCD\n",
      "CD\n",
      "D\n"
     ]
    }
   ],
   "source": [
    "\n",
    "size = 3\n",
    "for x in range(size, -(size + 1), -1):\n",
    "    for y in range(abs(x), size + 1):\n",
    "        print(chr(y + 65), end=\"\")\n",
    "    print()"
   ]
  },
  {
   "cell_type": "markdown",
   "metadata": {},
   "source": [
    "### pattern - 58"
   ]
  },
  {
   "cell_type": "code",
   "execution_count": 8,
   "metadata": {},
   "outputs": [
    {
     "name": "stdout",
     "output_type": "stream",
     "text": [
      "*\n",
      "**\n",
      "***\n",
      "****\n",
      "***\n",
      "**\n",
      "*\n"
     ]
    }
   ],
   "source": [
    "size = 3\n",
    "for x in range(size, -(size + 1), -1):\n",
    "    for y in range(size, abs(x) - 1, -1):\n",
    "        print(\"*\", end=\"\")\n",
    "    print()"
   ]
  },
  {
   "cell_type": "markdown",
   "metadata": {},
   "source": [
    "### pattern - 59"
   ]
  },
  {
   "cell_type": "code",
   "execution_count": 9,
   "metadata": {},
   "outputs": [
    {
     "name": "stdout",
     "output_type": "stream",
     "text": [
      "   3\n",
      "  32\n",
      " 321\n",
      "3210\n",
      " 321\n",
      "  32\n",
      "   3\n"
     ]
    }
   ],
   "source": [
    "size = 3\n",
    "for x in range(size, -(size + 1), -1):\n",
    "    for y in range(abs(x), 0, -1):\n",
    "        print(\" \", end=\"\")\n",
    "    for z in range(size, abs(x) - 1, -1):\n",
    "        print(z, end=\"\")\n",
    "    print()"
   ]
  },
  {
   "cell_type": "markdown",
   "metadata": {},
   "source": [
    "### pattern - 60"
   ]
  },
  {
   "cell_type": "code",
   "execution_count": 10,
   "metadata": {},
   "outputs": [
    {
     "name": "stdout",
     "output_type": "stream",
     "text": [
      "   3\n",
      "  23\n",
      " 123\n",
      "0123\n",
      " 123\n",
      "  23\n",
      "   3\n"
     ]
    }
   ],
   "source": [
    "size = 3\n",
    "for x in range(size, -(size + 1), -1):\n",
    "    for y in range(abs(x), 0, -1):\n",
    "        print(\" \", end=\"\")\n",
    "    for z in range(abs(x), 4):\n",
    "        print(z, end=\"\")\n",
    "    print()"
   ]
  },
  {
   "cell_type": "markdown",
   "metadata": {},
   "source": [
    "### pattern - 61"
   ]
  },
  {
   "cell_type": "code",
   "execution_count": 11,
   "metadata": {},
   "outputs": [
    {
     "name": "stdout",
     "output_type": "stream",
     "text": [
      "enter size value : 5\n",
      "          \n",
      "        4 \n",
      "      3 4 \n",
      "    2 3 4 \n",
      "  1 2 3 4 \n",
      "0 1 2 3 4 \n",
      "  1 2 3 4 \n",
      "    2 3 4 \n",
      "      3 4 \n",
      "        4 \n",
      "          \n"
     ]
    }
   ],
   "source": [
    "size = int(input('enter size value : '))\n",
    "def pattern1():\n",
    "    '''size = int(input('enter size value : ')): This line takes user input and converts it to an integer, storing it in the \n",
    "    variable size. The user is prompted to enter a size value.\n",
    "\n",
    "def pattern1():: This line defines a function named pattern1. Functions in Python are defined using the def keyword.\n",
    "\n",
    "for x in range(size, -(size + 1), -1):: This outer loop iterates over a range of values for x, starting from size and \n",
    "going down to -(size + 1) with a step of -1. This loop controls the number of rows in the pattern.\n",
    "\n",
    "for y in range(abs(x), 0, -1):: This inner loop iterates over a range of values for y, starting from the absolute value \n",
    "of x and going down to 1 with a step of -1. This loop is responsible for printing spaces before the numbers in each row.\n",
    "\n",
    "for z in range(abs(x), size):: This inner loop iterates over a range of values for z, starting from the absolute value\n",
    "of x and going up to size. This loop is responsible for printing the numbers in each row.\n",
    "\n",
    "print(\" \", end=\" \"): This line prints a space without moving to the next line.\n",
    "\n",
    "print(z, end=\" \"): This line prints the value of z without moving to the next line.\n",
    "\n",
    "print(): This line prints a newline character, moving to the next line after each row of the pattern.\n",
    "\n",
    "Finally, the pattern1() function is called, which executes the pattern printing.\n",
    "    \n",
    "    '''\n",
    "    for x in range(size, -(size + 1), -1):\n",
    "        for y in range(abs(x), 0, -1):\n",
    "            print(\" \", end=\" \")\n",
    "        for z in range(abs(x), size):\n",
    "            print(z, end=\" \")\n",
    "        print()\n",
    "pattern1()"
   ]
  },
  {
   "cell_type": "markdown",
   "metadata": {},
   "source": [
    "### pattern - 62"
   ]
  },
  {
   "cell_type": "code",
   "execution_count": 12,
   "metadata": {},
   "outputs": [
    {
     "name": "stdout",
     "output_type": "stream",
     "text": [
      "enter size value : 5\n",
      "          \n",
      "        E \n",
      "      D E \n",
      "    C D E \n",
      "  B C D E \n",
      "A B C D E \n",
      "  B C D E \n",
      "    C D E \n",
      "      D E \n",
      "        E \n",
      "          \n"
     ]
    }
   ],
   "source": [
    "size = int(input('enter size value : '))\n",
    "def pattern2():\n",
    "    '''\n",
    "    size = int(input('enter size value : ')): This line takes user input and converts it to an integer, storing it in the variable size. The user is prompted to enter a size value.\n",
    "\n",
    "def pattern2():: This line defines a function named pattern2. Functions in Python are defined using the def keyword.\n",
    "\n",
    "for x in range(size, -(size + 1), -1):: This outer loop iterates over a range of values for x, starting from size and\n",
    "going down to -(size + 1) with a step of -1. This loop controls the number of rows in the pattern.\n",
    "\n",
    "for y in range(abs(x), 0, -1):: This inner loop iterates over a range of values for y, starting from the absolute value \n",
    "of x and going down to 1 with a step of -1. This loop is responsible for printing spaces before the letters in each row.\n",
    "\n",
    "for z in range(abs(x), size):: This inner loop iterates over a range of values for z, starting from the absolute value \n",
    "of x and going up to size. This loop is responsible for printing the letters in each row.\n",
    "\n",
    "print(chr(z + 65), end=\" \"): This line prints the uppercase letter corresponding to the ASCII value z + 65. chr() is a \n",
    "built-in function in Python that converts an ASCII value to its corresponding character.\n",
    "\n",
    "print(): This line prints a newline character, moving to the next line after each row of the pattern.\n",
    "\n",
    "Finally, the pattern2() function is called, which executes the pattern printing.\n",
    "    '''\n",
    "    for x in range(size, -(size + 1), -1):\n",
    "        for y in range(abs(x), 0, -1):\n",
    "            print(\" \", end=\" \")\n",
    "        for z in range(abs(x), size):\n",
    "            print(chr(z + 65), end=\" \")\n",
    "        print()\n",
    "pattern2()"
   ]
  },
  {
   "cell_type": "markdown",
   "metadata": {},
   "source": [
    "### pattern - 63"
   ]
  },
  {
   "cell_type": "code",
   "execution_count": 13,
   "metadata": {},
   "outputs": [
    {
     "name": "stdout",
     "output_type": "stream",
     "text": [
      "enter size value : 5\n",
      "          F \n",
      "        F E \n",
      "      F E D \n",
      "    F E D C \n",
      "  F E D C B \n",
      "F E D C B A \n",
      "  F E D C B \n",
      "    F E D C \n",
      "      F E D \n",
      "        F E \n",
      "          F \n"
     ]
    }
   ],
   "source": [
    "size = int(input('enter size value : '))\n",
    "def pattern3():\n",
    "    '''size = int(input('enter size value : ')): This line takes user input and converts it to an integer, storing it in the\n",
    "    variable size. The user is prompted to enter a size value.\n",
    "\n",
    "def pattern3():: This line defines a function named pattern3. Functions in Python are defined using the def keyword.\n",
    "\n",
    "for x in range(size, -(size + 1), -1):: This outer loop iterates over a range of values for x, starting from size and going \n",
    "down to -(size + 1) with a step of -1. This loop controls the number of rows in the pattern.\n",
    "\n",
    "for y in range(abs(x), 0, -1):: This inner loop iterates over a range of values for y, starting from the absolute value of x\n",
    "and going down to 1 with a step of -1. This loop is responsible for printing spaces before the letters in each row.\n",
    "\n",
    "for z in range(size, abs(x) - 1, -1):: This inner loop iterates over a range of values for z, starting from size and going down\n",
    "to abs(x) - 1. This loop is responsible for printing the letters in each row in reverse order.\n",
    "\n",
    "print(chr(z + 65), end=\" \"): This line prints the uppercase letter corresponding to the ASCII value z + 65. chr() is a built-in\n",
    "function in Python that converts an ASCII value to its corresponding character.\n",
    "\n",
    "print(): This line prints a newline character, moving to the next line after each row of the pattern.\n",
    "\n",
    "Finally, the pattern3() function is called, which executes the pattern printing.'''\n",
    "    \n",
    "    for x in range(size, -(size + 1), -1):\n",
    "        for y in range(abs(x), 0, -1):\n",
    "            print(\" \", end=\" \")\n",
    "        for z in range(size, abs(x) - 1, -1):\n",
    "            print(chr(z + 65), end=\" \")\n",
    "        print()\n",
    "pattern3()"
   ]
  },
  {
   "cell_type": "markdown",
   "metadata": {},
   "source": [
    "### pattern - 64"
   ]
  },
  {
   "cell_type": "code",
   "execution_count": 14,
   "metadata": {},
   "outputs": [
    {
     "name": "stdout",
     "output_type": "stream",
     "text": [
      "enter the row value : 5\n",
      "    * \n",
      "   * * \n",
      "  * * * \n",
      " * * * * \n"
     ]
    }
   ],
   "source": [
    "row = int(input('enter the row value : '))\n",
    "def pattern4():\n",
    "    '''row = int(input('enter the row value : ')): This line takes user input and converts it to an integer, storing it in the\n",
    "    variable row. The user is prompted to enter a row value.\n",
    "\n",
    "def pattern4():: This line defines a function named pattern4. Functions in Python are defined using the def keyword.\n",
    "\n",
    "for x in range(1, row):: This outer loop iterates over a range of values for x, starting from 1 and going up to row - 1. This \n",
    "loop controls the number of rows in the pattern.\n",
    "\n",
    "for y in range(row, x, -1):: This inner loop iterates over a range of values for y, starting from row and going down to x + 1 \n",
    "with a step of -1. This loop is responsible for printing spaces before the asterisks in each row.\n",
    "\n",
    "for z in range(0, x):: This inner loop iterates over a range of values for z, starting from 0 and going up to x - 1. This loop \n",
    "is responsible for printing the asterisks in each row.\n",
    "\n",
    "print(\" \", end=\"\"): This line prints a space without moving to the next line.\n",
    "\n",
    "print(\"* \", end=\"\"): This line prints an asterisk followed by a space without moving to the next line.\n",
    "\n",
    "print(): This line prints a newline character, moving to the next line after each row of the pattern.\n",
    "\n",
    "Finally, the pattern4() function is called, which executes the pattern printing.'''\n",
    "    for x in range(1, row):\n",
    "        for y in range(row, x, -1):\n",
    "            print(\" \", end=\"\")\n",
    "        for z in range(0,x):\n",
    "            print(\"* \", end=\"\")\n",
    "        print()\n",
    "pattern4()"
   ]
  },
  {
   "cell_type": "markdown",
   "metadata": {},
   "source": [
    "### pattern - 65"
   ]
  },
  {
   "cell_type": "code",
   "execution_count": 15,
   "metadata": {},
   "outputs": [
    {
     "name": "stdout",
     "output_type": "stream",
     "text": [
      "enter row value : 5\n",
      "    1 \n",
      "   2 2 \n",
      "  3 3 3 \n",
      " 4 4 4 4 \n"
     ]
    }
   ],
   "source": [
    "row = int(input('enter row value : '))\n",
    "def pattern5():\n",
    "    '''row = int(input('enter row value : ')): This line takes user input and converts it to an integer, storing it in the \n",
    "    variable row. The user is prompted to enter a row value.\n",
    "\n",
    "def pattern5():: This line defines a function named pattern5. Functions in Python are defined using the def keyword.\n",
    "\n",
    "for x in range(1, row):: This outer loop iterates over a range of values for x, starting from 1 and going up to row - 1. \n",
    "This loop controls the number of rows in the pattern.\n",
    "\n",
    "for y in range(row, x, -1):: This inner loop iterates over a range of values for y, starting from row and going down to x + 1 \n",
    "with a step of -1. This loop is responsible for printing spaces before the numbers in each row.\n",
    "\n",
    "for z in range(0, x):: This inner loop iterates over a range of values for z, starting from 0 and going up to x - 1. This loop \n",
    "is responsible for printing the numbers in each row. The numbers are repeated, and str(x) + \" \" is used to convert the number \n",
    "to a string and add a space after it.\n",
    "\n",
    "print(\" \", end=\"\"): This line prints a space without moving to the next line.\n",
    "\n",
    "print(str(x) + \" \", end=\"\"): This line prints the current value of x as a string followed by a space, without moving to the\n",
    "next line.\n",
    "\n",
    "print(): This line prints a newline character, moving to the next line after each row of the pattern.\n",
    "\n",
    "Finally, the pattern5() function is called, which executes the pattern printing.'''\n",
    "    for x in range(1, row):\n",
    "        for y in range(row, x, -1):\n",
    "            print(\" \", end=\"\")\n",
    "        for z in range(0, x):\n",
    "            print(str(x) + \" \", end=\"\")\n",
    "        print()\n",
    "pattern5()"
   ]
  },
  {
   "cell_type": "markdown",
   "metadata": {},
   "source": [
    "### pattern - 66"
   ]
  },
  {
   "cell_type": "code",
   "execution_count": 16,
   "metadata": {},
   "outputs": [
    {
     "name": "stdout",
     "output_type": "stream",
     "text": [
      "enter row value : 5\n",
      "    1 \n",
      "   1 2 \n",
      "  1 2 3 \n",
      " 1 2 3 4 \n"
     ]
    }
   ],
   "source": [
    "row = int(input('enter row value : '))\n",
    "def pattern6():\n",
    "    '''row = int(input('enter row value : ')): This line takes user input and converts it to an integer, storing it in the \n",
    "    variable row. The user is prompted to enter a row value.\n",
    "\n",
    "def pattern6():: This line defines a function named pattern6. Functions in Python are defined using the def keyword.\n",
    "\n",
    "for x in range(1, row):: This outer loop iterates over a range of values for x, starting from 1 and going up to row - 1. \n",
    "This loop controls the number of rows in the pattern.\n",
    "\n",
    "for y in range(row, x, -1):: This inner loop iterates over a range of values for y, starting from row and going down to x + 1 \n",
    "with a step of -1. This loop is responsible for printing spaces before the numbers in each row.\n",
    "\n",
    "for z in range(1, x + 1):: This inner loop iterates over a range of values for z, starting from 1 and going up to x. This loop \n",
    "is responsible for printing the numbers in each row. The numbers are repeated, and str(z) + \" \" is used to convert the number to a string and add a space after it.\n",
    "\n",
    "print(\" \", end=\"\"): This line prints a space without moving to the next line.\n",
    "\n",
    "print(str(z) + \" \", end=\"\"): This line prints the current value of z as a string followed by a space, without moving to the \n",
    "next line.\n",
    "\n",
    "print(): This line prints a newline character, moving to the next line after each row of the pattern.\n",
    "\n",
    "Finally, the pattern6() function is called, which executes the pattern printing.'''\n",
    "    for x in range(1, row):\n",
    "        for y in range(row, x, -1):\n",
    "            print(\" \", end=\"\")\n",
    "        for z in range(1, x + 1):\n",
    "            print(str(z) + \" \", end=\"\")\n",
    "        print()\n",
    "pattern6()"
   ]
  },
  {
   "cell_type": "markdown",
   "metadata": {},
   "source": [
    "### pattern - 67"
   ]
  },
  {
   "cell_type": "code",
   "execution_count": 17,
   "metadata": {},
   "outputs": [
    {
     "name": "stdout",
     "output_type": "stream",
     "text": [
      "enter row value : 5\n",
      "    A \n",
      "   B B \n",
      "  C C C \n",
      " D D D D \n"
     ]
    }
   ],
   "source": [
    "row = int(input('enter row value : '))\n",
    "def pattern7():\n",
    "    '''row = int(input('enter row value : ')): This line takes user input and converts it to an integer, storing it in the \n",
    "    variable row. The user is prompted to enter a row value.\n",
    "\n",
    "def pattern7():: This line defines a function named pattern7. Functions in Python are defined using the def keyword.\n",
    "\n",
    "for x in range(1, row):: This outer loop iterates over a range of values for x, starting from 1 and going up to row - 1. \n",
    "This loop controls the number of rows in the pattern.\n",
    "\n",
    "for y in range(row, x, -1):: This inner loop iterates over a range of values for y, starting from row and going down to x + 1 \n",
    "with a step of -1. This loop is responsible for printing spaces before the letters in each row.\n",
    "\n",
    "for z in range(0, x):: This inner loop iterates over a range of values for z, starting from 0 and going up to x - 1. This loop \n",
    "is responsible for printing the letters in each row. The chr(x + 64) expression converts the numeric value x to the \n",
    "corresponding uppercase letter using ASCII values.\n",
    "\n",
    "print(\" \", end=\"\"): This line prints a space without moving to the next line.\n",
    "\n",
    "print(chr(x + 64) + \" \", end=\"\"): This line prints the current uppercase letter corresponding to the ASCII value x + 64, \n",
    "followed by a space, without moving to the next line.\n",
    "\n",
    "print(): This line prints a newline character, moving to the next line after each row of the pattern.\n",
    "\n",
    "Finally, the pattern7() function is called, which executes the pattern printing.'''\n",
    "    for x in range(1, row):\n",
    "        for y in range(row, x, -1):\n",
    "            print(\" \", end=\"\")\n",
    "        for z in range(0, x):\n",
    "            print(chr(x + 64) + \" \", end=\"\")\n",
    "        print()\n",
    "pattern7()"
   ]
  },
  {
   "cell_type": "markdown",
   "metadata": {},
   "source": [
    "### pattern - 68"
   ]
  },
  {
   "cell_type": "code",
   "execution_count": 18,
   "metadata": {},
   "outputs": [
    {
     "name": "stdout",
     "output_type": "stream",
     "text": [
      "enter row value : 5\n",
      "    A \n",
      "   A B \n",
      "  A B C \n",
      " A B C D \n"
     ]
    }
   ],
   "source": [
    "row = int(input('enter row value : '))\n",
    "def pattern8():\n",
    "    '''row = int(input('enter row value : ')): This line takes user input and converts it to an integer, storing it in the \n",
    "    variable row. The user is prompted to enter a row value.\n",
    "\n",
    "def pattern8():: This line defines a function named pattern8. Functions in Python are defined using the def keyword.\n",
    "\n",
    "for x in range(1, row):: This outer loop iterates over a range of values for x, starting from 1 and going up to row - 1. \n",
    "This loop controls the number of rows in the pattern.\n",
    "\n",
    "for y in range(row, x, -1):: This inner loop iterates over a range of values for y, starting from row and going down to x + 1 \n",
    "with a step of -1. This loop is responsible for printing spaces before the letters in each row.\n",
    "\n",
    "for z in range(1, x + 1):: This inner loop iterates over a range of values for z, starting from 1 and going up to x. This loop\n",
    "is responsible for printing the letters in each row. The chr(z + 64) expression converts the numeric value z to the \n",
    "corresponding uppercase letter using ASCII values.\n",
    "\n",
    "print(\" \", end=\"\"): This line prints a space without moving to the next line.\n",
    "\n",
    "print(chr(z + 64) + \" \", end=\"\"): This line prints the current uppercase letter corresponding to the ASCII value z + 64,\n",
    "followed by a space, without moving to the next line.\n",
    "\n",
    "print(): This line prints a newline character, moving to the next line after each row of the pattern.\n",
    "\n",
    "Finally, the pattern8() function is called, which executes the pattern printing'''\n",
    "    for x in range(1, row):\n",
    "        for y in range(row, x, -1):\n",
    "            print(\" \", end=\"\")\n",
    "        for z in range(1, x + 1):\n",
    "            print(chr(z + 64) + \" \", end=\"\")\n",
    "        print()\n",
    "pattern8()"
   ]
  },
  {
   "cell_type": "markdown",
   "metadata": {},
   "source": [
    "### pattern - 69"
   ]
  },
  {
   "cell_type": "code",
   "execution_count": 19,
   "metadata": {},
   "outputs": [
    {
     "name": "stdout",
     "output_type": "stream",
     "text": [
      "enter row value : 5\n",
      "* * * * * \n",
      " * * * * \n",
      "  * * * \n",
      "   * * \n",
      "    * \n"
     ]
    }
   ],
   "source": [
    "row = int(input('enter row value : '))\n",
    "def pattern9():\n",
    "    '''row = int(input('enter row value : ')): This line takes user input and converts it to an integer, storing it in the v\n",
    "    ariable row. The user is prompted to enter a row value.\n",
    "\n",
    "def pattern9():: This line defines a function named pattern9. Functions in Python are defined using the def keyword.\n",
    "\n",
    "for x in range(row, 0, -1):: This outer loop iterates over a range of values for x, starting from row and going down to 1 \n",
    "with a step of -1. This loop controls the number of rows in the pattern.\n",
    "\n",
    "for y in range(x, row):: This inner loop iterates over a range of values for y, starting from x and going up to row - 1. \n",
    "\n",
    "This loop is responsible for printing spaces before the asterisks in each row.\n",
    "\n",
    "for z in range(0, x):: This inner loop iterates over a range of values for z, starting from 0 and going up to x - 1. This \n",
    "loop is responsible for printing the asterisks in each row.\n",
    "\n",
    "print(\" \", end=\"\"): This line prints a space without moving to the next line.\n",
    "\n",
    "print(\"* \", end=\"\"): This line prints an asterisk followed by a space, without moving to the next line.\n",
    "\n",
    "print(): This line prints a newline character, moving to the next line after each row of the pattern.\n",
    "\n",
    "Finally, the pattern9() function is called, which executes the pattern printing'''\n",
    "    for x in range(row, 0, -1):\n",
    "        for y in range(x, row):\n",
    "            print(\" \", end=\"\")\n",
    "        for z in range(0, x):\n",
    "            print(\"* \", end=\"\")\n",
    "        print()\n",
    "pattern9()   "
   ]
  },
  {
   "cell_type": "markdown",
   "metadata": {},
   "source": [
    "### pattern - 70"
   ]
  },
  {
   "cell_type": "code",
   "execution_count": 20,
   "metadata": {},
   "outputs": [
    {
     "name": "stdout",
     "output_type": "stream",
     "text": [
      "enter row value : 5\n",
      "5 5 5 5 5 \n",
      " 4 4 4 4 \n",
      "  3 3 3 \n",
      "   2 2 \n",
      "    1 \n"
     ]
    }
   ],
   "source": [
    "row = int(input('enter row value : '))\n",
    "def pattern10():\n",
    "    '''row = int(input('enter row value : ')): This line takes user input and converts it to an integer, storing it in the \n",
    "    variable row. The user is prompted to enter a row value.\n",
    "\n",
    "def pattern10():: This line defines a function named pattern10. Functions in Python are defined using the def keyword.\n",
    "\n",
    "for x in range(row, 0, -1):: This outer loop iterates over a range of values for x, starting from row and going down to 1 with\n",
    "a step of -1. This loop controls the number of rows in the pattern.\n",
    "\n",
    "for y in range(x, row):: This inner loop iterates over a range of values for y, starting from x and going up to row - 1. This \n",
    "loop is responsible for printing spaces before the numbers in each row.\n",
    "\n",
    "for z in range(0, x):: This inner loop iterates over a range of values for z, starting from 0 and going up to x - 1. This loop \n",
    "is responsible for printing the repeated numbers in each row. The numbers are repeated, and str(x) + \" \" is used to convert the\n",
    "number to a string and add a space after it.\n",
    "\n",
    "print(\" \", end=\"\"): This line prints a space without moving to the next line.\n",
    "\n",
    "print(str(x) + \" \", end=\"\"): This line prints the current value of x as a string followed by a space, without moving to the \n",
    "next line.\n",
    "\n",
    "print(): This line prints a newline character, moving to the next line after each row of the pattern.\n",
    "\n",
    "Finally, the pattern10() function is called, which executes the pattern printing.'''\n",
    "    for x in range(row, 0, -1):\n",
    "        for y in range(x, row):\n",
    "            print(\" \", end=\"\")\n",
    "        for z in range(0, x):\n",
    "            print(str(x) + \" \", end=\"\")\n",
    "        print()\n",
    "pattern10()"
   ]
  },
  {
   "cell_type": "markdown",
   "metadata": {},
   "source": [
    "### pattern - 71"
   ]
  },
  {
   "cell_type": "code",
   "execution_count": 21,
   "metadata": {},
   "outputs": [
    {
     "name": "stdout",
     "output_type": "stream",
     "text": [
      "enter row value : 5\n",
      "5  4  3  2  1  \n",
      "  4  3  2  1  \n",
      "    3  2  1  \n",
      "      2  1  \n",
      "        1  \n"
     ]
    }
   ],
   "source": [
    "row = int(input('enter row value : '))\n",
    "def pattern1():\n",
    "    '''\n",
    "   * row = user to enter a value to variable by using input function, \n",
    "           these value is converted into integer using int().\n",
    "   * pattern1 = defines a function name.\n",
    "   * x = starts loop that iterates range of value, row goes down by 1 and,\n",
    "            decrement by -1 step (controls the rows pattern)\n",
    "   * y = nested for loop is for printing spaces before numbers, \n",
    "          these spaces are particular to current value of x and total rows.\n",
    "   * print = to print the spaces.\n",
    "   * z = used to print the pattern starts from x, and goes down to 1, \n",
    "          decreasing by -1 values and follwed by spaces.\n",
    "    * print() = prints new line character\n",
    "    '''\n",
    "    for x in range(row,0,-1):\n",
    "        for y in range(x,row):\n",
    "            print(' ',end = ' ')\n",
    "        for z in range(x,0,-1):\n",
    "            print(str(z)+' ', end = ' ')\n",
    "        print( )\n",
    "pattern1()"
   ]
  },
  {
   "cell_type": "markdown",
   "metadata": {},
   "source": [
    "### pattern - 72"
   ]
  },
  {
   "cell_type": "code",
   "execution_count": 22,
   "metadata": {},
   "outputs": [
    {
     "name": "stdout",
     "output_type": "stream",
     "text": [
      "enter row values : 5\n",
      "E  E  E  E  E  \n",
      "  D  D  D  D  \n",
      "    C  C  C  \n",
      "      B  B  \n",
      "        A  \n"
     ]
    }
   ],
   "source": [
    "row = int(input('enter row values : '))\n",
    "def pattern2():\n",
    "    '''\n",
    "    * row = user to enter a value to variable by using input function, \n",
    "               these value is converted into integer using int().\n",
    "   * pattern2 = defines a function name.\n",
    "   * x = starts loop that iterates range of value, row goes down by 1 and,\n",
    "            decrement by -1 step (controls the rows pattern)\n",
    "   * y = nested for loop is for printing spaces before numbers, \n",
    "          these spaces are particular to current value of x and total rows.\n",
    "   * print = to print the spaces.\n",
    "   * z = used to print the pattern starts from 0 and goes to value to \n",
    "           x, chr(x+64) is used to convert numeric value of x to,\n",
    "           corresponding ascii uppercase character, followed by space\n",
    "    * print() = prints new line character\n",
    "    \n",
    "    '''\n",
    "    for x in range(row,0,-1):\n",
    "        for y in range(x,row):\n",
    "            print(' ', end = ' ')\n",
    "        for z in range(0,x):\n",
    "            print(chr(x+64)+' ',end = ' ')\n",
    "        print( )\n",
    "pattern2()"
   ]
  },
  {
   "cell_type": "markdown",
   "metadata": {},
   "source": [
    "### pattern - 73"
   ]
  },
  {
   "cell_type": "code",
   "execution_count": 23,
   "metadata": {},
   "outputs": [
    {
     "name": "stdout",
     "output_type": "stream",
     "text": [
      "enter row values : 5\n",
      "E  D  C  B  A  \n",
      "  D  C  B  A  \n",
      "    C  B  A  \n",
      "      B  A  \n",
      "        A  \n"
     ]
    }
   ],
   "source": [
    "row = int(input('enter row values : '))\n",
    "def pattern3():\n",
    "    '''\n",
    "   * row = user to enter a value to variable by using input function, \n",
    "               these value is converted into integer using int().\n",
    "   * pattern3 = defines a function name.\n",
    "   * x =  = starts loop that iterates range of value, row goes down by 1 and,\n",
    "            decrement by -1 step (controls the rows pattern)\n",
    "   * y = nested for loop is for printing spaces before numbers, \n",
    "          these spaces are particular to current value of x and total rows.\n",
    "   * print = to print the spaces.\n",
    "   * z = used to print the pattern starts from 0 and goes to value to \n",
    "           x, chr(x+64) is used to convert numeric value of x to,\n",
    "            corresponding ascii uppercase character, followed by space.\n",
    "    * print() = prints new line character.\n",
    "    '''\n",
    "    for x in range(row,0,-1):\n",
    "        for y in range(x,row):\n",
    "            print(' ', end = ' ')\n",
    "        for z in range(x,0,-1):\n",
    "            print(chr(z+64)+' ',end = ' ')\n",
    "        print( )\n",
    "pattern3()"
   ]
  },
  {
   "cell_type": "markdown",
   "metadata": {},
   "source": [
    "### pattern - 74"
   ]
  },
  {
   "cell_type": "code",
   "execution_count": 24,
   "metadata": {},
   "outputs": [
    {
     "name": "stdout",
     "output_type": "stream",
     "text": [
      "enter row values : 5\n",
      "A  B  C  D  E  \n",
      "  A  B  C  D  \n",
      "    A  B  C  \n",
      "      A  B  \n",
      "        A  \n"
     ]
    }
   ],
   "source": [
    "row = int(input('enter row values : '))\n",
    "def pattern4():\n",
    "    '''\n",
    "    * row = user to enter a value to variable by using input function, \n",
    "               these value is converted into integer using int().\n",
    "   * pattern4 = defines a function name.\n",
    "   * x = starts loop that iterates range of value, row goes down by 1 and,\n",
    "            decrement by -1 step (controls the rows pattern).\n",
    "   * y = nested for loop is for printing spaces before numbers, \n",
    "          these spaces are particular to current value of x and total rows.\n",
    "   * print = to print the spaces.\n",
    "   * z = used to print the pattern starts from 0 and goes to value to \n",
    "           x, chr(x+64) is used to convert numeric value of x to,\n",
    "            corresponding ascii uppercase character starts from \"A\", \n",
    "               followed by space.\n",
    "    * print() = prints new line character.\n",
    "    '''\n",
    "    for x in range(row,0,-1):\n",
    "        for y in range(x,row):\n",
    "            print(' ', end = ' ')\n",
    "        for z in range(0,x):\n",
    "            print(chr(z+65)+' ',end = ' ')\n",
    "        print( )\n",
    "pattern4()"
   ]
  },
  {
   "cell_type": "markdown",
   "metadata": {},
   "source": [
    "### pattern - 75"
   ]
  },
  {
   "cell_type": "code",
   "execution_count": 25,
   "metadata": {},
   "outputs": [
    {
     "name": "stdout",
     "output_type": "stream",
     "text": [
      "enter row value : 5\n",
      "     \n",
      "    * \n",
      "   * * \n",
      "  * * * \n",
      " * * * * \n",
      "* * * * * \n",
      " * * * * \n",
      "  * * * \n",
      "   * * \n",
      "    * \n"
     ]
    }
   ],
   "source": [
    "size = int(input('enter row value : '))\n",
    "def pattern5():\n",
    "    '''\n",
    "    * size = user to enter a value to variable by using input function, \n",
    "               these value is converted into integer using int().\n",
    "    * pattern5 = defines a function name.\n",
    "    * x = starts loops thst iterates from range of value x, range starts \n",
    "             from size goes to negative size, and decreasing by -1 in \n",
    "             each step(controls the rows pattern).\n",
    "    * y = nested loop is for printing spaces before '*' character.\n",
    "           these spaces are currectly to x values.\n",
    "    * z = used to print character pattern starts from size, to currect\n",
    "             value of x and decreasingly by -1 value, followed by \n",
    "             space.\n",
    "    * print() = prints new line character.\n",
    "    '''\n",
    "    for x in range(size, -(size), -1):\n",
    "        for y in range(1, abs(x) + 1):\n",
    "            print(\" \", end=\"\")\n",
    "        for z in range(size, abs(x), -1):\n",
    "            print(\"* \", end=\"\")\n",
    "        print()  \n",
    "pattern5()"
   ]
  },
  {
   "cell_type": "markdown",
   "metadata": {},
   "source": [
    "### pattern - 76"
   ]
  },
  {
   "cell_type": "code",
   "execution_count": 26,
   "metadata": {},
   "outputs": [
    {
     "name": "stdout",
     "output_type": "stream",
     "text": [
      "enter size value : 5\n",
      "     1 \n",
      "    2 2 \n",
      "   3 3 3 \n",
      "  4 4 4 4 \n",
      " 5 5 5 5 5 \n",
      "6 6 6 6 6 6 \n",
      " 5 5 5 5 5 \n",
      "  4 4 4 4 \n",
      "   3 3 3 \n",
      "    2 2 \n",
      "     1 \n"
     ]
    }
   ],
   "source": [
    "size = int(input('enter size value : '))\n",
    "def pattern6():\n",
    "    '''\n",
    "    * size = user to enter a value to variable by using input function, \n",
    "               these value is converted into integer using int().\n",
    "    * pattern6 = defines a function name.\n",
    "    * p = initial variable with value = 1, used to print the \n",
    "              pattern numbers.\n",
    "    * x = starts loops thst iterates from range of value x, range starts \n",
    "             from size goes to -(size+1),and decreasing by -1 in \n",
    "             each step(controls the rows pattern).\n",
    "    * y = nested loop is for printing spaces before '*' character.\n",
    "           these spaces are currectly to x values.\n",
    "    * print = to print the spaces.\n",
    "    * z = used to print character pattern starts from size, upto abs(x)-1\n",
    "             and decreasing by -1 value, followed by space.\n",
    "    * if-else = conditional statement to adjust p values whether,\n",
    "                  p is greaterthan 0 or not, if greater = +1 increases\n",
    "                or -1 decreases.\n",
    "    * print() = prints new line character.\n",
    "    '''\n",
    "    p = 1\n",
    "    for x in range(size, -(size + 1), -1):\n",
    "        for y in range(1, abs(x) + 1):\n",
    "            print(\" \", end=\"\")\n",
    "        for z in range(size, abs(x) - 1, -1):\n",
    "            print(str(p) + \" \", end=\"\")\n",
    "        if (x > 0):\n",
    "            p += 1\n",
    "        else:\n",
    "            p -= 1\n",
    "        print()\n",
    "pattern6()"
   ]
  },
  {
   "cell_type": "markdown",
   "metadata": {},
   "source": [
    "### pattern - 77"
   ]
  },
  {
   "cell_type": "code",
   "execution_count": 27,
   "metadata": {},
   "outputs": [
    {
     "name": "stdout",
     "output_type": "stream",
     "text": [
      "enter size value : 5\n",
      "     1 \n",
      "    1 2 \n",
      "   1 2 3 \n",
      "  1 2 3 4 \n",
      " 1 2 3 4 5 \n",
      "1 2 3 4 5 6 \n",
      " 2 3 4 5 6 \n",
      "  3 4 5 6 \n",
      "   4 5 6 \n",
      "    5 6 \n",
      "     6 \n"
     ]
    }
   ],
   "source": [
    "size = int(input('enter size value : '))\n",
    "p = 1\n",
    "def pattern7():\n",
    "    '''\n",
    "    * size = user to enter a value to variable by using input function, \n",
    "               these value is converted into integer using int().\n",
    "    * p = initial variable with value = 1, used to print the \n",
    "              pattern numbers.\n",
    "    * pattern7 = defines a function name.\n",
    "    *  x = starts loops thst iterates from range of value x, range starts \n",
    "             from size goes to -(size+1),and decreasing by -1 in \n",
    "             each step(controls the rows pattern).\n",
    "    * y = nested loop is for printing spaces befor numbers, it is equal\n",
    "           to current value of x.\n",
    "    * if-else = conditional statement for p value, whether x is greaterthan\n",
    "                  equal to 0 or not, if greaterthan eqaulto 0 : p = 1,\n",
    "                else, p = 'y+1'value.\n",
    "    * z = used to print character pattern starts from size, upto abs(x)-1\n",
    "             and decreasing by -1 value, followed by space p when it is\n",
    "             increasing.\n",
    "    * print() = prints new line character.\n",
    "    '''\n",
    "    for x in range(size,-(size+1),-1):\n",
    "        for y in range(1,abs(x)+1):\n",
    "            print(\" \", end=\"\")  \n",
    "        if (x >= 0):\n",
    "            p = 1\n",
    "        else:\n",
    "            p = y + 1  \n",
    "        for z in range(size,abs(x)-1,-1):\n",
    "            print(str(p)+\" \",end=\"\")\n",
    "            p += 1\n",
    "        print()\n",
    "pattern7()"
   ]
  },
  {
   "cell_type": "markdown",
   "metadata": {},
   "source": [
    "### pattern - 78"
   ]
  },
  {
   "cell_type": "code",
   "execution_count": 28,
   "metadata": {},
   "outputs": [
    {
     "name": "stdout",
     "output_type": "stream",
     "text": [
      "enter size value : 5\n",
      "          1  \n",
      "        1  2  \n",
      "      1  2  3  \n",
      "    1  2  3  4  \n",
      "  1  2  3  4  5  \n",
      "1  2  3  4  5  6  \n",
      "  1  2  3  4  5  \n",
      "    1  2  3  4  \n",
      "      1  2  3  \n",
      "        1  2  \n",
      "          1  \n"
     ]
    }
   ],
   "source": [
    "size = int(input('enter size value : '))\n",
    "def pattern8():\n",
    "    '''\n",
    "    * size = user to enter a value to variable by using input function, \n",
    "               these value is converted into integer using int().\n",
    "    * pattern8 = defines a function name.\n",
    "    * x = starts loops thst iterates from range of value x, range starts \n",
    "             from size goes to -(size+1),and decreasing by -1 in \n",
    "             each step(controls the rows pattern).\n",
    "    * y = nested loop is for printing spaces befor numbers, it is equal\n",
    "           to current value of x.\n",
    "    * p = initial variable with value = 1, used to print the \n",
    "              pattern numbers.\n",
    "    * z = used to print character pattern starts from size, upto abs(x)-1\n",
    "             and decreasing by -1 value, numbers will converted into\n",
    "             strings followed by spaces, for each p is increasing.\n",
    "    * print() = prints new line character.\n",
    "    '''\n",
    "    for x in range(size, -(size + 1), -1):\n",
    "        for y in range(1, abs(x) + 1):\n",
    "            print(' ', end=' ')\n",
    "        p = 1\n",
    "        for z in range(size, abs(x)-1,-1):\n",
    "            print(str(p) + ' ', end=' ')\n",
    "            p += 1\n",
    "        print()\n",
    "pattern8()"
   ]
  },
  {
   "cell_type": "markdown",
   "metadata": {},
   "source": [
    "### pattern - 79"
   ]
  },
  {
   "cell_type": "code",
   "execution_count": 29,
   "metadata": {},
   "outputs": [
    {
     "name": "stdout",
     "output_type": "stream",
     "text": [
      "enter size value : 5\n",
      "     A \n",
      "    B B \n",
      "   C C C \n",
      "  D D D D \n",
      " E E E E E \n",
      "F F F F F F \n",
      " E E E E E \n",
      "  D D D D \n",
      "   C C C \n",
      "    B B \n",
      "     A \n"
     ]
    }
   ],
   "source": [
    "size = int(input('enter size value : '))\n",
    "def pattern9():\n",
    "    '''\n",
    "    * size = user to enter a value to variable by using input function, \n",
    "               these value is converted into integer using int().\n",
    "    * pattern9 = defines a function name.\n",
    "    * i = initial variable with value = 0, used to print the \n",
    "              pattern characters.\n",
    "    * x = starts loops thst iterates from range of value x, range starts \n",
    "             from size goes to -(size+1),and decreasing by -1 in \n",
    "             each step(controls the rows pattern).\n",
    "    * y = nested loop is for printing spaces befor numbers, it is equal\n",
    "           to current value of x.\n",
    "    * z = used to print character pattern starts from size, abs(x)-1\n",
    "             and decreasing by -1 value, chr(i + 65) is used to convert the \n",
    "          numeric value of i to the corresponding uppercase ASCII character\n",
    "    * if-else = conditional statement to adjust value of i, whether is \n",
    "                  greaterthan 0 or not, if x >0 = +1, else, -1 decreases.\n",
    "    * print() = prints a new line character\n",
    "                  \n",
    "    '''\n",
    "    i = 0\n",
    "    for x in range(size, -(size + 1), -1):\n",
    "        for y in range(1, abs(x) + 1):\n",
    "            print(\" \", end=\"\")\n",
    "        for z in range(size, abs(x) - 1, -1):\n",
    "            print(chr(i + 65) + \" \", end=\"\")\n",
    "        if (x > 0):\n",
    "            i += 1\n",
    "        else:\n",
    "            i -= 1\n",
    "        print()\n",
    "pattern9()"
   ]
  },
  {
   "cell_type": "markdown",
   "metadata": {},
   "source": [
    "### pattern - 80"
   ]
  },
  {
   "cell_type": "code",
   "execution_count": null,
   "metadata": {},
   "outputs": [],
   "source": []
  }
 ],
 "metadata": {
  "kernelspec": {
   "display_name": "Python 3",
   "language": "python",
   "name": "python3"
  },
  "language_info": {
   "codemirror_mode": {
    "name": "ipython",
    "version": 3
   },
   "file_extension": ".py",
   "mimetype": "text/x-python",
   "name": "python",
   "nbconvert_exporter": "python",
   "pygments_lexer": "ipython3",
   "version": "3.8.5"
  }
 },
 "nbformat": 4,
 "nbformat_minor": 4
}
