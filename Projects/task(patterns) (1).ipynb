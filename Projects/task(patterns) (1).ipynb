{
 "cells": [
  {
   "cell_type": "code",
   "execution_count": 1,
   "metadata": {
    "scrolled": true
   },
   "outputs": [
    {
     "name": "stdout",
     "output_type": "stream",
     "text": [
      "enter row value : 5\n",
      "        * \n",
      "      * * * \n",
      "    * * * * * \n",
      "  * * * * * * * \n",
      "* * * * * * * * * \n"
     ]
    }
   ],
   "source": [
    "r = int(input('enter row value : '))\n",
    "def pattern1():\n",
    "    for i in range(r):\n",
    "        for j in range(r-i-1):\n",
    "            print(' ',end = ' ')\n",
    "        for k in range(2*i+1):\n",
    "            print(chr(42), end = ' ')\n",
    "        print( )\n",
    "pattern1()"
   ]
  },
  {
   "cell_type": "markdown",
   "metadata": {},
   "source": [
    "#### pyramid pattern using numners:"
   ]
  },
  {
   "cell_type": "code",
   "execution_count": 2,
   "metadata": {},
   "outputs": [
    {
     "name": "stdout",
     "output_type": "stream",
     "text": [
      "enter row values : 5\n",
      "        1 \n",
      "      1 2 3 \n",
      "    1 2 3 4 5 \n",
      "  1 2 3 4 5 6 7 \n",
      "1 2 3 4 5 6 7 8 9 \n"
     ]
    }
   ],
   "source": [
    "r = int(input('enter row values : '))\n",
    "def pattern2():\n",
    "    for i in range(r):\n",
    "        for j in range(r-i-1):\n",
    "            print(' ',end = ' ')\n",
    "        for k in range(2*i+1):\n",
    "            print(int(1+k), end = ' ')\n",
    "        print( )\n",
    "pattern2()"
   ]
  },
  {
   "cell_type": "markdown",
   "metadata": {},
   "source": [
    "#### pyramid pattern using alphabets:"
   ]
  },
  {
   "cell_type": "code",
   "execution_count": 3,
   "metadata": {},
   "outputs": [
    {
     "name": "stdout",
     "output_type": "stream",
     "text": [
      "enter row values : 5\n",
      "        A \n",
      "      A B C \n",
      "    A B C D E \n",
      "  A B C D E F G \n",
      "A B C D E F G H I \n"
     ]
    }
   ],
   "source": [
    "r = int(input('enter row values : '))\n",
    "def pattern3():\n",
    "    for i in range(r):\n",
    "        for j in range(r-i-1):\n",
    "            print(' ',end = ' ')\n",
    "        for k in range(2*i+1):\n",
    "            print(chr(65+k), end = ' ')\n",
    "        print( )\n",
    "pattern3()"
   ]
  },
  {
   "cell_type": "markdown",
   "metadata": {},
   "source": [
    "#### inverted pyramid pattern using star : "
   ]
  },
  {
   "cell_type": "code",
   "execution_count": 4,
   "metadata": {},
   "outputs": [
    {
     "name": "stdout",
     "output_type": "stream",
     "text": [
      "enter row values : 5\n",
      "* * * * * * * * * \n",
      "  * * * * * * * \n",
      "    * * * * * \n",
      "      * * * \n",
      "        * \n"
     ]
    }
   ],
   "source": [
    "r = int(input('enter row values : '))\n",
    "def pattern4():\n",
    "    for i in range(r-0):\n",
    "        for j in range(i):\n",
    "            print(' ',end = ' ')\n",
    "        for k in range(2*(r-i)-1):\n",
    "            print(chr(42), end = ' ')\n",
    "        print( )\n",
    "pattern4()"
   ]
  },
  {
   "cell_type": "markdown",
   "metadata": {},
   "source": [
    "#### inverted pyramid pattern using alphabets :"
   ]
  },
  {
   "cell_type": "code",
   "execution_count": 5,
   "metadata": {},
   "outputs": [
    {
     "name": "stdout",
     "output_type": "stream",
     "text": [
      "enter row values : 5\n",
      "A B C D E F G H I \n",
      "  A B C D E F G \n",
      "    A B C D E \n",
      "      A B C \n",
      "        A \n"
     ]
    }
   ],
   "source": [
    "r = int(input('enter row values : '))\n",
    "def pattern5():\n",
    "    for i in range(r-0):\n",
    "        for j in range(i):\n",
    "            print(' ',end = ' ')\n",
    "        for k in range(2*(r-i)-1):\n",
    "            print(chr(65+k), end = ' ')\n",
    "        print( )\n",
    "pattern5()"
   ]
  },
  {
   "cell_type": "markdown",
   "metadata": {},
   "source": [
    "#### inverted pyramid pattern using numbers :"
   ]
  },
  {
   "cell_type": "code",
   "execution_count": 6,
   "metadata": {},
   "outputs": [
    {
     "name": "stdout",
     "output_type": "stream",
     "text": [
      "enter row values : 5\n",
      "1 2 3 4 5 6 7 8 9 \n",
      "  1 2 3 4 5 6 7 \n",
      "    1 2 3 4 5 \n",
      "      1 2 3 \n",
      "        1 \n"
     ]
    }
   ],
   "source": [
    "r = int(input('enter row values : '))\n",
    "def pattern6():\n",
    "    for i in range(r-0):\n",
    "        for j in range(i):\n",
    "            print(' ',end = ' ')\n",
    "        for k in range(2*(r-i)-1):\n",
    "            print(int(1+k), end = ' ')\n",
    "        print( )\n",
    "pattern6()"
   ]
  },
  {
   "cell_type": "markdown",
   "metadata": {},
   "source": [
    "#### hour-glass pattern using star:"
   ]
  },
  {
   "cell_type": "code",
   "execution_count": 7,
   "metadata": {},
   "outputs": [
    {
     "name": "stdout",
     "output_type": "stream",
     "text": [
      "enter row values : 5\n",
      "* * * * * * * * * \n",
      "  * * * * * * * \n",
      "    * * * * * \n",
      "      * * * \n",
      "        * \n",
      "      * * * \n",
      "    * * * * * \n",
      "  * * * * * * * \n",
      "* * * * * * * * * \n"
     ]
    }
   ],
   "source": [
    "r = int(input('enter row values : '))\n",
    "def pattern7():\n",
    "    for i in range(r-1):\n",
    "        for j in range(i):\n",
    "            print(' ',end = ' ')\n",
    "        for k in range(2*(r-i)-1):\n",
    "            print(chr(42), end = ' ')\n",
    "        print( )\n",
    "    for i in range(r):\n",
    "        for j in range(r-i-1):\n",
    "            print(' ',end = ' ')\n",
    "        for k in range(2*i+1):\n",
    "            print(chr(42), end = ' ')\n",
    "        print( )\n",
    "pattern7()"
   ]
  },
  {
   "cell_type": "code",
   "execution_count": 21,
   "metadata": {},
   "outputs": [
    {
     "data": {
      "text/plain": [
       "42"
      ]
     },
     "execution_count": 21,
     "metadata": {},
     "output_type": "execute_result"
    }
   ],
   "source": [
    "ord('*')"
   ]
  },
  {
   "cell_type": "markdown",
   "metadata": {},
   "source": [
    "#### hour-glass pattern using alphabets:"
   ]
  },
  {
   "cell_type": "code",
   "execution_count": 8,
   "metadata": {},
   "outputs": [
    {
     "name": "stdout",
     "output_type": "stream",
     "text": [
      "enter row values : 5\n",
      "A B C D E F G H I \n",
      "  A B C D E F G \n",
      "    A B C D E \n",
      "      A B C \n",
      "        A \n",
      "      A B C \n",
      "    A B C D E \n",
      "  A B C D E F G \n",
      "A B C D E F G H I \n"
     ]
    }
   ],
   "source": [
    "r = int(input('enter row values : '))\n",
    "def pattern8():\n",
    "    for i in range(r-1):\n",
    "        for j in range(i):\n",
    "            print(' ',end = ' ')\n",
    "        for k in range(2*(r-i)-1):\n",
    "            print(chr(65+k), end = ' ')\n",
    "        print( )\n",
    "    for i in range(r):\n",
    "        for j in range(r-i-1):\n",
    "            print(' ',end = ' ')\n",
    "        for k in range(2*i+1):\n",
    "            print(chr(65+k), end = ' ')\n",
    "        print( )\n",
    "pattern8()"
   ]
  },
  {
   "cell_type": "markdown",
   "metadata": {},
   "source": [
    "#### hour-glass pattern using numbers: "
   ]
  },
  {
   "cell_type": "code",
   "execution_count": 9,
   "metadata": {},
   "outputs": [
    {
     "name": "stdout",
     "output_type": "stream",
     "text": [
      "enter row values : 5\n",
      "1 2 3 4 5 6 7 8 9 \n",
      "  1 2 3 4 5 6 7 \n",
      "    1 2 3 4 5 \n",
      "      1 2 3 \n",
      "        1 \n",
      "      1 2 3 \n",
      "    1 2 3 4 5 \n",
      "  1 2 3 4 5 6 7 \n",
      "1 2 3 4 5 6 7 8 9 \n"
     ]
    }
   ],
   "source": [
    "r = int(input('enter row values : '))\n",
    "def pattern9():\n",
    "    for i in range(r-1):\n",
    "        for j in range(i):\n",
    "            print(' ',end = ' ')\n",
    "        for k in range(2*(r-i)-1):\n",
    "            print(int(1+k), end = ' ')\n",
    "        print( )\n",
    "    for i in range(r):\n",
    "        for j in range(r-i-1):\n",
    "            print(' ',end = ' ')\n",
    "        for k in range(2*i+1):\n",
    "            print(int(1+k), end = ' ')\n",
    "        print( )\n",
    "pattern9()"
   ]
  },
  {
   "cell_type": "markdown",
   "metadata": {},
   "source": [
    "#### diamond shape pattern using star :"
   ]
  },
  {
   "cell_type": "code",
   "execution_count": 10,
   "metadata": {},
   "outputs": [
    {
     "name": "stdout",
     "output_type": "stream",
     "text": [
      "enter row value : 10\n",
      "                  * \n",
      "                * * * \n",
      "              * * * * * \n",
      "            * * * * * * * \n",
      "          * * * * * * * * * \n",
      "        * * * * * * * * * * * \n",
      "      * * * * * * * * * * * * * \n",
      "    * * * * * * * * * * * * * * * \n",
      "  * * * * * * * * * * * * * * * * * \n",
      "* * * * * * * * * * * * * * * * * * * \n",
      "  * * * * * * * * * * * * * * * * * \n",
      "    * * * * * * * * * * * * * * * \n",
      "      * * * * * * * * * * * * * \n",
      "        * * * * * * * * * * * \n",
      "          * * * * * * * * * \n",
      "            * * * * * * * \n",
      "              * * * * * \n",
      "                * * * \n",
      "                  * \n"
     ]
    }
   ],
   "source": [
    "r = int(input('enter row value : '))\n",
    "def pattern10():\n",
    "    for i in range(r):\n",
    "        for j in range(r-i-1):\n",
    "            print(' ', end = ' ')\n",
    "        for j in range(2*i+1):\n",
    "            print(chr(42), end = ' ')\n",
    "        print( )\n",
    "    for i in range(r-1):\n",
    "        for j in range(i+1):\n",
    "            print(' ',end = ' ')\n",
    "        for j in range(2*(r-i-1)-1):\n",
    "            print(chr(42), end = ' ')\n",
    "        print( )\n",
    "pattern10()"
   ]
  },
  {
   "cell_type": "markdown",
   "metadata": {},
   "source": [
    "#### diamond shape pattern using alphabets :"
   ]
  },
  {
   "cell_type": "code",
   "execution_count": 11,
   "metadata": {},
   "outputs": [
    {
     "name": "stdout",
     "output_type": "stream",
     "text": [
      "enter row value : 5\n",
      "        A \n",
      "      A B C \n",
      "    A B C D E \n",
      "  A B C D E F G \n",
      "A B C D E F G H I \n",
      "  A B C D E F G \n",
      "    A B C D E \n",
      "      A B C \n",
      "        A \n"
     ]
    }
   ],
   "source": [
    "r = int(input('enter row value : '))\n",
    "def pattern11():\n",
    "    for i in range(r):\n",
    "        for j in range(r-i-1):\n",
    "            print(' ', end = ' ')\n",
    "        for j in range(2*i+1):\n",
    "            print(chr(65+j), end = ' ')\n",
    "        print( )\n",
    "    for i in range(r-1):\n",
    "        for j in range(i+1):\n",
    "            print(' ',end = ' ')\n",
    "        for j in range(2*(r-i-1)-1):\n",
    "            print(chr(65+j), end = ' ')\n",
    "        print( )\n",
    "pattern11()"
   ]
  },
  {
   "cell_type": "markdown",
   "metadata": {},
   "source": [
    "#### diamond shape pattern using numbers :"
   ]
  },
  {
   "cell_type": "code",
   "execution_count": 12,
   "metadata": {},
   "outputs": [
    {
     "name": "stdout",
     "output_type": "stream",
     "text": [
      "enter row value : 5\n",
      "        1 \n",
      "      1 2 3 \n",
      "    1 2 3 4 5 \n",
      "  1 2 3 4 5 6 7 \n",
      "1 2 3 4 5 6 7 8 9 \n",
      "  1 2 3 4 5 6 7 \n",
      "    1 2 3 4 5 \n",
      "      1 2 3 \n",
      "        1 \n"
     ]
    }
   ],
   "source": [
    "r = int(input('enter row value : '))\n",
    "def pattern12():\n",
    "    for i in range(r):\n",
    "        for j in range(r-i-1):\n",
    "            print(' ', end = ' ')\n",
    "        for j in range(2*i+1):\n",
    "            print(int(1+j), end = ' ')\n",
    "        print( )\n",
    "    for i in range(r-1):\n",
    "        for j in range(i+1):\n",
    "            print(' ',end = ' ')\n",
    "        for j in range(2*(r-i-1)-1):\n",
    "            print(int(1+j), end = ' ')\n",
    "        print( )\n",
    "pattern12()"
   ]
  },
  {
   "cell_type": "markdown",
   "metadata": {},
   "source": [
    "#### rhombus shape pattern using stars :"
   ]
  },
  {
   "cell_type": "code",
   "execution_count": 4,
   "metadata": {},
   "outputs": [
    {
     "name": "stdout",
     "output_type": "stream",
     "text": [
      "enter row value : 5\n",
      "        * * * * * * * * * * \n",
      "      * * * * * * * * * * \n",
      "    * * * * * * * * * * \n",
      "  * * * * * * * * * * \n",
      "* * * * * * * * * * \n"
     ]
    }
   ],
   "source": [
    "r = int(input('enter row value : '))\n",
    "def pattern13():\n",
    "    for i in range(r):\n",
    "        for j in range(r-i-1):\n",
    "            print(' ',end=' ')\n",
    "        for k in range(2*i+1):\n",
    "            print(chr(42),end=' ')\n",
    "        for k in range(2*(r-i)-1):\n",
    "            print(chr(42),end=' ')\n",
    "        print( )\n",
    "pattern13()"
   ]
  },
  {
   "cell_type": "markdown",
   "metadata": {},
   "source": [
    "#### rhombus shape pattern using alphabets :"
   ]
  },
  {
   "cell_type": "code",
   "execution_count": 5,
   "metadata": {},
   "outputs": [
    {
     "name": "stdout",
     "output_type": "stream",
     "text": [
      "enter row value : 5\n",
      "        A A B C D E F G H I \n",
      "      A B C A B C D E F G \n",
      "    A B C D E A B C D E \n",
      "  A B C D E F G A B C \n",
      "A B C D E F G H I A \n"
     ]
    }
   ],
   "source": [
    "r = int(input('enter row value : '))\n",
    "def pattern14():\n",
    "    for i in range(r):\n",
    "        for j in range(r-i-1):\n",
    "            print(' ',end=' ')\n",
    "        for k in range(2*i+1):\n",
    "            print(chr(65+k),end=' ')\n",
    "        for k in range(2*(r-i)-1):\n",
    "            print(chr(65+k),end=' ')\n",
    "        print( )\n",
    "pattern14()"
   ]
  },
  {
   "cell_type": "markdown",
   "metadata": {},
   "source": [
    "#### rhombus shape pattern using numbers :"
   ]
  },
  {
   "cell_type": "code",
   "execution_count": 6,
   "metadata": {},
   "outputs": [
    {
     "name": "stdout",
     "output_type": "stream",
     "text": [
      "enter row value : 5\n",
      "        1 1 2 3 4 5 6 7 8 9 \n",
      "      1 2 3 1 2 3 4 5 6 7 \n",
      "    1 2 3 4 5 1 2 3 4 5 \n",
      "  1 2 3 4 5 6 7 1 2 3 \n",
      "1 2 3 4 5 6 7 8 9 1 \n"
     ]
    }
   ],
   "source": [
    "r = int(input('enter row value : '))\n",
    "def pattern15():\n",
    "    for i in range(r):\n",
    "        for j in range(r-i-1):\n",
    "            print(' ',end=' ')\n",
    "        for k in range(2*i+1):\n",
    "            print(int(1+k),end=' ')\n",
    "        for k in range(2*(r-i)-1):\n",
    "            print(int(1+k),end=' ')\n",
    "        print( )\n",
    "pattern15()"
   ]
  }
 ],
 "metadata": {
  "kernelspec": {
   "display_name": "Python 3",
   "language": "python",
   "name": "python3"
  },
  "language_info": {
   "codemirror_mode": {
    "name": "ipython",
    "version": 3
   },
   "file_extension": ".py",
   "mimetype": "text/x-python",
   "name": "python",
   "nbconvert_exporter": "python",
   "pygments_lexer": "ipython3",
   "version": "3.8.5"
  }
 },
 "nbformat": 4,
 "nbformat_minor": 4
}
