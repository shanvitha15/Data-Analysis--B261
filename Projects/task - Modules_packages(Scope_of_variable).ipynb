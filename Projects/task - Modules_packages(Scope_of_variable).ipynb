{
 "cells": [
  {
   "cell_type": "markdown",
   "metadata": {},
   "source": [
    "## Packages"
   ]
  },
  {
   "cell_type": "markdown",
   "metadata": {},
   "source": [
    "* The Function concept is used for Performing some operation and provides code re-usability within the same program and unable to provide code re-usability across programs.\n",
    "\n",
    "\n",
    "* The Modules concept is a collection of Variables, Functions and classes and we can re-use the code across the Programs provided Module name and main program present in same folder but unable to provide code re-usability across the folders / drives / enviroments.\n",
    "\n",
    "\n",
    "* The Package Concept is a collection of Modules.\n",
    "\n",
    "\n",
    "* The purpose of Packages is that to provide code re-usability across the folders / drives / enviroments.\n",
    "\n",
    "\n",
    "* =>To deal with the package, we need to the learn the following.\n",
    "* a .create a package\n",
    "* b .re-use the package"
   ]
  },
  {
   "cell_type": "markdown",
   "metadata": {},
   "source": [
    "####  Create a package :"
   ]
  },
  {
   "cell_type": "markdown",
   "metadata": {},
   "source": [
    "* To create a package, we use the following steps. i) create a Folder ii) place / write an empty python file called init.py (Optional) iii) place / write the module(s) in the folder where it is considered as Package Name\n",
    "\n",
    "<b> Example : </b>\n",
    "* init.py <----Empty Python File"
   ]
  },
  {
   "cell_type": "markdown",
   "metadata": {},
   "source": [
    "#### re-use the package\n",
    "\n",
    "* To the re-use the modules of the packages across the folders / drives / enviroments, we have to two approaches\n",
    "\n",
    "1. By using sys module\n",
    "2. by using PYTHONPATH Environmental Variable Name"
   ]
  },
  {
   "cell_type": "markdown",
   "metadata": {},
   "source": [
    "#### 1. By using sys module :\n",
    "\n",
    "<b> syntax : </b>\n",
    "   sys.path.append(\"Absolute Path of Package\")\n",
    "* sys is pre-defined module\n",
    "\n",
    "* path is a pre-defined object of list / variable present in sys module\n",
    "\n",
    "* append() is pre-defined function present in path and is used for locating the package name of python"
   ]
  },
  {
   "cell_type": "markdown",
   "metadata": {},
   "source": [
    "#### 2. By using PYTHONPATH Enviromental Variables :\n",
    "\n",
    "* PYTHONPATH is one of the Enviromental Variable\n",
    "* Search for Enviromental Variable\n",
    "\n",
    "<b>Steps for setting : </b>\n",
    "\n",
    "Var name  : PYTHONPATH       \n",
    "\t\t Var Value : C:\\\\Users\\\\master\\\\anaconda3\\\\python311.zip\n",
    "         \n",
    "<b> The overall path: </b>\n",
    "\n",
    "PYTHONPATH= C:\\\\Users\\\\master\\\\anaconda3\\\\python311.zip\n",
    "\n"
   ]
  },
  {
   "cell_type": "markdown",
   "metadata": {},
   "source": [
    "## Modules :"
   ]
  },
  {
   "cell_type": "markdown",
   "metadata": {},
   "source": [
    "* We know that Functions are used for \"Performing Certain Operations and Provides Code Re-Usability within the same Program but not able to provide Code Re-Usability across the programs.\".\n",
    "\n",
    "<b> Defination: </b>\n",
    "* A Module is a collection of Functions, Global Variable Names and Class Names."
   ]
  },
  {
   "cell_type": "markdown",
   "metadata": {},
   "source": [
    "##### Types of Modules :\n",
    "\n",
    "* In python, having two types of modules. \n",
    "1. Pre-Defined Modules\n",
    "2. Programmer Or User Or Custom Defined Modules\n"
   ]
  },
  {
   "cell_type": "markdown",
   "metadata": {},
   "source": [
    "#### 1. Pre-Defined Modules :\n",
    "\n",
    "* These Modules are already defined by Python Language Developers and available in Python Software and used by all Python Language Programmers and for dealing with Universal Requirements."
   ]
  },
  {
   "cell_type": "markdown",
   "metadata": {},
   "source": [
    "#### 2. Programmer OR User OR Custom Defined Module :\n",
    "\n",
    "* These Moudles are developed by Python Programmers and avilable in Python Project and Used by Other Members of Same Project for dealing with Common Requirements.\n",
    "\n",
    "#### Development of Programmer-Defined Module :\n",
    "\n",
    "* To develop Programmer-Defined Modules, we must use the following steps:\n",
    "1. Define Variables (Global variables)\n",
    "2. Define Functions\n",
    "3. Define Classes\n",
    "\n",
    "* After developing 1,2 and 3, we must save on some file name with an \n",
    "   extension.py (FileName.py) and it is treated as module name.\n",
    "\n",
    "* Hence Every Python File is treated as Module Name.\n",
    "\n",
    "* When a file name treated as a module name , internally Python execution environment creates a folder automatically on the name of pycache and it contains module name on the name of \"filename.cpython-311.pyc \".\n",
    "\n",
    "#### Using Alias :\n",
    "\n",
    "* An alias is essentially an alternate name for a module, function, or class.\n",
    "* It allows you to refer to the original module, function, or class by a different name.\n",
    "* This can be useful for several reasons, such as shortening long module names, avoiding naming conflicts, or enhancing code readability."
   ]
  },
  {
   "cell_type": "markdown",
   "metadata": {},
   "source": [
    "# Namespace :"
   ]
  },
  {
   "cell_type": "markdown",
   "metadata": {},
   "source": [
    "* A namespace is a system that has a unique name for each and every object in Python.\n",
    "\n",
    "\n",
    "* An object might be a variable or a method.\n",
    "\n",
    "\n",
    "* Python itself maintains a namespace in the form of a Python dictionary.\n",
    "\n",
    "\n",
    "* The Python interpreter understands what exact method or variable one is trying to point to in the code, depending upon the namespace. So, the division of the word itself gives a little more information.\n",
    "\n",
    "\n",
    "* Its Name (which means name, a unique identifier) + Space(which talks something related to scope).\n",
    "\n",
    "\n",
    "* Here, a name might be of any Python method or variable and space depends upon the location from where is trying to access a variable or a method"
   ]
  },
  {
   "cell_type": "markdown",
   "metadata": {},
   "source": [
    "### Types of namespaces :\n",
    "\n",
    "* When Python interpreter runs solely without any user-defined modules, methods, classes, etc. Some functions like print(), id() are always present, these are built-in namespaces.\n",
    "\n",
    "\n",
    "* When a user creates a module, a global namespace gets created, later the creation of local functions creates the local namespace.\n",
    "\n",
    "\n",
    "* The built-in namespace encompasses the global namespace and the global namespace encompasses the local namespace."
   ]
  },
  {
   "cell_type": "markdown",
   "metadata": {},
   "source": [
    "# Scope of variable :"
   ]
  },
  {
   "cell_type": "markdown",
   "metadata": {},
   "source": [
    "* The location where we can find a variable and also access it if required is called the scope of a variable.\n",
    "\n",
    "* Types of scope variable :\n",
    "\n",
    "1. local scope\n",
    "2. Global scope\n",
    "3. Enclosed scope\n",
    "4. Built-in scope"
   ]
  },
  {
   "cell_type": "markdown",
   "metadata": {},
   "source": [
    "### 1. Local Scope :\n",
    "\n",
    "* Local variables are those that are initialized within a function and are unique to that function.\n",
    "\n",
    "* It cannot be accessed outside of the function.\n",
    "\n",
    "* When we declare variables inside a function, these variables will have a local scope (within the function)"
   ]
  },
  {
   "cell_type": "markdown",
   "metadata": {},
   "source": [
    "### 2. Global Scope :\n",
    "\n",
    "* A variable declared outside of the function or in global scope is known as a global variable. This means that a global variable can be accessed inside or outside of the function.\n",
    "\n",
    "* They can be used by any part of the program."
   ]
  },
  {
   "cell_type": "markdown",
   "metadata": {},
   "source": [
    "### 3. Enclosed Scope :\n",
    "\n",
    "* Enclosed variable is used in the case of nested functions.\n",
    "\n",
    "* This keyword works similarly to the global, but rather than global, this keyword declares a variable to point to the variable of an outside enclosing function, in case of nested functions."
   ]
  },
  {
   "cell_type": "markdown",
   "metadata": {},
   "source": [
    "### 4. Builtin Scope :\n",
    "\n",
    "* The built-in scope in Python refers to the variables and functions that are built into the language and are available from anywhere in your program.\n",
    "\n",
    "* These include keywords, constants, and built-in functions like print(), len(), type(), etc.\n",
    "\n",
    "*  do not need to import or declare them before using them. They have the widest scope and the lowest priority in the name resolution ."
   ]
  }
 ],
 "metadata": {
  "kernelspec": {
   "display_name": "Python 3",
   "language": "python",
   "name": "python3"
  },
  "language_info": {
   "codemirror_mode": {
    "name": "ipython",
    "version": 3
   },
   "file_extension": ".py",
   "mimetype": "text/x-python",
   "name": "python",
   "nbconvert_exporter": "python",
   "pygments_lexer": "ipython3",
   "version": "3.8.5"
  }
 },
 "nbformat": 4,
 "nbformat_minor": 4
}
