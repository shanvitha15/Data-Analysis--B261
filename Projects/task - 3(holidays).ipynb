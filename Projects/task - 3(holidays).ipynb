{
 "cells": [
  {
   "cell_type": "markdown",
   "metadata": {},
   "source": [
    " # Strings in Python :\n",
    " "
   ]
  },
  {
   "cell_type": "markdown",
   "metadata": {},
   "source": [
    "### What is an String ? \n"
   ]
  },
  {
   "cell_type": "markdown",
   "metadata": {},
   "source": [
    "* A string is a sequence of characters. It’s like a sentence or a collection of letters, numbers, or symbols that are used to represent text.\n",
    "\n",
    "* perform various operations on them, such as searching for specific characters, replacing text, or displaying them to the user.\n",
    "\n",
    "* essential part of many computer programs and are used for tasks like displaying messages, handling user input, and storing textual information."
   ]
  },
  {
   "cell_type": "markdown",
   "metadata": {},
   "source": [
    "### Notation of an String :\n"
   ]
  },
  {
   "cell_type": "markdown",
   "metadata": {},
   "source": [
    "* enclosed in (single[‘ ‘], double[“ “],and triple[‘“ “‘]) quotes.\n",
    "\n",
    "* triple quotes are used as multiline strings, multiline comments and as doc strings."
   ]
  },
  {
   "cell_type": "markdown",
   "metadata": {},
   "source": [
    "### Creating a String :"
   ]
  },
  {
   "cell_type": "markdown",
   "metadata": {},
   "source": [
    "* Creating an string involves defining a variable and assigning a sequence of characters to that variable."
   ]
  },
  {
   "cell_type": "code",
   "execution_count": 1,
   "metadata": {},
   "outputs": [],
   "source": [
    "s = 'Hello, World!'"
   ]
  },
  {
   "cell_type": "markdown",
   "metadata": {},
   "source": [
    "     where,\n",
    "      \n",
    "      s = s is the variable name.\n",
    "      '=' = is the assignment operator.\n",
    "      'Hello, World!' = is the string value assigned to the variable. The string is enclosed in single quotes to indicate that it's a string.\n",
    "      "
   ]
  },
  {
   "cell_type": "markdown",
   "metadata": {},
   "source": [
    "#### sample code :"
   ]
  },
  {
   "cell_type": "code",
   "execution_count": 2,
   "metadata": {},
   "outputs": [
    {
     "name": "stdout",
     "output_type": "stream",
     "text": [
      "this is a string, enclosed in single quotes\n",
      "this is a string, enclosed in single quotes\n",
      "this is a multi-string,\n",
      "enclosed in triple single quotes\n"
     ]
    }
   ],
   "source": [
    "s1 = 'this is a string, enclosed in single quotes'\n",
    "s2 = \"this is a string, enclosed in single quotes\"\n",
    "s3 = '''this is a multi-string,\n",
    "enclosed in triple single quotes'''\n",
    "print(s1, s2, s3, sep='\\n')"
   ]
  },
  {
   "cell_type": "markdown",
   "metadata": {},
   "source": [
    "* '''this is an informative multi-line comment,created by using triple double quotes'''"
   ]
  },
  {
   "cell_type": "markdown",
   "metadata": {},
   "source": [
    "## Escape Characters : "
   ]
  },
  {
   "cell_type": "markdown",
   "metadata": {},
   "source": [
    "* Escape characters are used to represent special characters or control sequences within a string.\n",
    "\n",
    "* backslash (‘\\’) to indicate that they have a special meaning."
   ]
  },
  {
   "cell_type": "markdown",
   "metadata": {},
   "source": [
    "#### 1. \" \\\\ \"-Backslash: \n",
    "* Represents a literal backslash character within a string."
   ]
  },
  {
   "cell_type": "code",
   "execution_count": 3,
   "metadata": {},
   "outputs": [
    {
     "data": {
      "text/plain": [
       "'C:\\\\Program Files\\\\MyApp'"
      ]
     },
     "execution_count": 3,
     "metadata": {},
     "output_type": "execute_result"
    }
   ],
   "source": [
    "\"C:\\\\Program Files\\\\MyApp\" # represents the path."
   ]
  },
  {
   "cell_type": "markdown",
   "metadata": {},
   "source": [
    "#### 2. \" <b>\\'</b> \" - Single Quote (Apostrophe) :\n",
    "\n",
    "* Represents a single quote character within a string. It's used to include single quotes within a string that is enclosed in single quotes."
   ]
  },
  {
   "cell_type": "code",
   "execution_count": 4,
   "metadata": {},
   "outputs": [
    {
     "data": {
      "text/plain": [
       "\"It's a beautiful day.\""
      ]
     },
     "execution_count": 4,
     "metadata": {},
     "output_type": "execute_result"
    }
   ],
   "source": [
    "'It\\'s a beautiful day.' # represents the string"
   ]
  },
  {
   "cell_type": "markdown",
   "metadata": {},
   "source": [
    "#### 3. \" \\n \" - Newline :\n",
    "\n",
    "* Represents a line break or a new line in a string. It is used to create line breaks within the text."
   ]
  },
  {
   "cell_type": "code",
   "execution_count": 14,
   "metadata": {},
   "outputs": [
    {
     "name": "stdout",
     "output_type": "stream",
     "text": [
      "First line\n",
      "Second line\n"
     ]
    }
   ],
   "source": [
    "n = \"First line\\nSecond line\"\n",
    "print(n)"
   ]
  },
  {
   "cell_type": "markdown",
   "metadata": {},
   "source": [
    "#### 4. \" \\t \" - Tab :\n",
    "\n",
    "*  Represents a tab character within a string. It is used to insert horizontal spacing."
   ]
  },
  {
   "cell_type": "code",
   "execution_count": 16,
   "metadata": {},
   "outputs": [
    {
     "name": "stdout",
     "output_type": "stream",
     "text": [
      "Name:\tJohn\n"
     ]
    }
   ],
   "source": [
    "w = \"Name:\\tJohn\"\n",
    "print(w)"
   ]
  },
  {
   "cell_type": "markdown",
   "metadata": {},
   "source": [
    "#### 5. \" \\r \" - Carriage Return : \n",
    "\n",
    "* Represents a carriage return character. It's used in some systems to move the cursor to the beginning of the current line."
   ]
  },
  {
   "cell_type": "markdown",
   "metadata": {},
   "source": [
    "## Raw Strings :"
   ]
  },
  {
   "cell_type": "markdown",
   "metadata": {},
   "source": [
    "* Raw strings are particularly useful when working with file paths in Windows, regular expressions, or any situation where you need to preserve the backslashes exactly as they appear in the string.\n",
    "\n",
    "      In this raw string:\n",
    "\n",
    "- \\n : will be treated as a plain text, not as a newline character.\n",
    "- \\\\ : will be treated as a literal backslash and not as an escape sequence."
   ]
  },
  {
   "cell_type": "code",
   "execution_count": 18,
   "metadata": {},
   "outputs": [
    {
     "name": "stdout",
     "output_type": "stream",
     "text": [
      "c:\u0007bc\\newfolder\\j.jpg\n",
      "c:\\abc\\newfolder\\j.jpg\n",
      "c:\\abc\\newfolder\\j.jpg\n"
     ]
    }
   ],
   "source": [
    "print('c:\\abc\\\\newfolder\\j.jpg')\n",
    "print('c:\\\\abc\\\\newfolder\\\\j.jpg')\n",
    "print(r'c:\\abc\\newfolder\\j.jpg')"
   ]
  },
  {
   "cell_type": "markdown",
   "metadata": {},
   "source": [
    "## Formatting String :"
   ]
  },
  {
   "cell_type": "markdown",
   "metadata": {},
   "source": [
    "* formatting strings may depend on the programming language you’re using, as different languages have their own ways of handling string formatting.\n",
    "\n",
    "* The key is to make the resulting string easy to read and understand while incorporating the necessary variable values."
   ]
  },
  {
   "cell_type": "code",
   "execution_count": 20,
   "metadata": {},
   "outputs": [
    {
     "name": "stdout",
     "output_type": "stream",
     "text": [
      "the vol of the sphere whose r and d are 10 and 5 respectively is 523.8095238095237\n"
     ]
    }
   ],
   "source": [
    "d = 10\n",
    "r = 5\n",
    "pi = 22/7\n",
    "vol = 4/3*pi*(r*r*r)\n",
    "print(f'the vol of the sphere whose r and d are {d} and {r} respectively is {vol}')"
   ]
  },
  {
   "cell_type": "markdown",
   "metadata": {},
   "source": [
    "## Positive Indexing :"
   ]
  },
  {
   "cell_type": "markdown",
   "metadata": {},
   "source": [
    "* In positive indexing, we move from <b>right to left</b> and the start index is <b>‘0’</b> and the end index is <b>‘n-1’</b>, where <b>’n’</b> is <b>‘length of the string’</b>."
   ]
  },
  {
   "cell_type": "code",
   "execution_count": 22,
   "metadata": {},
   "outputs": [
    {
     "name": "stdout",
     "output_type": "stream",
     "text": [
      "h\n"
     ]
    }
   ],
   "source": [
    "x = 'Python'\n",
    "print(x[3])# accessing ‘h’"
   ]
  },
  {
   "cell_type": "markdown",
   "metadata": {},
   "source": [
    "## Negative Indexing :"
   ]
  },
  {
   "cell_type": "markdown",
   "metadata": {},
   "source": [
    "* In negative indexing, we move from <b>right to left</b> and the start index is <b>‘-1’</b> and the end index is <b>‘-n’</b>, where <b>’n’</b> is <b>‘length of the string’</b>."
   ]
  },
  {
   "cell_type": "code",
   "execution_count": 23,
   "metadata": {},
   "outputs": [
    {
     "name": "stdout",
     "output_type": "stream",
     "text": [
      "y\n"
     ]
    }
   ],
   "source": [
    "x = 'Python'\n",
    "print(x[-5]) # accessing 'y'"
   ]
  },
  {
   "cell_type": "markdown",
   "metadata": {},
   "source": [
    "## What is an Slicing ?"
   ]
  },
  {
   "cell_type": "markdown",
   "metadata": {},
   "source": [
    "* Slicing is a way to extract a portion of a sequence, such as a string or a list, by specifying a range of elements you want to retrieve.\n",
    "\n",
    "* You can choose where to start and where to end, and you get the part of the sequence in between those points.\n",
    "\n",
    "1. <i> Starting Point</i> : You specify where the slice should begin in the sequence.\n",
    "\n",
    "2. <i> Ending Point</i> : You specify where the slice should end in the sequence (not including the element at the ending point)."
   ]
  },
  {
   "cell_type": "code",
   "execution_count": 25,
   "metadata": {},
   "outputs": [
    {
     "data": {
      "text/plain": [
       "'Hello'"
      ]
     },
     "execution_count": 25,
     "metadata": {},
     "output_type": "execute_result"
    }
   ],
   "source": [
    "text = 'Hello, World!'\n",
    "result = text[0:5]\n",
    "result"
   ]
  },
  {
   "cell_type": "markdown",
   "metadata": {},
   "source": [
    "### Types of slicing :\n",
    "\n",
    "1. Positive Slicing\n",
    "2. Negative Slicing"
   ]
  },
  {
   "cell_type": "markdown",
   "metadata": {},
   "source": [
    "### Positive Slicing :"
   ]
  },
  {
   "cell_type": "markdown",
   "metadata": {},
   "source": [
    "* Positive slicing involves specifying a starting index and an ending index to extract a range of elements from the sequence.\n",
    "\n",
    "> Starting Point : You specify where the slice should begin in the sequence, starting from the first element, which is index <b>0</b>.\n",
    "\n",
    "> Ending Point : You specify where the slice should end in the sequence<b>(n-1)</b>"
   ]
  },
  {
   "cell_type": "code",
   "execution_count": 26,
   "metadata": {},
   "outputs": [
    {
     "name": "stdout",
     "output_type": "stream",
     "text": [
      "i am not sure\n",
      "i am not sure what to take as an example\n"
     ]
    }
   ],
   "source": [
    "x = 'i am not sure what to take as an example'\n",
    "print(x[0:13])\n",
    "print(x[0:41])"
   ]
  },
  {
   "cell_type": "markdown",
   "metadata": {},
   "source": [
    "### Negative Slicing :"
   ]
  },
  {
   "cell_type": "markdown",
   "metadata": {},
   "source": [
    "* Negative slicing involves specifying a starting index and an ending index using negative numbers to indicate positions relative to the end of the sequence.\n",
    "\n",
    "> Starting Point : You specify where the slice should begin in the sequence, starting from the last element, which is index <b>-1</b>.\n",
    "\n",
    "> Ending Point : You specify where the slice should end in the sequence, using negative indices<b>n</b>."
   ]
  },
  {
   "cell_type": "code",
   "execution_count": 27,
   "metadata": {},
   "outputs": [
    {
     "name": "stdout",
     "output_type": "stream",
     "text": [
      "Pytho\n"
     ]
    }
   ],
   "source": [
    "x = 'Python'\n",
    "print(x[-6:-1])"
   ]
  },
  {
   "cell_type": "markdown",
   "metadata": {},
   "source": [
    "## String Methods :"
   ]
  },
  {
   "cell_type": "markdown",
   "metadata": {},
   "source": [
    "* String operations are like tools that you can use to work with text (strings) in computer programming.\n",
    "\n",
    "* strings are <b>immutable</b>, the resulting strings from string methods have a new memory location.\n",
    "\n",
    "* in order to use these strings, we need re-assign it to a variable."
   ]
  },
  {
   "cell_type": "markdown",
   "metadata": {},
   "source": [
    "### Types of string methods :"
   ]
  },
  {
   "cell_type": "markdown",
   "metadata": {},
   "source": [
    "* there are total 45 string methods are present and they follow as follows :"
   ]
  },
  {
   "cell_type": "markdown",
   "metadata": {},
   "source": [
    "#### i) String_Upper_Case() :"
   ]
  },
  {
   "cell_type": "markdown",
   "metadata": {},
   "source": [
    "* This method changes all the characters in a string to capital alphabets.\n",
    "> syntax :\n",
    "upper(self, /)\n",
    "\n",
    "       where\n",
    "          * Return a copy of the string converted to uppercase.\n"
   ]
  },
  {
   "cell_type": "code",
   "execution_count": 29,
   "metadata": {},
   "outputs": [
    {
     "data": {
      "text/plain": [
       "'HELLO'"
      ]
     },
     "execution_count": 29,
     "metadata": {},
     "output_type": "execute_result"
    }
   ],
   "source": [
    "x = 'hello'\n",
    "x = x.upper()\n",
    "x"
   ]
  },
  {
   "cell_type": "markdown",
   "metadata": {},
   "source": [
    "#### ii) String_lower_case() :"
   ]
  },
  {
   "cell_type": "markdown",
   "metadata": {},
   "source": [
    "* This method changes all the characters in a string to small letters.\n",
    "> syntax :\n",
    "lower(self, /)\n",
    "    \n",
    "       where\n",
    "          * Return a copy of the string converted to lowercase."
   ]
  },
  {
   "cell_type": "code",
   "execution_count": 30,
   "metadata": {},
   "outputs": [
    {
     "data": {
      "text/plain": [
       "'python'"
      ]
     },
     "execution_count": 30,
     "metadata": {},
     "output_type": "execute_result"
    }
   ],
   "source": [
    "y = 'PYTHON'\n",
    "y = y.lower()\n",
    "y"
   ]
  },
  {
   "cell_type": "markdown",
   "metadata": {},
   "source": [
    "#### iii) String_capitalize() :"
   ]
  },
  {
   "cell_type": "markdown",
   "metadata": {},
   "source": [
    "* This method changes first word, first alphabet will be convert into capital letter.\n",
    "> syntax :\n",
    "capitalize(self, /)\n",
    "\n",
    "       where,\n",
    "          * Return a capitalized version of the string.\n",
    "          * first character have upper case and the rest lower case."
   ]
  },
  {
   "cell_type": "code",
   "execution_count": 31,
   "metadata": {},
   "outputs": [
    {
     "data": {
      "text/plain": [
       "'Sea shell, see shell, on the sea shore'"
      ]
     },
     "execution_count": 31,
     "metadata": {},
     "output_type": "execute_result"
    }
   ],
   "source": [
    "xc = 'sea shell, see shell, on the sea shore'\n",
    "xc = xc.capitalize()\n",
    "xc"
   ]
  },
  {
   "cell_type": "markdown",
   "metadata": {},
   "source": [
    "#### iv) String_Title() :"
   ]
  },
  {
   "cell_type": "markdown",
   "metadata": {},
   "source": [
    "* This method changes first alphabet of every word will convert into capital letter.\n",
    "> syntax : \n",
    "title(self, /)\n",
    "\n",
    "      where,\n",
    "         * Return a version of the string where each word is titlecased.\n",
    "         * start with uppercased characters and all remaining \n",
    "         cased characters have lower case."
   ]
  },
  {
   "cell_type": "code",
   "execution_count": 32,
   "metadata": {},
   "outputs": [
    {
     "data": {
      "text/plain": [
       "'Sea Shell, See Shell, On The Sea Shore'"
      ]
     },
     "execution_count": 32,
     "metadata": {},
     "output_type": "execute_result"
    }
   ],
   "source": [
    "xt = 'Sea shell, see shell, on the sea shore'\n",
    "xt = xt.title()\n",
    "xt"
   ]
  },
  {
   "cell_type": "markdown",
   "metadata": {},
   "source": [
    "#### v) String_Swapcase() :"
   ]
  },
  {
   "cell_type": "markdown",
   "metadata": {},
   "source": [
    "* This method changes capital letters to small letters and small letters to capital letters.\n",
    "> syntax :\n",
    "swapcase(self, /)\n",
    "\n",
    "        where,\n",
    "           * Convert uppercase characters to lowercase and lowercase characters to uppercase."
   ]
  },
  {
   "cell_type": "code",
   "execution_count": 33,
   "metadata": {},
   "outputs": [
    {
     "data": {
      "text/plain": [
       "'sEA sHELL, sEE sHELL, oN tHE sEA sHORE'"
      ]
     },
     "execution_count": 33,
     "metadata": {},
     "output_type": "execute_result"
    }
   ],
   "source": [
    "xsw = 'Sea Shell, See Shell, On The Sea Shore'\n",
    "xsw = xsw.swapcase()\n",
    "xsw"
   ]
  },
  {
   "cell_type": "markdown",
   "metadata": {},
   "source": [
    "#### vi) String_casefold() :"
   ]
  },
  {
   "cell_type": "markdown",
   "metadata": {},
   "source": [
    "* This method changes string lower case to more lower case , special characters like Germen character (ß) is already in lower case so, the lower method doesn’t make the conversion.\n",
    "* but the casefold() method will convert ß to its equivalent character ss\n",
    "> syntax :\n",
    "casefold(self, /)\n",
    "\n",
    "      where,\n",
    "         * Return a version of the string suitable for caseless \n",
    "         comparisons."
   ]
  },
  {
   "cell_type": "code",
   "execution_count": 34,
   "metadata": {},
   "outputs": [
    {
     "data": {
      "text/plain": [
       "'sjuhdsscnjdgiun'"
      ]
     },
     "execution_count": 34,
     "metadata": {},
     "output_type": "execute_result"
    }
   ],
   "source": [
    "x = 'SjuhdßcnjdGIUN'\n",
    "x.casefold()"
   ]
  },
  {
   "cell_type": "markdown",
   "metadata": {},
   "source": [
    "#### vii) String_find() :"
   ]
  },
  {
   "cell_type": "markdown",
   "metadata": {},
   "source": [
    "* string find operation refers to searching for a specific sequence of characters (a substring) within a larger text or string.\n",
    "\n",
    "* When you use string find, to an program or to computer program to check if a particular set of characters exists within a given text, and it will return a result that tells you whether or where that substring was found.\n",
    "\n",
    "* it's found, the program may tell you the position (index) where it starts in the text\n",
    "> syntax :\n",
    "S.find(sub[, start[, end]])\n",
    "\n",
    "        where,\n",
    "* sub : sub-string\n",
    "* start : from the starting of index position\n",
    "* end : till upto the index position\n",
    "* returns the lowest index in a S where a sub-string is found in the format of <b>S[start:end]</b>.\n",
    "* return <b>-1</b> on failure.        \n",
    "        "
   ]
  },
  {
   "cell_type": "code",
   "execution_count": 35,
   "metadata": {},
   "outputs": [
    {
     "data": {
      "text/plain": [
       "'Peter Piper picked a peck of pickled peppers.\\nA peck of pickled peppers Peter Piper picked.\\nIf Peter Piper picked a peck of pickled peppers,\\nWhere’s the peck of pickled peppers Peter Piper picked'"
      ]
     },
     "execution_count": 35,
     "metadata": {},
     "output_type": "execute_result"
    }
   ],
   "source": [
    "x = '''Peter Piper picked a peck of pickled peppers.\n",
    "A peck of pickled peppers Peter Piper picked.\n",
    "If Peter Piper picked a peck of pickled peppers,\n",
    "Where’s the peck of pickled peppers Peter Piper picked'''\n",
    "x"
   ]
  },
  {
   "cell_type": "code",
   "execution_count": 37,
   "metadata": {},
   "outputs": [
    {
     "data": {
      "text/plain": [
       "114"
      ]
     },
     "execution_count": 37,
     "metadata": {},
     "output_type": "execute_result"
    }
   ],
   "source": [
    "x.find('a',20)"
   ]
  },
  {
   "cell_type": "code",
   "execution_count": 38,
   "metadata": {},
   "outputs": [
    {
     "data": {
      "text/plain": [
       "-1"
      ]
     },
     "execution_count": 38,
     "metadata": {},
     "output_type": "execute_result"
    }
   ],
   "source": [
    "x.find('z',120)"
   ]
  },
  {
   "cell_type": "markdown",
   "metadata": {},
   "source": [
    "#### viii) String_rfind() :"
   ]
  },
  {
   "cell_type": "markdown",
   "metadata": {},
   "source": [
    "* string rfind refers to the operation of searching for a specific sequence of characters (substring) within a larger text or string, but it starts the search from the end of the string and works backward.\n",
    "\n",
    "* When you use string find, to an program or to computer program to check the last occurrence of a particular set of characters in a given text and report its position (index) within the text.\n",
    "\n",
    "* If the substring is found multiple times, it will return the position of the last occurrence.\n",
    "> syntax :\n",
    "S.rfind(sub[, start[, end]])\n",
    "\n",
    "    where,\n",
    "* sub : sub-string\n",
    "* start : from the starting of index position\n",
    "* end : till upto the index position\n",
    "* Return the highest index in S where substring sub is found, such that sub is contained within <b>S[start:end]</b>.\n",
    "* Return <b>-1</b> on failure."
   ]
  },
  {
   "cell_type": "code",
   "execution_count": 39,
   "metadata": {},
   "outputs": [
    {
     "data": {
      "text/plain": [
       "7"
      ]
     },
     "execution_count": 39,
     "metadata": {},
     "output_type": "execute_result"
    }
   ],
   "source": [
    "'malayalam'.rfind('a',2)"
   ]
  },
  {
   "cell_type": "code",
   "execution_count": 40,
   "metadata": {},
   "outputs": [
    {
     "data": {
      "text/plain": [
       "-1"
      ]
     },
     "execution_count": 40,
     "metadata": {},
     "output_type": "execute_result"
    }
   ],
   "source": [
    "'malayalam'.rfind('z',10)"
   ]
  },
  {
   "cell_type": "markdown",
   "metadata": {},
   "source": [
    "<b> the main difference between the find and rfind as following :\n",
    "    \n",
    "1. find - moves from left to right, and retruns the lowest index in the given string\n",
    "2. rfind - moves from right to left, and retruns the highest index in the given string </b>"
   ]
  },
  {
   "cell_type": "markdown",
   "metadata": {},
   "source": [
    "#### ix) String_Count () :"
   ]
  },
  {
   "cell_type": "markdown",
   "metadata": {},
   "source": [
    "* string count refers to the operation of counting how many times a specific substring appears within a larger text or string.\n",
    "\n",
    "* When you use string count, to an program or to computer program to check for a certain sequence of characters within a given text and then return the number of times that sequence is found.\n",
    "> syntax :\n",
    "S.count(sub[, start[, end]])\n",
    "\n",
    "     where,\n",
    "* sub : sub-string\n",
    "* start : from the starting of index position\n",
    "* end : till upto the index position\n",
    "* Return the number of non-overlapping occurrences of substring sub in string <b>S[start:end]</b>.\n",
    "* return <b>0</b> on failure."
   ]
  },
  {
   "cell_type": "code",
   "execution_count": 41,
   "metadata": {},
   "outputs": [
    {
     "data": {
      "text/plain": [
       "'Peter Piper picked a peck of pickled peppers.\\nA peck of pickled peppers Peter Piper picked.\\nIf Peter Piper picked a peck of pickled peppers,\\nWhere’s the peck of pickled peppers Peter Piper picked'"
      ]
     },
     "execution_count": 41,
     "metadata": {},
     "output_type": "execute_result"
    }
   ],
   "source": [
    "x"
   ]
  },
  {
   "cell_type": "code",
   "execution_count": 42,
   "metadata": {},
   "outputs": [
    {
     "data": {
      "text/plain": [
       "28"
      ]
     },
     "execution_count": 42,
     "metadata": {},
     "output_type": "execute_result"
    }
   ],
   "source": [
    "x.count('p')"
   ]
  },
  {
   "cell_type": "code",
   "execution_count": 43,
   "metadata": {},
   "outputs": [
    {
     "data": {
      "text/plain": [
       "0"
      ]
     },
     "execution_count": 43,
     "metadata": {},
     "output_type": "execute_result"
    }
   ],
   "source": [
    "x.count('z')"
   ]
  },
  {
   "cell_type": "markdown",
   "metadata": {},
   "source": [
    "#### x) String_Index() :"
   ]
  },
  {
   "cell_type": "markdown",
   "metadata": {},
   "source": [
    "* string index refers to the position of a specific character within a text or string.\n",
    "\n",
    "* Each character in a string is assigned a unique index number that represents its position within the string from beginning.\n",
    "\n",
    "* index numbers typically start at 0 for the first character in the string and increase incrementally for each subsequent character.\n",
    "> syntax :\n",
    "S.index(sub[, start[, end]])\n",
    "\n",
    "     where,\n",
    "* sub : sub-string\n",
    "* start : from the starting of index position\n",
    "* end : till upto the index position\n",
    "* Return the lowest index in S where substring sub is found,such that sub is contained within <b>S[start:end]</b>\n",
    "* Raises <b>ValueError</b> when the substring is not found."
   ]
  },
  {
   "cell_type": "code",
   "execution_count": 44,
   "metadata": {},
   "outputs": [
    {
     "data": {
      "text/plain": [
       "0"
      ]
     },
     "execution_count": 44,
     "metadata": {},
     "output_type": "execute_result"
    }
   ],
   "source": [
    "z = 'kanada'\n",
    "z.index('k')"
   ]
  },
  {
   "cell_type": "code",
   "execution_count": 45,
   "metadata": {},
   "outputs": [
    {
     "ename": "ValueError",
     "evalue": "substring not found",
     "output_type": "error",
     "traceback": [
      "\u001b[1;31m---------------------------------------------------------------------------\u001b[0m",
      "\u001b[1;31mValueError\u001b[0m                                Traceback (most recent call last)",
      "\u001b[1;32m<ipython-input-45-6b9b28265771>\u001b[0m in \u001b[0;36m<module>\u001b[1;34m\u001b[0m\n\u001b[0;32m      1\u001b[0m \u001b[0mz\u001b[0m \u001b[1;33m=\u001b[0m \u001b[1;34m'kanada'\u001b[0m\u001b[1;33m\u001b[0m\u001b[1;33m\u001b[0m\u001b[0m\n\u001b[1;32m----> 2\u001b[1;33m \u001b[0mz\u001b[0m\u001b[1;33m.\u001b[0m\u001b[0mindex\u001b[0m\u001b[1;33m(\u001b[0m\u001b[1;34m'z'\u001b[0m\u001b[1;33m)\u001b[0m\u001b[1;33m\u001b[0m\u001b[1;33m\u001b[0m\u001b[0m\n\u001b[0m",
      "\u001b[1;31mValueError\u001b[0m: substring not found"
     ]
    }
   ],
   "source": [
    "z = 'kanada'\n",
    "z.index('z')"
   ]
  },
  {
   "cell_type": "markdown",
   "metadata": {},
   "source": [
    "<b>the difference between the find(), and index() is </b>:\n",
    " * in find() if we dont have any variable doesnt have in that string is gives -1 in output.\n",
    " * but in index(), it shows an error so that we can't run the program."
   ]
  },
  {
   "cell_type": "markdown",
   "metadata": {},
   "source": [
    "#### xi) String_rindex() :"
   ]
  },
  {
   "cell_type": "markdown",
   "metadata": {},
   "source": [
    "* string rindex refers to finding the position (index) of a specific character or substring within a text or string.\n",
    "\n",
    "* but it starts the search from the end of the string and works backward,and moving towards the beginning.\n",
    "> syntax :\n",
    "S.rindex(sub[, start[, end]])\n",
    "\n",
    "         where,\n",
    "* sub : sub-string\n",
    "* start : from the starting of index position\n",
    "* end : till upto the index position\n",
    "* Return the highest index in S where substring sub is found, such that sub is contained within <b>S[start:end]</b>.\n",
    "* Raises <b>ValueError</b> when the substring is not found."
   ]
  },
  {
   "cell_type": "markdown",
   "metadata": {},
   "source": [
    "<b> * index() and rindex() are same but : </b>\n",
    "* index () - from left to right begins with index = 0(lowest index)\n",
    "* rindex () - from right to left befins with index = n(highest index"
   ]
  },
  {
   "cell_type": "code",
   "execution_count": 46,
   "metadata": {},
   "outputs": [
    {
     "data": {
      "text/plain": [
       "2"
      ]
     },
     "execution_count": 46,
     "metadata": {},
     "output_type": "execute_result"
    }
   ],
   "source": [
    "z = 'kanada'\n",
    "z.index('n')"
   ]
  },
  {
   "cell_type": "code",
   "execution_count": 47,
   "metadata": {},
   "outputs": [
    {
     "ename": "ValueError",
     "evalue": "substring not found",
     "output_type": "error",
     "traceback": [
      "\u001b[1;31m---------------------------------------------------------------------------\u001b[0m",
      "\u001b[1;31mValueError\u001b[0m                                Traceback (most recent call last)",
      "\u001b[1;32m<ipython-input-47-068493ee89fd>\u001b[0m in \u001b[0;36m<module>\u001b[1;34m\u001b[0m\n\u001b[0;32m      1\u001b[0m \u001b[0mz\u001b[0m \u001b[1;33m=\u001b[0m \u001b[1;34m'kanada'\u001b[0m\u001b[1;33m\u001b[0m\u001b[1;33m\u001b[0m\u001b[0m\n\u001b[1;32m----> 2\u001b[1;33m \u001b[0mz\u001b[0m\u001b[1;33m.\u001b[0m\u001b[0mindex\u001b[0m\u001b[1;33m(\u001b[0m\u001b[1;34m'y'\u001b[0m\u001b[1;33m)\u001b[0m\u001b[1;33m\u001b[0m\u001b[1;33m\u001b[0m\u001b[0m\n\u001b[0m",
      "\u001b[1;31mValueError\u001b[0m: substring not found"
     ]
    }
   ],
   "source": [
    "z = 'kanada'\n",
    "z.index('y')"
   ]
  },
  {
   "cell_type": "markdown",
   "metadata": {},
   "source": [
    "#### xii) String_Replace () :"
   ]
  },
  {
   "cell_type": "markdown",
   "metadata": {},
   "source": [
    "* string replace refers to the operation of changing one set of characters (substring) within a text or string to another set of characters.\n",
    "* editing or modifying a piece of text by replacing specific words, phrases, or characters with different ones.\n",
    "> syntax :\n",
    "replace(old, new, count=-1, /)\n",
    "\n",
    "       where,\n",
    "* old : the old sub-string\n",
    "* new : the new sub-string\n",
    "* count : how many times we have to change the old string to new string <b>defalut value = -1</b>\n",
    "* '/' : new line"
   ]
  },
  {
   "cell_type": "code",
   "execution_count": 48,
   "metadata": {},
   "outputs": [
    {
     "data": {
      "text/plain": [
       "'MalayalaM'"
      ]
     },
     "execution_count": 48,
     "metadata": {},
     "output_type": "execute_result"
    }
   ],
   "source": [
    "m='malayalam'\n",
    "m.replace('m','M')"
   ]
  },
  {
   "cell_type": "code",
   "execution_count": 49,
   "metadata": {},
   "outputs": [
    {
     "data": {
      "text/plain": [
       "'mAlAyalam'"
      ]
     },
     "execution_count": 49,
     "metadata": {},
     "output_type": "execute_result"
    }
   ],
   "source": [
    "m.replace('a','A',2) # count value = increse to 2"
   ]
  },
  {
   "cell_type": "code",
   "execution_count": 50,
   "metadata": {},
   "outputs": [
    {
     "data": {
      "text/plain": [
       "'mAlAyAlAm'"
      ]
     },
     "execution_count": 50,
     "metadata": {},
     "output_type": "execute_result"
    }
   ],
   "source": [
    "m.replace('a','A',4) # count value = increse to 4"
   ]
  },
  {
   "cell_type": "markdown",
   "metadata": {},
   "source": [
    "#### xiii) String_Split() :"
   ]
  },
  {
   "cell_type": "markdown",
   "metadata": {},
   "source": [
    "* string split refers to the operation of dividing a longer piece of text or string into smaller parts based on a specific character or sequence of characters.\n",
    "* like breaking a sentence into individual words or splitting a paragraph into sentences.\n",
    "* When you use string count, to an program to find a specific character, such as a space or a comma, within the text and use that character as a delimiter to separate the text into smaller pieces, often resulting in an array or a list of substrings.\n",
    "> syntax :\n",
    "split(sep=None, maxsplit=-1)\n",
    "\n",
    "      where,\n",
    "* None : the default value(white space)\n",
    "* maxsplit : we can increase the maxsplit value upto our choice.\n",
    "* defalut value <b>-1 </b>"
   ]
  },
  {
   "cell_type": "code",
   "execution_count": 51,
   "metadata": {},
   "outputs": [
    {
     "data": {
      "text/plain": [
       "['Innomatics', 'Research', 'Labs,', 'near', 'JNTU']"
      ]
     },
     "execution_count": 51,
     "metadata": {},
     "output_type": "execute_result"
    }
   ],
   "source": [
    "x = 'Innomatics Research Labs, near JNTU'\n",
    "x.split(' ')"
   ]
  },
  {
   "cell_type": "code",
   "execution_count": 52,
   "metadata": {},
   "outputs": [
    {
     "data": {
      "text/plain": [
       "['Betty',\n",
       " 'Botter',\n",
       " 'bought',\n",
       " 'some',\n",
       " 'butter\\nBut she said the butter’s bitter\\nIf I put it in my batter, it will make my batter bitter\\nBut a bit of better butter will make my batter better\\nSo ‘twas better Betty Botter bought a bit of better butter']"
      ]
     },
     "execution_count": 52,
     "metadata": {},
     "output_type": "execute_result"
    }
   ],
   "source": [
    "x = '''Betty Botter bought some butter\n",
    "But she said the butter’s bitter\n",
    "If I put it in my batter, it will make my batter bitter\n",
    "But a bit of better butter will make my batter better\n",
    "So ‘twas better Betty Botter bought a bit of better butter'''\n",
    "x.split(' ', maxsplit = 4) # left to right"
   ]
  },
  {
   "cell_type": "markdown",
   "metadata": {},
   "source": [
    "#### xiv) String_rsplit() :"
   ]
  },
  {
   "cell_type": "markdown",
   "metadata": {},
   "source": [
    "* string rsplit is similar to string split, but it splits a longer piece of text or string into smaller parts based on a specific character or sequence of characters starting from the end of the string and working <b>backward</b>.\n",
    "* breaking a sentence into individual words starting from the <b>last word and moving towards the beginning</b>.\n",
    "> syntax :\n",
    "x.rsplit(sep=None, maxsplit=-1)\n",
    "\n",
    "    where,\n",
    "* sep : The delimiter according which to split the string default : <b> none</b>\n",
    "* maxsplit : Maximum number of splits to do defalut : <b>-1</b> "
   ]
  },
  {
   "cell_type": "code",
   "execution_count": 53,
   "metadata": {},
   "outputs": [
    {
     "data": {
      "text/plain": [
       "['Betty Botter bought some butter\\nBut she said the butter’s bitter\\nIf I put it in my batter, it will make my batter bitter\\nBut a bit of better butter will make my batter better\\nSo ‘twas better Betty Botter bought',\n",
       " 'a',\n",
       " 'bit',\n",
       " 'of',\n",
       " 'better',\n",
       " 'butter']"
      ]
     },
     "execution_count": 53,
     "metadata": {},
     "output_type": "execute_result"
    }
   ],
   "source": [
    "x.rsplit(' ',maxsplit = 5) #right to left"
   ]
  },
  {
   "cell_type": "markdown",
   "metadata": {},
   "source": [
    "#### xv) String_Partition () :\n"
   ]
  },
  {
   "cell_type": "markdown",
   "metadata": {},
   "source": [
    "* * string partition refers to the operation of splitting a longer piece of text or string into three parts based on a specific separator or delimiter. \n",
    "* It's like dividing a sentence into three segments around a particular word or character.\n",
    "\n",
    "      The operation will result in three components:\n",
    "\n",
    "         * The part of the string before the separator.\n",
    "         * The separator itself.\n",
    "         * The part of the string after the separator.\n",
    "> syntax :\n",
    "partition(self, sep, /)\n",
    "\n",
    "     where,\n",
    "* Partition the string into three parts using the given separator.\n",
    "* If the separator is not found, returns a <b>3-tuple</b> containing the original string.\n",
    "* two empty strings.\n"
   ]
  },
  {
   "cell_type": "code",
   "execution_count": 54,
   "metadata": {},
   "outputs": [
    {
     "data": {
      "text/plain": [
       "('Betty',\n",
       " ' ',\n",
       " 'Botter bought some butter\\nBut she said the butter’s bitter\\nIf I put it in my batter, it will make my batter bitter\\nBut a bit of better butter will make my batter better\\nSo ‘twas better Betty Botter bought a bit of better butter')"
      ]
     },
     "execution_count": 54,
     "metadata": {},
     "output_type": "execute_result"
    }
   ],
   "source": [
    "x.partition(' ') "
   ]
  },
  {
   "cell_type": "code",
   "execution_count": 55,
   "metadata": {},
   "outputs": [
    {
     "data": {
      "text/plain": [
       "('Betty Botter bought some butter\\nBut she said the butter’s bitter\\nIf I put it in my batter, it will make my batter bitter\\nBut a bit of better butter will make my batter better\\nSo ‘twas better Betty Botter bought a bit of better butter',\n",
       " '',\n",
       " '')"
      ]
     },
     "execution_count": 55,
     "metadata": {},
     "output_type": "execute_result"
    }
   ],
   "source": [
    "x.partition('z')"
   ]
  },
  {
   "cell_type": "markdown",
   "metadata": {},
   "source": [
    "#### xvi) String_rpartition () :"
   ]
  },
  {
   "cell_type": "markdown",
   "metadata": {},
   "source": [
    "* * string rpartition is similar to \"string partition,\" but it splits a longer piece of text or string into three parts based on a specific separator or delimiter, <b>starting from the end of the string and working backward</b>. \n",
    "*  but the operation begins at the end of the text and moves towards the beginning.\n",
    "\n",
    "        The operation results in three components:\n",
    "      * The part of the string after the last occurrence of the separator.\n",
    "      * The separator itself.\n",
    "      * The part of the string before the last occurrence of the separator.\n",
    "> synatx :\n",
    "rpartition(self, sep, /)\n",
    "\n",
    "        where,\n",
    "* the separator is found, returns a 3-tuple \n",
    "* the separator is not found, returns a 3-tuple containing two empty strings and the original string."
   ]
  },
  {
   "cell_type": "code",
   "execution_count": 56,
   "metadata": {},
   "outputs": [
    {
     "data": {
      "text/plain": [
       "('m', 'o', 'nkey')"
      ]
     },
     "execution_count": 56,
     "metadata": {},
     "output_type": "execute_result"
    }
   ],
   "source": [
    "m = 'monkey'\n",
    "m.rpartition('o') # left to right - direction"
   ]
  },
  {
   "cell_type": "code",
   "execution_count": 57,
   "metadata": {},
   "outputs": [
    {
     "data": {
      "text/plain": [
       "('', '', 'monkey')"
      ]
     },
     "execution_count": 57,
     "metadata": {},
     "output_type": "execute_result"
    }
   ],
   "source": [
    "m = 'monkey'\n",
    "m.rpartition('a') # right to left - direction"
   ]
  },
  {
   "cell_type": "markdown",
   "metadata": {},
   "source": [
    "#### xvi) String_SplitLines () :"
   ]
  },
  {
   "cell_type": "markdown",
   "metadata": {},
   "source": [
    "* * string splitlines refers to the operation of splitting a text or string into multiple lines based on line breaks or newline characters. \n",
    "* program to find and identify the newline characters within the text,hese lines are usually stored as elements in a list or array.  \n",
    "> syntax :\n",
    "splitlines(self, /, keepends=False)\n",
    "\n",
    "      where,\n",
    " * Return a list of the lines in the string, breaking at line boundaries.\n",
    "  * Line breaks are not included in the resulting list unless keepends is given and true."
   ]
  },
  {
   "cell_type": "code",
   "execution_count": 58,
   "metadata": {},
   "outputs": [
    {
     "data": {
      "text/plain": [
       "['Betty Botter bought some butter',\n",
       " 'But she said the butter’s bitter',\n",
       " 'If I put it in my batter, it will make my batter bitter',\n",
       " 'But a bit of better butter will make my batter better',\n",
       " 'So ‘twas better Betty Botter bought a bit of better butter']"
      ]
     },
     "execution_count": 58,
     "metadata": {},
     "output_type": "execute_result"
    }
   ],
   "source": [
    "x.splitlines()"
   ]
  },
  {
   "cell_type": "markdown",
   "metadata": {},
   "source": [
    "#### xvii) String_center() :"
   ]
  },
  {
   "cell_type": "markdown",
   "metadata": {},
   "source": [
    "* string center can refer to the middle or central part of a string of text.\n",
    "* not be a widely used term in everyday language, and its meaning can vary depending on the context in which it is used.\n",
    "> syntax :\n",
    "center(self, width, fillchar=' ', /)\n",
    "\n",
    "     where,\n",
    "* Return a centered string of length width.\n",
    "* Padding is done using the specified fill character (default is a space)."
   ]
  },
  {
   "cell_type": "code",
   "execution_count": 59,
   "metadata": {},
   "outputs": [
    {
     "data": {
      "text/plain": [
       "'*******monkey*******'"
      ]
     },
     "execution_count": 59,
     "metadata": {},
     "output_type": "execute_result"
    }
   ],
   "source": [
    "m.center(20,'*') # we can use one character to print like this.\n"
   ]
  },
  {
   "cell_type": "markdown",
   "metadata": {},
   "source": [
    "#### xvii) String_ljust():"
   ]
  },
  {
   "cell_type": "markdown",
   "metadata": {},
   "source": [
    "* function or method used in programming to align and pad a text string to the left, making it a certain length by adding extra characters, often spaces, on the right side. \n",
    "> syntax :\n",
    "ljust(self, width, fillchar=' ', /)\n",
    "\n",
    "      where,\n",
    "* Return a left-justified string of length width.\n",
    "* Padding is done using the specified fill character (default is a space)."
   ]
  },
  {
   "cell_type": "code",
   "execution_count": 60,
   "metadata": {},
   "outputs": [
    {
     "data": {
      "text/plain": [
       "'monkey**************'"
      ]
     },
     "execution_count": 60,
     "metadata": {},
     "output_type": "execute_result"
    }
   ],
   "source": [
    "m.ljust(20, '*')"
   ]
  },
  {
   "cell_type": "code",
   "execution_count": 61,
   "metadata": {},
   "outputs": [
    {
     "data": {
      "text/plain": [
       "'monkey00000000000000'"
      ]
     },
     "execution_count": 61,
     "metadata": {},
     "output_type": "execute_result"
    }
   ],
   "source": [
    "m.ljust(20,'0') # zfill method to get zero's get on left side and string on the right side'"
   ]
  },
  {
   "cell_type": "markdown",
   "metadata": {},
   "source": [
    "#### xviii) string_rjust ():"
   ]
  },
  {
   "cell_type": "markdown",
   "metadata": {},
   "source": [
    "* function or method used in programming to align and pad a text string to the right, making it a certain length by adding extra characters, typically spaces, on the left side. \n",
    "> syntax :\n",
    "rjust(self, width, fillchar=' ', /)\n",
    "\n",
    "    where,\n",
    "*  Return a right-justified string of length width.\n",
    "*   Padding is done using the specified fill character (default is a space)."
   ]
  },
  {
   "cell_type": "code",
   "execution_count": 62,
   "metadata": {},
   "outputs": [
    {
     "data": {
      "text/plain": [
       "'              monkey'"
      ]
     },
     "execution_count": 62,
     "metadata": {},
     "output_type": "execute_result"
    }
   ],
   "source": [
    "m.rjust(20)"
   ]
  },
  {
   "cell_type": "code",
   "execution_count": 63,
   "metadata": {},
   "outputs": [
    {
     "data": {
      "text/plain": [
       "'**************monkey'"
      ]
     },
     "execution_count": 63,
     "metadata": {},
     "output_type": "execute_result"
    }
   ],
   "source": [
    "m.rjust(20, '*')"
   ]
  },
  {
   "cell_type": "markdown",
   "metadata": {},
   "source": [
    "#### xix) string_zfill() :"
   ]
  },
  {
   "cell_type": "markdown",
   "metadata": {},
   "source": [
    "* function or method used in programming to pad a text string with zeros (0s) on the left side to make it a certain length. \n",
    "> syntax :\n",
    "zfill(self, width, /)\n",
    "\n",
    "        where,\n",
    "* String with zeros on the left, to fill a field of the given width.\n",
    "* The string is never truncated."
   ]
  },
  {
   "cell_type": "code",
   "execution_count": 64,
   "metadata": {},
   "outputs": [
    {
     "data": {
      "text/plain": [
       "'00000000000000monkey'"
      ]
     },
     "execution_count": 64,
     "metadata": {},
     "output_type": "execute_result"
    }
   ],
   "source": [
    "m.zfill(20) # zero's are left side and string will be on the right side."
   ]
  },
  {
   "cell_type": "markdown",
   "metadata": {},
   "source": [
    "#### xx) string_strip() :"
   ]
  },
  {
   "cell_type": "markdown",
   "metadata": {},
   "source": [
    "* a method used in programming to remove certain characters from the beginning and end of a text string. \n",
    "*  It's often used to eliminate spaces, tabs, or other specified characters at the start and end of a string, effectively \"cleaning up\" the text.\n",
    "> syntax :\n",
    "strip(self, chars=None, /)\n",
    "\n",
    "     where,\n",
    "*  Return a copy of the string with leading and trailing whitespace removed.\n",
    "* If chars is given and not None, remove characters in chars instead."
   ]
  },
  {
   "cell_type": "code",
   "execution_count": 65,
   "metadata": {},
   "outputs": [
    {
     "data": {
      "text/plain": [
       "'!@#monkey#@!'"
      ]
     },
     "execution_count": 65,
     "metadata": {},
     "output_type": "execute_result"
    }
   ],
   "source": [
    "a = '!@#' + m +'#@!'\n",
    "a"
   ]
  },
  {
   "cell_type": "code",
   "execution_count": 66,
   "metadata": {},
   "outputs": [
    {
     "data": {
      "text/plain": [
       "'@#monkey#@'"
      ]
     },
     "execution_count": 66,
     "metadata": {},
     "output_type": "execute_result"
    }
   ],
   "source": [
    "a.strip('!') # doesn't look for string"
   ]
  },
  {
   "cell_type": "code",
   "execution_count": 67,
   "metadata": {},
   "outputs": [
    {
     "data": {
      "text/plain": [
       "'#monkey#'"
      ]
     },
     "execution_count": 67,
     "metadata": {},
     "output_type": "execute_result"
    }
   ],
   "source": [
    "a.strip('!@') # checks for character"
   ]
  },
  {
   "cell_type": "code",
   "execution_count": 68,
   "metadata": {},
   "outputs": [
    {
     "data": {
      "text/plain": [
       "'monkey'"
      ]
     },
     "execution_count": 68,
     "metadata": {},
     "output_type": "execute_result"
    }
   ],
   "source": [
    "a.strip('#!@') # order is doesn't matter"
   ]
  },
  {
   "cell_type": "markdown",
   "metadata": {},
   "source": [
    "#### xxi) string_lstrip():"
   ]
  },
  {
   "cell_type": "markdown",
   "metadata": {},
   "source": [
    "* method used in programming to remove specific characters from the beginning (left side) of a text string. \n",
    "*  used to clean up or modify a string by getting rid of unwanted characters at the start of the text.\n",
    "> syntax :\n",
    "lstrip(self, chars=None, /)\n",
    "        \n",
    "        where,\n",
    "* Return a copy of the string with leading whitespace removed.\n",
    "* If chars is given and not None, remove characters in chars instead."
   ]
  },
  {
   "cell_type": "code",
   "execution_count": 70,
   "metadata": {},
   "outputs": [
    {
     "data": {
      "text/plain": [
       "'Fuzzy Wuzzy was a bear. Fuzzy Wuzzy had no hair. Fuzzy Wuzzy wasn’t fuzzy, was he'"
      ]
     },
     "execution_count": 70,
     "metadata": {},
     "output_type": "execute_result"
    }
   ],
   "source": [
    "s = '''Fuzzy Wuzzy was a bear. Fuzzy Wuzzy had no hair. Fuzzy Wuzzy wasn’t fuzzy, was he'''\n",
    "s"
   ]
  },
  {
   "cell_type": "code",
   "execution_count": 72,
   "metadata": {
    "scrolled": true
   },
   "outputs": [
    {
     "data": {
      "text/plain": [
       "'Wuzzy was a bear. Fuzzy Wuzzy had no hair. Fuzzy Wuzzy wasn’t fuzzy, was he'"
      ]
     },
     "execution_count": 72,
     "metadata": {},
     "output_type": "execute_result"
    }
   ],
   "source": [
    "s.lstrip(' Fuzzy') # default it will remove left side whitespaces."
   ]
  },
  {
   "cell_type": "markdown",
   "metadata": {},
   "source": [
    "#### xxii) string_rstrip() :"
   ]
  },
  {
   "cell_type": "markdown",
   "metadata": {},
   "source": [
    "* method helps you trim or clean the text by removing specified characters or spaces from the right side (end) of the string.\n",
    "> syntax :\n",
    "rstrip(self, chars=None, /)\n",
    "       \n",
    "       where,\n",
    "* Return a copy of the string with trailing whitespace removed.\n",
    "* If chars is given and not None, remove characters in chars instead."
   ]
  },
  {
   "cell_type": "code",
   "execution_count": 73,
   "metadata": {},
   "outputs": [
    {
     "data": {
      "text/plain": [
       "'fuzzy wuzzy was a bear. fuzzy wuzzy had no hair. fuzzy wuzzy wasn’t fuzzy, was he'"
      ]
     },
     "execution_count": 73,
     "metadata": {},
     "output_type": "execute_result"
    }
   ],
   "source": [
    "s.lower()"
   ]
  },
  {
   "cell_type": "code",
   "execution_count": 74,
   "metadata": {},
   "outputs": [
    {
     "data": {
      "text/plain": [
       "'Fuzzy Wuzzy was a bear. Fuzzy Wuzzy had no hair. Fuzzy Wuzzy wasn’t fuzzy, was'"
      ]
     },
     "execution_count": 74,
     "metadata": {},
     "output_type": "execute_result"
    }
   ],
   "source": [
    "s.rstrip('he ') # removes right whitespaces in the string, and checks the character which we need to strip\n",
    "                      #( defalut it will remove right side whitespaces)."
   ]
  },
  {
   "cell_type": "markdown",
   "metadata": {},
   "source": [
    "#### xxiii) string_join() :"
   ]
  },
  {
   "cell_type": "markdown",
   "metadata": {},
   "source": [
    "* joins the sequence of characters and joins the string.\n",
    "> syntax :\n",
    "join(self, iterable, /)\n",
    "\n",
    "        where,\n",
    "* The result is returned as a new string."
   ]
  },
  {
   "cell_type": "code",
   "execution_count": 75,
   "metadata": {},
   "outputs": [],
   "source": [
    "y = ['*','a','q']"
   ]
  },
  {
   "cell_type": "code",
   "execution_count": 76,
   "metadata": {},
   "outputs": [
    {
     "data": {
      "text/plain": [
       "'*!a!q'"
      ]
     },
     "execution_count": 76,
     "metadata": {},
     "output_type": "execute_result"
    }
   ],
   "source": [
    "'!'.join(['*','a','q'])"
   ]
  },
  {
   "cell_type": "markdown",
   "metadata": {},
   "source": [
    "#### xxiv) string_encode() :"
   ]
  },
  {
   "cell_type": "markdown",
   "metadata": {},
   "source": [
    "*  process of converting a text string into a format that can be stored or transmitted using a specific character encoding.\n",
    "* Character encoding is a way to represent characters, letters, and symbols as numerical values, which are then used to store or transmit text data. \n",
    "> syntax :\n",
    "encode(self, /, encoding='utf-8', errors='strict')\n",
    "\n",
    "     where,\n",
    "* encoding: Specifies the encoding on the basis of which encoding has to be performed.\n",
    "\n",
    "* errors: Decides how to handle the errors if they occur.\n",
    "* Returns the string in the encoded form."
   ]
  },
  {
   "cell_type": "code",
   "execution_count": 77,
   "metadata": {},
   "outputs": [
    {
     "name": "stdout",
     "output_type": "stream",
     "text": [
      "b'hii, how are you ?'\n"
     ]
    }
   ],
   "source": [
    "x = 'hii, how are you ?'\n",
    "y = x.encode()\n",
    "print(y)"
   ]
  },
  {
   "cell_type": "markdown",
   "metadata": {},
   "source": [
    "#### xxv) string_endswith() :"
   ]
  },
  {
   "cell_type": "markdown",
   "metadata": {},
   "source": [
    "* way to verify if a text string has a particular ending, and it's often used in programming for tasks like checking file extensions or confirming the punctuation at the end of sentences.\n",
    "> syntax :\n",
    "S.endswith(suffix[, start[, end]]) \n",
    "\n",
    "        where,\n",
    "        \n",
    "* suffix: Suffix is nothing but a string that needs to be checked.\n",
    "* start: Starting position from where suffix is needed to be checked within the string.\n",
    "* end: Ending position <b>+ 1</b> from where suffix is needed to be checked within the string.\n",
    "* Returns <b>True</b> if the string ends with the given suffix otherwise return <b>False</b>."
   ]
  },
  {
   "cell_type": "code",
   "execution_count": 78,
   "metadata": {},
   "outputs": [
    {
     "name": "stdout",
     "output_type": "stream",
     "text": [
      "True\n"
     ]
    }
   ],
   "source": [
    "x = \"Innomatics research labs. \"\n",
    "y = x.endswith(\".\")\n",
    "print(y)"
   ]
  },
  {
   "cell_type": "code",
   "execution_count": 79,
   "metadata": {},
   "outputs": [
    {
     "name": "stdout",
     "output_type": "stream",
     "text": [
      "False\n"
     ]
    }
   ],
   "source": [
    "x = \"Innomatics research labs.\"\n",
    "y = x.endswith(\"resarch\")\n",
    "print(y)"
   ]
  },
  {
   "cell_type": "markdown",
   "metadata": {},
   "source": [
    "#### xxvi) string_expandtabs() :"
   ]
  },
  {
   "cell_type": "markdown",
   "metadata": {},
   "source": [
    "* method used in programming to replace tab characters (\\t) in a text string with a specified number of spaces.\n",
    "\n",
    "* method is useful for standardizing the appearance of text that uses tabs for formatting, making it more consistent and easier to work with, especially in situations where the number of spaces per tab needs to be defined.\n",
    "> syntax :\n",
    "expandtabs(self, /, tabsize=8)\n",
    "\n",
    "       where,\n",
    "* tabsize : Specifies the space that is to be replaced with the<b> “\\t”\n",
    "</b> symbol in the string.  <b>By default the space is 8.</b>\n",
    "* Returns the modified string with tabs replaced by the space."
   ]
  },
  {
   "cell_type": "code",
   "execution_count": 80,
   "metadata": {},
   "outputs": [
    {
     "name": "stdout",
     "output_type": "stream",
     "text": [
      "H i i i !\n"
     ]
    }
   ],
   "source": [
    "x = \"H\\ti\\ti\\ti\\t!\"\n",
    "y = x.expandtabs(2)\n",
    "print(y)"
   ]
  },
  {
   "cell_type": "markdown",
   "metadata": {},
   "source": [
    "#### xxvii) string_format() :"
   ]
  },
  {
   "cell_type": "markdown",
   "metadata": {},
   "source": [
    "* common technique used in programming and text processing to generate dynamic text where you need to insert variables, numbers, or other information into a predefined text structure.\n",
    "\n",
    "*  a way of creating and customizing text by inserting values into a template or a pattern\n",
    "> syntax:\n",
    "S.format(*args, **kwargs) -> str\n",
    "\n",
    "      where,\n",
    "      \n",
    "* substitutions from args and kwargs.\n",
    "* The substitutions are identified by braces ('{' and '}')."
   ]
  },
  {
   "cell_type": "code",
   "execution_count": 81,
   "metadata": {},
   "outputs": [
    {
     "name": "stdout",
     "output_type": "stream",
     "text": [
      "the vol of the sphere whose r and d are 10 and 5 respectively is 523.8095238095237\n"
     ]
    }
   ],
   "source": [
    "d = 10\n",
    "r = 5\n",
    "pi = 22/7\n",
    "vol = 4/3*pi*(r*r*r)\n",
    "print(f'the vol of the sphere whose r and d are {d} and {r} respectively is {vol}')"
   ]
  },
  {
   "cell_type": "markdown",
   "metadata": {},
   "source": [
    "#### xxviii) string_format_map() :"
   ]
  },
  {
   "cell_type": "markdown",
   "metadata": {},
   "source": [
    "* a method used in programming to format a text string by replacing placeholders in the string with values provided in a dictionary or mapping.\n",
    "\n",
    "* seful when you want to dynamically fill in placeholders in a string using the values from a dictionary or mapping, making it easier to create customized and dynamic text.\n",
    "> syntax :\n",
    "S.format_map(mapping) -> str\n",
    "\n",
    "     where,\n",
    "* Return a formatted version of S, using substitutions from mapping.\n",
    "    The substitutions are identified by braces ('{' and '}')"
   ]
  },
  {
   "cell_type": "code",
   "execution_count": 88,
   "metadata": {},
   "outputs": [
    {
     "name": "stdout",
     "output_type": "stream",
     "text": [
      "Innomatics Institutions \n"
     ]
    }
   ],
   "source": [
    "t = {'x' : 'Innomatics', 'y' : 'Institutions '}\n",
    "print(\"{x} {y}\".format_map(t))"
   ]
  },
  {
   "cell_type": "markdown",
   "metadata": {},
   "source": [
    "#### xxix) string_index() :"
   ]
  },
  {
   "cell_type": "markdown",
   "metadata": {},
   "source": [
    "* a way of identifying the position or location of a specific character within a text string. It's like assigning a number to each character in the string to make it easier to find and work with them.\n",
    "\n",
    "* useful for tasks like extracting specific characters or substrings from a string or manipulating the content of a string based on the positions of characters within it. \n",
    "> syntax :\n",
    "S.index(sub[, start[, end]]) -> int\n",
    "\n",
    "      where,\n",
    "* Return the lowest index in S \n",
    "* substring sub is found,such that sub is contained within \n",
    "<b>S[start:end].</b>\n",
    "* Raises<b> ValueError</b> when the substring is not found."
   ]
  },
  {
   "cell_type": "code",
   "execution_count": 94,
   "metadata": {},
   "outputs": [
    {
     "name": "stdout",
     "output_type": "stream",
     "text": [
      "3\n"
     ]
    }
   ],
   "source": [
    "x = 'Python'\n",
    "print(x.index('h'))   # accessing ‘h’"
   ]
  },
  {
   "cell_type": "code",
   "execution_count": 95,
   "metadata": {},
   "outputs": [
    {
     "ename": "ValueError",
     "evalue": "substring not found",
     "output_type": "error",
     "traceback": [
      "\u001b[1;31m---------------------------------------------------------------------------\u001b[0m",
      "\u001b[1;31mValueError\u001b[0m                                Traceback (most recent call last)",
      "\u001b[1;32m<ipython-input-95-2c7bc5024c76>\u001b[0m in \u001b[0;36m<module>\u001b[1;34m\u001b[0m\n\u001b[0;32m      1\u001b[0m \u001b[0mx\u001b[0m \u001b[1;33m=\u001b[0m \u001b[1;34m'Python'\u001b[0m\u001b[1;33m\u001b[0m\u001b[1;33m\u001b[0m\u001b[0m\n\u001b[1;32m----> 2\u001b[1;33m \u001b[0mprint\u001b[0m\u001b[1;33m(\u001b[0m\u001b[0mx\u001b[0m\u001b[1;33m.\u001b[0m\u001b[0mindex\u001b[0m\u001b[1;33m(\u001b[0m\u001b[1;34m'z'\u001b[0m\u001b[1;33m)\u001b[0m\u001b[1;33m)\u001b[0m \u001b[1;31m# accessing ‘h’\u001b[0m\u001b[1;33m\u001b[0m\u001b[1;33m\u001b[0m\u001b[0m\n\u001b[0m",
      "\u001b[1;31mValueError\u001b[0m: substring not found"
     ]
    }
   ],
   "source": [
    "x = 'Python'\n",
    "print(x.index('z')) # accessing ‘z’"
   ]
  },
  {
   "cell_type": "markdown",
   "metadata": {},
   "source": [
    "#### xxx) string_isalnum() :"
   ]
  },
  {
   "cell_type": "markdown",
   "metadata": {},
   "source": [
    "* method used in programming to check if a text string contains only alphanumeric characters. \n",
    "\n",
    "* Alphanumeric characters are those that are letters (A-Z or a-z) and numbers (0-9), and no special symbols or spaces.\n",
    "> syntax :\n",
    "isalnum(self, /)\n",
    "\n",
    "      where,\n",
    "      \n",
    "* string is alpha-numeric if all characters in the string are alpha-numeric and there is at least one character in the string.\n",
    "* <b>True</b> if the string is an <b>alpha-numeric string</b>, <b>False</b> otherwise.\n",
    "     "
   ]
  },
  {
   "cell_type": "code",
   "execution_count": 96,
   "metadata": {},
   "outputs": [
    {
     "data": {
      "text/plain": [
       "False"
      ]
     },
     "execution_count": 96,
     "metadata": {},
     "output_type": "execute_result"
    }
   ],
   "source": [
    "x = 'abc123@' # having an special character.\n",
    "y = x.isalnum()\n",
    "y"
   ]
  },
  {
   "cell_type": "code",
   "execution_count": 97,
   "metadata": {},
   "outputs": [
    {
     "data": {
      "text/plain": [
       "True"
      ]
     },
     "execution_count": 97,
     "metadata": {},
     "output_type": "execute_result"
    }
   ],
   "source": [
    "x = 'abc123'\n",
    "y = x.isalnum()\n",
    "y"
   ]
  },
  {
   "cell_type": "markdown",
   "metadata": {},
   "source": [
    "#### xxxi) string_isalpha() :"
   ]
  },
  {
   "cell_type": "markdown",
   "metadata": {},
   "source": [
    "* a method used in programming to check if a text string contains only alphabetic characters, which are letters <b>(A-Z or a-z) without any numbers or special symbols</b>.\n",
    "> syntax :\n",
    "isalpha(self, /)\n",
    "\n",
    "    where,\n",
    "*  Return <b>True</b> if the string is an alphabetic string, <b>False</b> otherwise."
   ]
  },
  {
   "cell_type": "code",
   "execution_count": 98,
   "metadata": {},
   "outputs": [
    {
     "data": {
      "text/plain": [
       "True"
      ]
     },
     "execution_count": 98,
     "metadata": {},
     "output_type": "execute_result"
    }
   ],
   "source": [
    "x = 'abc'\n",
    "y = x.isalpha()\n",
    "y"
   ]
  },
  {
   "cell_type": "code",
   "execution_count": 99,
   "metadata": {},
   "outputs": [
    {
     "data": {
      "text/plain": [
       "False"
      ]
     },
     "execution_count": 99,
     "metadata": {},
     "output_type": "execute_result"
    }
   ],
   "source": [
    "x = 'abc113'\n",
    "y = x.isalpha()\n",
    "y"
   ]
  },
  {
   "cell_type": "markdown",
   "metadata": {},
   "source": [
    "#### xxxii) string_isascii() :"
   ]
  },
  {
   "cell_type": "markdown",
   "metadata": {},
   "source": [
    "* method used in programming to check if all the characters in a text string are part of the ASCII character set. \n",
    "\n",
    "* ASCII character set includes standard characters like letters <b>(A-Z, a-z)</b>, numbers <b>(0-9)</b>, and a variety of common symbols and control characters that are commonly used in the English language and can be represented by <b>seven or eight bits</b>.\n",
    "> synatx :\n",
    "isascii(self, /)\n",
    "\n",
    "      where,\n",
    "      \n",
    "* Return <b>True if all characters in the string are ASCII, False</b> otherwise."
   ]
  },
  {
   "cell_type": "code",
   "execution_count": 100,
   "metadata": {},
   "outputs": [
    {
     "data": {
      "text/plain": [
       "True"
      ]
     },
     "execution_count": 100,
     "metadata": {},
     "output_type": "execute_result"
    }
   ],
   "source": [
    "x = 'abc113'\n",
    "y = x.isascii()\n",
    "y"
   ]
  },
  {
   "cell_type": "code",
   "execution_count": 101,
   "metadata": {},
   "outputs": [
    {
     "data": {
      "text/plain": [
       "True"
      ]
     },
     "execution_count": 101,
     "metadata": {},
     "output_type": "execute_result"
    }
   ],
   "source": [
    "x = 'abc113@#!'\n",
    "y = x.isascii()\n",
    "y"
   ]
  },
  {
   "cell_type": "markdown",
   "metadata": {},
   "source": [
    "#### xxxiii) string_isdecimal () :"
   ]
  },
  {
   "cell_type": "markdown",
   "metadata": {},
   "source": [
    "* method used in programming to check if a text string contains only decimal digits. Decimal digits are the numbers from 0 to 9.\n",
    "> syntax :\n",
    "isdecimal(self, /)\n",
    "       \n",
    "       where,\n",
    "* Return True if the string is a decimal string, False otherwise.\n",
    "* string is a decimal string if all characters in the string are decimal and\n",
    "    there is at least one character in the string."
   ]
  },
  {
   "cell_type": "code",
   "execution_count": 102,
   "metadata": {},
   "outputs": [
    {
     "data": {
      "text/plain": [
       "True"
      ]
     },
     "execution_count": 102,
     "metadata": {},
     "output_type": "execute_result"
    }
   ],
   "source": [
    "x = \"12345\"\n",
    "y = x.isdecimal()\n",
    "y"
   ]
  },
  {
   "cell_type": "code",
   "execution_count": 103,
   "metadata": {},
   "outputs": [
    {
     "data": {
      "text/plain": [
       "False"
      ]
     },
     "execution_count": 103,
     "metadata": {},
     "output_type": "execute_result"
    }
   ],
   "source": [
    "x = \"123.4567890\"\n",
    "y = x.isdecimal()\n",
    "y"
   ]
  },
  {
   "cell_type": "markdown",
   "metadata": {},
   "source": [
    "#### xxxiv) string_isdigit() :\n"
   ]
  },
  {
   "cell_type": "markdown",
   "metadata": {},
   "source": [
    "* Useful for checking if a string represents a valid numeric value made up of only numeric digits, which is essential for various data validation and manipulation tasks in programming.\n",
    "> syntax :\n",
    "isdigit(self, /)\n",
    "\n",
    "     where,\n",
    "     \n",
    "*  Return True if the string is a digit string, False otherwise.\n",
    "* string is a digit string if all characters in the string are digits and there is at least one character in the string.\n"
   ]
  },
  {
   "cell_type": "code",
   "execution_count": 104,
   "metadata": {},
   "outputs": [
    {
     "data": {
      "text/plain": [
       "True"
      ]
     },
     "execution_count": 104,
     "metadata": {},
     "output_type": "execute_result"
    }
   ],
   "source": [
    "x = \"12345\"\n",
    "y = x.isdigit()\n",
    "y"
   ]
  },
  {
   "cell_type": "code",
   "execution_count": 105,
   "metadata": {},
   "outputs": [
    {
     "data": {
      "text/plain": [
       "False"
      ]
     },
     "execution_count": 105,
     "metadata": {},
     "output_type": "execute_result"
    }
   ],
   "source": [
    "x = \"123.4567890\"\n",
    "y = x.isdigit()\n",
    "y"
   ]
  },
  {
   "cell_type": "markdown",
   "metadata": {},
   "source": [
    "#### xxxv) string_isidentifier() :"
   ]
  },
  {
   "cell_type": "markdown",
   "metadata": {},
   "source": [
    "* useful for checking if a given string can be used as a variable name or identifier in your code, helping to ensure that your code follows the naming rules of the programming language.\n",
    "\n",
    "> synatx :\n",
    "isidentifier(self, /)\n",
    "\n",
    "       where,\n",
    "       \n",
    "* return True if the string is a valid Python identifier, False otherwise.\n",
    "* Call keyword.iskeyword(s) to test whether string s is a reserved identifier, such as\n",
    "\n",
    "    <b> \"def\" or \"class\".</b>   "
   ]
  },
  {
   "cell_type": "code",
   "execution_count": 106,
   "metadata": {},
   "outputs": [
    {
     "data": {
      "text/plain": [
       "True"
      ]
     },
     "execution_count": 106,
     "metadata": {},
     "output_type": "execute_result"
    }
   ],
   "source": [
    "x = \"hello123\"\n",
    "y = x.isidentifier()\n",
    "y"
   ]
  },
  {
   "cell_type": "code",
   "execution_count": 107,
   "metadata": {},
   "outputs": [
    {
     "data": {
      "text/plain": [
       "False"
      ]
     },
     "execution_count": 107,
     "metadata": {},
     "output_type": "execute_result"
    }
   ],
   "source": [
    "x = \"hello123!\"\n",
    "y = x.isidentifier()\n",
    "y"
   ]
  },
  {
   "cell_type": "markdown",
   "metadata": {},
   "source": [
    "#### xxxvi) string_isnumeric () :"
   ]
  },
  {
   "cell_type": "markdown",
   "metadata": {},
   "source": [
    "* a method used in programming to check if a text string contains only numeric characters, which are typically digits (0-9) along with characters that are considered numeric in the specific character encoding used.\n",
    "\n",
    "* useful for checking if a string represents a valid numeric value made up of numeric characters, which can be important for various data validation and processing tasks in programming.\n",
    "> syntax :\n",
    "isnumeric(self, /)\n",
    "\n",
    "       where,\n",
    "     \n",
    "* Return True if the string is a numeric string, False otherwise.\n",
    "* A string is numeric if all characters in the string are numeric and there is at least one character in the string."
   ]
  },
  {
   "cell_type": "code",
   "execution_count": 108,
   "metadata": {},
   "outputs": [
    {
     "data": {
      "text/plain": [
       "True"
      ]
     },
     "execution_count": 108,
     "metadata": {},
     "output_type": "execute_result"
    }
   ],
   "source": [
    "x = \"231136589\"\n",
    "y = x.isnumeric()\n",
    "y"
   ]
  },
  {
   "cell_type": "code",
   "execution_count": 109,
   "metadata": {},
   "outputs": [
    {
     "data": {
      "text/plain": [
       "False"
      ]
     },
     "execution_count": 109,
     "metadata": {},
     "output_type": "execute_result"
    }
   ],
   "source": [
    "x = \"231136589@.124553366\"\n",
    "y = x.isnumeric()\n",
    "y"
   ]
  },
  {
   "cell_type": "markdown",
   "metadata": {},
   "source": [
    "#### xxxvii) string_isprintable() :"
   ]
  },
  {
   "cell_type": "markdown",
   "metadata": {},
   "source": [
    "* method used in programming to check if a text string contains only printable characters.\n",
    "\n",
    "* These typically include letters, numbers, punctuation marks, and other symbols that can be seen and interpreted by a human.\n",
    "\n",
    "* useful for checking whether a string is suitable for printing or displaying as it helps ensure that the text contains only characters that are visually interpretable.\n",
    "> syntax :\n",
    "isprintable(self, /)\n",
    "\n",
    "      where,\n",
    "      \n",
    "* Return True if the string is printable, False otherwise.\n",
    "* tring is printable if all of its characters are considered printable in repr() or if it is empty.\n",
    "\n",
    "\n",
    "\n"
   ]
  },
  {
   "cell_type": "code",
   "execution_count": 110,
   "metadata": {},
   "outputs": [
    {
     "data": {
      "text/plain": [
       "True"
      ]
     },
     "execution_count": 110,
     "metadata": {},
     "output_type": "execute_result"
    }
   ],
   "source": [
    "x = 'Innomatics research labs, jntu'\n",
    "y = x.isprintable()\n",
    "y"
   ]
  },
  {
   "cell_type": "code",
   "execution_count": 111,
   "metadata": {},
   "outputs": [
    {
     "data": {
      "text/plain": [
       "False"
      ]
     },
     "execution_count": 111,
     "metadata": {},
     "output_type": "execute_result"
    }
   ],
   "source": [
    "x = 'Innomatics research labs\\n, jntu'\n",
    "y = x.isprintable()\n",
    "y"
   ]
  },
  {
   "cell_type": "markdown",
   "metadata": {},
   "source": [
    "#### xxxviii) string_isspace() :"
   ]
  },
  {
   "cell_type": "markdown",
   "metadata": {},
   "source": [
    "*  method used in programming to check if a text string consists of only whitespace characters. \n",
    "* Whitespace characters include spaces, tabs, and newline characters, which are used to create spaces and separations between words and lines in text.\n",
    "* useful for tasks where you want to check if a string is composed entirely of spaces or whitespace, which can be important for text processing and validation in programming.\n",
    "> syntax :\n",
    "isspace(self, /)\n",
    "\n",
    "      where,\n",
    "      \n",
    "* Return True if the string is a whitespace string, False otherwise.\n",
    "* A string is whitespace if all characters in the string are whitespace and there is at least one character in the string."
   ]
  },
  {
   "cell_type": "code",
   "execution_count": 112,
   "metadata": {},
   "outputs": [
    {
     "data": {
      "text/plain": [
       "True"
      ]
     },
     "execution_count": 112,
     "metadata": {},
     "output_type": "execute_result"
    }
   ],
   "source": [
    "x = '   '\n",
    "y = x.isspace()\n",
    "y"
   ]
  },
  {
   "cell_type": "code",
   "execution_count": 113,
   "metadata": {},
   "outputs": [
    {
     "data": {
      "text/plain": [
       "True"
      ]
     },
     "execution_count": 113,
     "metadata": {},
     "output_type": "execute_result"
    }
   ],
   "source": [
    "x = '\\t'\n",
    "y = x.isspace()\n",
    "y"
   ]
  },
  {
   "cell_type": "code",
   "execution_count": 114,
   "metadata": {},
   "outputs": [
    {
     "data": {
      "text/plain": [
       "False"
      ]
     },
     "execution_count": 114,
     "metadata": {},
     "output_type": "execute_result"
    }
   ],
   "source": [
    "x = 'string_isspace()'\n",
    "y =x.isspace()\n",
    "y"
   ]
  },
  {
   "cell_type": "markdown",
   "metadata": {},
   "source": [
    "#### xxxix) string_istitile():\n"
   ]
  },
  {
   "cell_type": "markdown",
   "metadata": {},
   "source": [
    "* a method used in programming to check if a text string follows the title case convention. \n",
    "* Title case means that the string capitalizes the first letter of each word while making sure all other letters are in lowercase.\n",
    "> syntax :\n",
    "istitle(self, /)\n",
    "\n",
    "       where,\n",
    "       \n",
    "* return True if the string is a title-cased string, False otherwise.\n",
    "       "
   ]
  },
  {
   "cell_type": "code",
   "execution_count": 115,
   "metadata": {},
   "outputs": [
    {
     "data": {
      "text/plain": [
       "True"
      ]
     },
     "execution_count": 115,
     "metadata": {},
     "output_type": "execute_result"
    }
   ],
   "source": [
    "x = 'Python Is A Programming Language'\n",
    "y = x.istitle()\n",
    "y"
   ]
  },
  {
   "cell_type": "code",
   "execution_count": 116,
   "metadata": {},
   "outputs": [
    {
     "data": {
      "text/plain": [
       "False"
      ]
     },
     "execution_count": 116,
     "metadata": {},
     "output_type": "execute_result"
    }
   ],
   "source": [
    "x = 'python is a programming language'\n",
    "y = x.istitle()\n",
    "y"
   ]
  },
  {
   "cell_type": "markdown",
   "metadata": {},
   "source": [
    "#### xl) string_isupper() :\n"
   ]
  },
  {
   "cell_type": "markdown",
   "metadata": {},
   "source": [
    "* method used in programming to check if a text string consists of uppercase letters only. Uppercase letters are the capital letters (A-Z) in the alphabet\n",
    "* useful for checking if a string contains only uppercase letters, which can be important for various data validation and text processing tasks in programming.\n",
    "> syntax :\n",
    "isupper(self, /)\n",
    "\n",
    "         where,\n",
    "         \n",
    "* Return True if the string is an uppercase string, False otherwise."
   ]
  },
  {
   "cell_type": "code",
   "execution_count": 117,
   "metadata": {},
   "outputs": [
    {
     "data": {
      "text/plain": [
       "False"
      ]
     },
     "execution_count": 117,
     "metadata": {},
     "output_type": "execute_result"
    }
   ],
   "source": [
    "x = 'hello'\n",
    "x = x.isupper()\n",
    "x"
   ]
  },
  {
   "cell_type": "code",
   "execution_count": 118,
   "metadata": {},
   "outputs": [
    {
     "data": {
      "text/plain": [
       "True"
      ]
     },
     "execution_count": 118,
     "metadata": {},
     "output_type": "execute_result"
    }
   ],
   "source": [
    "x = 'HELLO'\n",
    "x = x.isupper()\n",
    "x"
   ]
  },
  {
   "cell_type": "markdown",
   "metadata": {},
   "source": [
    "#### xli) string_islower() :"
   ]
  },
  {
   "cell_type": "markdown",
   "metadata": {},
   "source": [
    "* method used in programming to check if a text string consists of lowercase letters only. Lowercase letters are the small letters (a-z) in the alphabet.\n",
    "* seful for checking if a string contains only lowercase letters, which can be important for various data validation and text processing tasks in programming.\n",
    "> syntax :\n",
    "islower(self, /)\n",
    "\n",
    "      where,\n",
    "      \n",
    "* Return True if the string is a lowercase string, False otherwise."
   ]
  },
  {
   "cell_type": "code",
   "execution_count": 119,
   "metadata": {},
   "outputs": [
    {
     "data": {
      "text/plain": [
       "False"
      ]
     },
     "execution_count": 119,
     "metadata": {},
     "output_type": "execute_result"
    }
   ],
   "source": [
    "x = 'HELLO'\n",
    "x = x.islower()\n",
    "x"
   ]
  },
  {
   "cell_type": "code",
   "execution_count": 120,
   "metadata": {},
   "outputs": [
    {
     "data": {
      "text/plain": [
       "True"
      ]
     },
     "execution_count": 120,
     "metadata": {},
     "output_type": "execute_result"
    }
   ],
   "source": [
    "x = 'hello'\n",
    "x = x.islower()\n",
    "x"
   ]
  },
  {
   "cell_type": "markdown",
   "metadata": {},
   "source": [
    "#### xlii) string_removeprefix() :"
   ]
  },
  {
   "cell_type": "markdown",
   "metadata": {},
   "source": [
    "* method used in programming to remove a specific prefix or beginning part from a text string.\n",
    "* to modify a text string by eliminating a specified prefix, making it useful for tasks like cleaning up or formatting text data in programming.\n",
    "\n",
    "> syntax: \n",
    "str_obj_name.removeprefix(prefix)\n",
    "\n",
    "      where,\n",
    "      \n",
    "* Returns the copy of the string with the prefix removed(if present), else the original string."
   ]
  },
  {
   "cell_type": "code",
   "execution_count": 123,
   "metadata": {},
   "outputs": [
    {
     "ename": "AttributeError",
     "evalue": "'str' object has no attribute 'removeprefix'",
     "output_type": "error",
     "traceback": [
      "\u001b[1;31m---------------------------------------------------------------------------\u001b[0m",
      "\u001b[1;31mAttributeError\u001b[0m                            Traceback (most recent call last)",
      "\u001b[1;32m<ipython-input-123-dd9aa1a67d2c>\u001b[0m in \u001b[0;36m<module>\u001b[1;34m\u001b[0m\n\u001b[0;32m      1\u001b[0m \u001b[0my\u001b[0m \u001b[1;33m=\u001b[0m \u001b[1;34m'hip-hop'\u001b[0m\u001b[1;33m\u001b[0m\u001b[1;33m\u001b[0m\u001b[0m\n\u001b[1;32m----> 2\u001b[1;33m \u001b[0my\u001b[0m \u001b[1;33m=\u001b[0m \u001b[0my\u001b[0m\u001b[1;33m.\u001b[0m\u001b[0mremoveprefix\u001b[0m\u001b[1;33m(\u001b[0m\u001b[1;34m'hip'\u001b[0m\u001b[1;33m)\u001b[0m\u001b[1;33m\u001b[0m\u001b[1;33m\u001b[0m\u001b[0m\n\u001b[0m\u001b[0;32m      3\u001b[0m \u001b[0my\u001b[0m\u001b[1;33m\u001b[0m\u001b[1;33m\u001b[0m\u001b[0m\n",
      "\u001b[1;31mAttributeError\u001b[0m: 'str' object has no attribute 'removeprefix'"
     ]
    }
   ],
   "source": [
    "y = 'hip-hop'\n",
    "y = y.removeprefix('hip')\n",
    "y"
   ]
  },
  {
   "cell_type": "code",
   "execution_count": null,
   "metadata": {},
   "outputs": [],
   "source": []
  }
 ],
 "metadata": {
  "kernelspec": {
   "display_name": "Python 3",
   "language": "python",
   "name": "python3"
  },
  "language_info": {
   "codemirror_mode": {
    "name": "ipython",
    "version": 3
   },
   "file_extension": ".py",
   "mimetype": "text/x-python",
   "name": "python",
   "nbconvert_exporter": "python",
   "pygments_lexer": "ipython3",
   "version": "3.8.5"
  }
 },
 "nbformat": 4,
 "nbformat_minor": 4
}
