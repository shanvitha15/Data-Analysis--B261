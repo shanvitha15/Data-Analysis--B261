{
 "cells": [
  {
   "cell_type": "markdown",
   "metadata": {},
   "source": [
    " # Dictionary :"
   ]
  },
  {
   "cell_type": "markdown",
   "metadata": {},
   "source": [
    "## What is an dictionary ?"
   ]
  },
  {
   "cell_type": "markdown",
   "metadata": {},
   "source": [
    " * It's a way to store and organize data, just like you organize words and their meanings in a regular dictionary.\n",
    " * A dictionary in programming is a data structure that allows you to store data in key-value pairs. \n",
    " * Each piece of data (a \"value\") is associated with a unique word or label (a \"key\"). This makes it easy to find and retrieve information based on the key.\n",
    " * Dictionaries are incredibly useful for organizing and retrieving data efficiently in programming, just like a regular dictionary helps you find words and their meanings."
   ]
  },
  {
   "cell_type": "markdown",
   "metadata": {},
   "source": [
    "### How dictionary is useful in python programming language ?"
   ]
  },
  {
   "cell_type": "markdown",
   "metadata": {},
   "source": [
    "> It's super useful because it allows you to store and retrieve data in a way that makes sense\n",
    ">* the following examples that uses the dictionary in an effictive way in python programming language :"
   ]
  },
  {
   "cell_type": "markdown",
   "metadata": {},
   "source": [
    "#### (i) Fast data lookup :"
   ]
  },
  {
   "cell_type": "markdown",
   "metadata": {},
   "source": [
    "* dictionary to store data with unique keys.\n",
    "* you need to find specific information, you just use the key to look it up.\n",
    "* this makes the faster than searching through a list or other data structures."
   ]
  },
  {
   "cell_type": "code",
   "execution_count": 2,
   "metadata": {},
   "outputs": [
    {
     "name": "stdout",
     "output_type": "stream",
     "text": [
      "{'Alice': 90, 'Bob': 85, 'Charlie': 78}\n"
     ]
    }
   ],
   "source": [
    "grades = {\n",
    "    \"Alice\": 90,\n",
    "    \"Bob\": 85,\n",
    "    \"Charlie\": 78\n",
    "}\n",
    "print(grades)"
   ]
  },
  {
   "cell_type": "markdown",
   "metadata": {},
   "source": [
    "#### (ii) Grouping related data :"
   ]
  },
  {
   "cell_type": "markdown",
   "metadata": {},
   "source": [
    "*  Great for organizing related pieces of information."
   ]
  },
  {
   "cell_type": "code",
   "execution_count": 3,
   "metadata": {},
   "outputs": [
    {
     "data": {
      "text/plain": [
       "{'name': 'Alice', 'age': 25, 'city': 'New York'}"
      ]
     },
     "execution_count": 3,
     "metadata": {},
     "output_type": "execute_result"
    }
   ],
   "source": [
    "person = {\n",
    "    \"name\": \"Alice\",\n",
    "    \"age\": 25,\n",
    "    \"city\": \"New York\"\n",
    "}\n",
    "person"
   ]
  },
  {
   "cell_type": "markdown",
   "metadata": {},
   "source": [
    "#### (iii) Configuring settings :"
   ]
  },
  {
   "cell_type": "markdown",
   "metadata": {},
   "source": [
    "* commonly used for storing configuration settings in applications.\n",
    "* Define different settings using keys and their corresponding values."
   ]
  },
  {
   "cell_type": "code",
   "execution_count": 7,
   "metadata": {},
   "outputs": [
    {
     "data": {
      "text/plain": [
       "'dark'"
      ]
     },
     "execution_count": 7,
     "metadata": {},
     "output_type": "execute_result"
    }
   ],
   "source": [
    "settings = {\n",
    "    \"theme\": \"dark\",\n",
    "    \"language\": \"English\",\n",
    "    \"font_size\": 16\n",
    "}\n",
    "settings[\"theme\"]"
   ]
  },
  {
   "cell_type": "markdown",
   "metadata": {},
   "source": [
    "#### (iv) Counting and Traking :"
   ]
  },
  {
   "cell_type": "markdown",
   "metadata": {},
   "source": [
    "* helpful for counting and tracking occurrences, \n",
    ">example : you can count the frequency of words in a text."
   ]
  },
  {
   "cell_type": "markdown",
   "metadata": {},
   "source": [
    "#### (v) Mapping between data :"
   ]
  },
  {
   "cell_type": "markdown",
   "metadata": {},
   "source": [
    "*  allow you to create a mapping between related data. "
   ]
  },
  {
   "cell_type": "code",
   "execution_count": 14,
   "metadata": {},
   "outputs": [
    {
     "data": {
      "text/plain": [
       "{'apple': 100, 'banana': 50, 'orange': 70}"
      ]
     },
     "execution_count": 14,
     "metadata": {},
     "output_type": "execute_result"
    }
   ],
   "source": [
    "prices = {\n",
    "    \"apple\": 100,\n",
    "    \"banana\": 50,\n",
    "    \"orange\": 70\n",
    "}\n",
    "prices"
   ]
  },
  {
   "cell_type": "markdown",
   "metadata": {},
   "source": [
    "### Creating dictionary  :"
   ]
  },
  {
   "cell_type": "markdown",
   "metadata": {},
   "source": [
    "> the following methods are used to create the dictionary :\n",
    "* empty dictionary \n",
    "* using class called - dict"
   ]
  },
  {
   "cell_type": "markdown",
   "metadata": {},
   "source": [
    "#### a). Empty dictionary:"
   ]
  },
  {
   "cell_type": "markdown",
   "metadata": {},
   "source": [
    "> To create an empty dictionary, you can use <b>curly braces {}</b>."
   ]
  },
  {
   "cell_type": "code",
   "execution_count": 16,
   "metadata": {},
   "outputs": [
    {
     "name": "stdout",
     "output_type": "stream",
     "text": [
      "{} <class 'dict'>\n"
     ]
    }
   ],
   "source": [
    "x = {}\n",
    "print(x,type(x))"
   ]
  },
  {
   "cell_type": "markdown",
   "metadata": {},
   "source": [
    "#### b). using class called - dict :"
   ]
  },
  {
   "cell_type": "code",
   "execution_count": 17,
   "metadata": {},
   "outputs": [
    {
     "name": "stdout",
     "output_type": "stream",
     "text": [
      "{} <class 'dict'>\n"
     ]
    }
   ],
   "source": [
    "x=dict()\n",
    "print(x,type(x))"
   ]
  },
  {
   "cell_type": "markdown",
   "metadata": {},
   "source": [
    "#### c). Create a Dictionary with Key-Value Pairs:\n",
    "\n",
    "> To create a dictionary with key-value pairs, use curly braces '{}' and separate each pair with a colon ':'.\n",
    "* Keys are on the left side.\n",
    "* values are right side side."
   ]
  },
  {
   "cell_type": "code",
   "execution_count": 18,
   "metadata": {},
   "outputs": [
    {
     "data": {
      "text/plain": [
       "{'name': 'Alice', 'age': 25, 'city': 'New York'}"
      ]
     },
     "execution_count": 18,
     "metadata": {},
     "output_type": "execute_result"
    }
   ],
   "source": [
    "person = {\n",
    "    \"name\": \"Alice\",\n",
    "    \"age\": 25,\n",
    "    \"city\": \"New York\"\n",
    "}\n",
    "person"
   ]
  },
  {
   "cell_type": "markdown",
   "metadata": {},
   "source": [
    "#### d). Add Key-Value Pairs to an Existing Dictionary:\n",
    "> add new key-value pairs to an existing dictionary by assigning a value to a new key."
   ]
  },
  {
   "cell_type": "code",
   "execution_count": 19,
   "metadata": {},
   "outputs": [
    {
     "data": {
      "text/plain": [
       "{'name': 'Alice', 'age': 25, 'city': 'New York', 'occupation': 'Engineer'}"
      ]
     },
     "execution_count": 19,
     "metadata": {},
     "output_type": "execute_result"
    }
   ],
   "source": [
    "person[\"occupation\"] = \"Engineer\"\n",
    "person"
   ]
  },
  {
   "cell_type": "markdown",
   "metadata": {},
   "source": [
    "#### e). Create a dictionary with different data types:\n",
    ">  use different data types as values in a dictionary, such as strings, numbers, lists, or even other dictionaries."
   ]
  },
  {
   "cell_type": "code",
   "execution_count": 20,
   "metadata": {},
   "outputs": [
    {
     "data": {
      "text/plain": [
       "{'street': '123 Main St', 'city': 'Anytown'}"
      ]
     },
     "execution_count": 20,
     "metadata": {},
     "output_type": "execute_result"
    }
   ],
   "source": [
    "data = {\n",
    "    \"name\": \"Bob\",\n",
    "    \"grades\": [85, 90, 78],\n",
    "    \"address\": {\n",
    "        \"street\": \"123 Main St\",\n",
    "        \"city\": \"Anytown\"\n",
    "    }\n",
    "}\n",
    "data[\"address\"]"
   ]
  },
  {
   "cell_type": "markdown",
   "metadata": {},
   "source": [
    "#### f). access the dictionary :\n",
    "> access the values in a dictionary, you use the key as an index."
   ]
  },
  {
   "cell_type": "code",
   "execution_count": 26,
   "metadata": {},
   "outputs": [
    {
     "data": {
      "text/plain": [
       "'Bob'"
      ]
     },
     "execution_count": 26,
     "metadata": {},
     "output_type": "execute_result"
    }
   ],
   "source": [
    "data = {\n",
    "    \"name\": \"Bob\",\n",
    "    \"grades\": [85, 90, 78],\n",
    "    \"address\": {\n",
    "        \"street\": \"123 Main St\",\n",
    "        \"city\": \"Anytown\"\n",
    "    }\n",
    "}\n",
    "name = data[\"name\"]\n",
    "name"
   ]
  },
  {
   "cell_type": "markdown",
   "metadata": {},
   "source": [
    "#### g). Modify Values in a Dictionary:\n",
    "> change the value associated with a key in a dictionary by assigning a new value to that key."
   ]
  },
  {
   "cell_type": "code",
   "execution_count": 27,
   "metadata": {},
   "outputs": [
    {
     "data": {
      "text/plain": [
       "{'k1': 1, 'k2': 2, 'k3': 3}"
      ]
     },
     "execution_count": 27,
     "metadata": {},
     "output_type": "execute_result"
    }
   ],
   "source": [
    "x = {'k1':1,\n",
    "    'k2':2,\n",
    "    'k3':3}\n",
    "x"
   ]
  },
  {
   "cell_type": "code",
   "execution_count": 28,
   "metadata": {},
   "outputs": [
    {
     "data": {
      "text/plain": [
       "1"
      ]
     },
     "execution_count": 28,
     "metadata": {},
     "output_type": "execute_result"
    }
   ],
   "source": [
    "x['k1']"
   ]
  },
  {
   "cell_type": "code",
   "execution_count": 30,
   "metadata": {},
   "outputs": [
    {
     "data": {
      "text/plain": [
       "{'k1': 111, 'k2': 2, 'k3': 3}"
      ]
     },
     "execution_count": 30,
     "metadata": {},
     "output_type": "execute_result"
    }
   ],
   "source": [
    "x['k1'] = 111\n",
    "x"
   ]
  },
  {
   "cell_type": "markdown",
   "metadata": {},
   "source": [
    "#### h). Remove Key-Value Pairs from a Dictionary :\n",
    "> remove a key-value pair from a dictionary, you can use the del statement."
   ]
  },
  {
   "cell_type": "code",
   "execution_count": 42,
   "metadata": {},
   "outputs": [
    {
     "data": {
      "text/plain": [
       "{'name': 'Bob'}"
      ]
     },
     "execution_count": 42,
     "metadata": {},
     "output_type": "execute_result"
    }
   ],
   "source": [
    "data = {\n",
    "    \"name\": \"Bob\",\n",
    "        \"city\": \"Anytown\"\n",
    "}\n",
    "del data[\"city\"]\n",
    "data"
   ]
  },
  {
   "cell_type": "markdown",
   "metadata": {},
   "source": [
    "### Dictionary data-types :"
   ]
  },
  {
   "cell_type": "code",
   "execution_count": 43,
   "metadata": {},
   "outputs": [
    {
     "name": "stdout",
     "output_type": "stream",
     "text": [
      "clear copy fromkeys get items keys pop popitem setdefault update values\n"
     ]
    }
   ],
   "source": [
    "print('clear',\n",
    " 'copy',\n",
    " 'fromkeys',\n",
    " 'get',\n",
    " 'items',\n",
    " 'keys',\n",
    " 'pop',\n",
    " 'popitem',\n",
    " 'setdefault',\n",
    " 'update',\n",
    " 'values')"
   ]
  },
  {
   "cell_type": "markdown",
   "metadata": {},
   "source": [
    "### (i). Clear() :\n",
    "> \"clear\" a dictionary means to empty it."
   ]
  },
  {
   "cell_type": "code",
   "execution_count": 45,
   "metadata": {},
   "outputs": [
    {
     "data": {
      "text/plain": [
       "{}"
      ]
     },
     "execution_count": 45,
     "metadata": {},
     "output_type": "execute_result"
    }
   ],
   "source": [
    "x.clear()\n",
    "x"
   ]
  },
  {
   "cell_type": "markdown",
   "metadata": {},
   "source": [
    "### (ii). Copy() :\n",
    "> copy\" in the context of a dictionary means making a duplicate of the dictionary. "
   ]
  },
  {
   "cell_type": "code",
   "execution_count": 49,
   "metadata": {},
   "outputs": [
    {
     "name": "stdout",
     "output_type": "stream",
     "text": [
      "{'k1': 1, 'k2': 2, 'k3': 3}\n",
      "{'k1': 1, 'k2': 2, 'k3': 3}/n<class 'dict'>/n0x1ef4d3a6a80\n",
      "{'k1': 1, 'k2': 2, 'k3': 3}/n<class 'dict'>/n0x1ef4d441f00\n"
     ]
    }
   ],
   "source": [
    "a = {'k1':1,\n",
    "    'k2':2,\n",
    "    'k3':3}\n",
    "print(a)\n",
    "print(a,type(a),hex(id(a)),sep='/n')\n",
    "x = a.copy()\n",
    "print(x,type(x),hex(id(x)),sep='/n')"
   ]
  },
  {
   "cell_type": "markdown",
   "metadata": {},
   "source": [
    "### (iii). fromkeys() :\n",
    "> * function returns the dictionary with key mapped and specific value.\n",
    "* It creates a new dictionary from the given sequence with the specific value. "
   ]
  },
  {
   "cell_type": "code",
   "execution_count": 50,
   "metadata": {},
   "outputs": [
    {
     "data": {
      "text/plain": [
       "{'k1': 1, 'k2': 2, 'k3': 3}"
      ]
     },
     "execution_count": 50,
     "metadata": {},
     "output_type": "execute_result"
    }
   ],
   "source": [
    "x"
   ]
  },
  {
   "cell_type": "code",
   "execution_count": 51,
   "metadata": {},
   "outputs": [
    {
     "data": {
      "text/plain": [
       "{'k1': None, 'k2': None, 'k3': None}"
      ]
     },
     "execution_count": 51,
     "metadata": {},
     "output_type": "execute_result"
    }
   ],
   "source": [
    "z = dict.fromkeys(x)\n",
    "z"
   ]
  },
  {
   "cell_type": "markdown",
   "metadata": {},
   "source": [
    "### (iv). get() :\n",
    "> Return the value for key if key is in the dictionary, else default."
   ]
  },
  {
   "cell_type": "code",
   "execution_count": 52,
   "metadata": {},
   "outputs": [
    {
     "data": {
      "text/plain": [
       "{'k1': 1, 'k2': 2, 'k3': 3}"
      ]
     },
     "execution_count": 52,
     "metadata": {},
     "output_type": "execute_result"
    }
   ],
   "source": [
    "x = {'k1':1,\n",
    "    'k2':2,\n",
    "    'k3':3}\n",
    "x"
   ]
  },
  {
   "cell_type": "code",
   "execution_count": 53,
   "metadata": {},
   "outputs": [
    {
     "data": {
      "text/plain": [
       "1"
      ]
     },
     "execution_count": 53,
     "metadata": {},
     "output_type": "execute_result"
    }
   ],
   "source": [
    "x.get('k1')"
   ]
  },
  {
   "cell_type": "markdown",
   "metadata": {},
   "source": [
    "### (v). items() :\n",
    "> returns the both key:value -- pairs."
   ]
  },
  {
   "cell_type": "code",
   "execution_count": 54,
   "metadata": {},
   "outputs": [
    {
     "data": {
      "text/plain": [
       "dict_items([('k1', None), ('k2', None), ('k3', None)])"
      ]
     },
     "execution_count": 54,
     "metadata": {},
     "output_type": "execute_result"
    }
   ],
   "source": [
    "z.items()"
   ]
  },
  {
   "cell_type": "markdown",
   "metadata": {},
   "source": [
    "### (vi). keys() :\n",
    "> method returns a view object that displays a list of all the keys in the dictionary"
   ]
  },
  {
   "cell_type": "code",
   "execution_count": 55,
   "metadata": {},
   "outputs": [
    {
     "data": {
      "text/plain": [
       "dict_keys(['k1', 'k2', 'k3'])"
      ]
     },
     "execution_count": 55,
     "metadata": {},
     "output_type": "execute_result"
    }
   ],
   "source": [
    "z.keys()"
   ]
  },
  {
   "cell_type": "markdown",
   "metadata": {},
   "source": [
    "### (vii). pop() :\n",
    "> * it will pop out the key- value not key.\n",
    "* works as the index(if we say particular to pop it will pop that key - value only.\n",
    "* if we don't mention any pop item - gives an error"
   ]
  },
  {
   "cell_type": "code",
   "execution_count": 58,
   "metadata": {},
   "outputs": [
    {
     "data": {
      "text/plain": [
       "{'k1': 1, 'k3': 3}"
      ]
     },
     "execution_count": 58,
     "metadata": {},
     "output_type": "execute_result"
    }
   ],
   "source": [
    "x.pop('k2')\n",
    "x"
   ]
  },
  {
   "cell_type": "markdown",
   "metadata": {},
   "source": [
    "### (viii). popitem() :\n",
    "> method removes the last inserted key-value pair from the dictionary and returns it as a tuple."
   ]
  },
  {
   "cell_type": "code",
   "execution_count": 60,
   "metadata": {},
   "outputs": [
    {
     "data": {
      "text/plain": [
       "('k3', 3)"
      ]
     },
     "execution_count": 60,
     "metadata": {},
     "output_type": "execute_result"
    }
   ],
   "source": [
    "x.popitem()"
   ]
  },
  {
   "cell_type": "markdown",
   "metadata": {},
   "source": [
    "### (ix). setdefaults() :\n",
    "\n",
    "> returns the value of a key (if the key is in dictionary)."
   ]
  },
  {
   "cell_type": "code",
   "execution_count": 62,
   "metadata": {},
   "outputs": [
    {
     "data": {
      "text/plain": [
       "'apple'"
      ]
     },
     "execution_count": 62,
     "metadata": {},
     "output_type": "execute_result"
    }
   ],
   "source": [
    "a = {'fruits' : 'apple', 'veges' : 'appricot'}\n",
    "a.setdefault('fruits')"
   ]
  },
  {
   "cell_type": "markdown",
   "metadata": {},
   "source": [
    "### (x). update() :\n",
    ">  updates the dictionary with the elements from another dictionary object or from an iterable of key/value pairs."
   ]
  },
  {
   "cell_type": "code",
   "execution_count": 63,
   "metadata": {},
   "outputs": [
    {
     "name": "stdout",
     "output_type": "stream",
     "text": [
      "{'k1': 1, 'k2': 2, 'k3': 3}\n"
     ]
    }
   ],
   "source": [
    "x={'k1':1,'k2':2,'k3':3}\n",
    "print(x)"
   ]
  },
  {
   "cell_type": "code",
   "execution_count": 64,
   "metadata": {},
   "outputs": [
    {
     "name": "stdout",
     "output_type": "stream",
     "text": [
      "{'k1': 1, 'k2': 2, 'k3': 3, 'k5': 5, 'k6': 6}\n"
     ]
    }
   ],
   "source": [
    "x.update([('k5',5),('k6',6)]) \n",
    "print(x)"
   ]
  },
  {
   "cell_type": "markdown",
   "metadata": {},
   "source": [
    "### (xi). values() :\n",
    "> returns a view object, this view object has the values of the dictionary, as a list."
   ]
  },
  {
   "cell_type": "code",
   "execution_count": 65,
   "metadata": {},
   "outputs": [
    {
     "name": "stdout",
     "output_type": "stream",
     "text": [
      "dict_values([1, 2, 3, 5, 6, 7, 9])\n",
      "<class 'dict_values'>\n",
      "0x1ef4d4c53d0\n",
      "7\n"
     ]
    }
   ],
   "source": [
    "a={'k1': 1, 'k2': 2, 'k3': 3, 'k5': 5, 'k6': 6, 'k7': 7, 'k8': 9}\n",
    "avalues=a.values()\n",
    "print(avalues,type(avalues),hex(id(avalues)),len(avalues),sep='\\n')"
   ]
  },
  {
   "cell_type": "code",
   "execution_count": 66,
   "metadata": {},
   "outputs": [
    {
     "name": "stdout",
     "output_type": "stream",
     "text": [
      "[1, 2, 3, 5, 6, 7, 9]\n",
      "<class 'list'>\n",
      "0x1ef4d4ae7c0\n",
      "7\n"
     ]
    }
   ],
   "source": [
    "avalues=list(avalues)\n",
    "print(avalues,type(avalues),hex(id(avalues)),len(avalues),sep='\\n')"
   ]
  },
  {
   "cell_type": "code",
   "execution_count": 67,
   "metadata": {},
   "outputs": [
    {
     "data": {
      "text/plain": [
       "dict_values([1, 2, 3, 5, 6, 7, 9])"
      ]
     },
     "execution_count": 67,
     "metadata": {},
     "output_type": "execute_result"
    }
   ],
   "source": [
    "a={'k1': 1, 'k2': 2, 'k3': 3, 'k5': 5, 'k6': 6, 'k7': 7, 'k8': 9}\n",
    "a.values()"
   ]
  },
  {
   "cell_type": "markdown",
   "metadata": {},
   "source": [
    "# string methods :"
   ]
  },
  {
   "cell_type": "markdown",
   "metadata": {},
   "source": [
    " ### a) maketrans() :\n",
    " \n",
    " * used to construct the transition table i.e specify the list of characters that need to be replaced in the whole string or the characters that need to be deleted from the string."
   ]
  },
  {
   "cell_type": "code",
   "execution_count": 68,
   "metadata": {},
   "outputs": [
    {
     "name": "stdout",
     "output_type": "stream",
     "text": [
      "!@#innomatics#@!\n"
     ]
    }
   ],
   "source": [
    "v='!@#innomatics#@!'\n",
    "print(v)"
   ]
  },
  {
   "cell_type": "code",
   "execution_count": 69,
   "metadata": {},
   "outputs": [
    {
     "name": "stdout",
     "output_type": "stream",
     "text": [
      "{64: 's', 115: '7', 97: 'zz'}\n"
     ]
    }
   ],
   "source": [
    "a=v.maketrans({'@':'s','s':'7','a':'zz'}) \n",
    "print(a)                                "
   ]
  },
  {
   "cell_type": "markdown",
   "metadata": {},
   "source": [
    "### b) translate() :\n",
    "\n",
    "* used to replace specific characters in a string with other characters or remove them altogether."
   ]
  },
  {
   "cell_type": "code",
   "execution_count": 70,
   "metadata": {},
   "outputs": [
    {
     "data": {
      "text/plain": [
       "'!s#innomzztic7#s!'"
      ]
     },
     "execution_count": 70,
     "metadata": {},
     "output_type": "execute_result"
    }
   ],
   "source": [
    "v.translate(a)"
   ]
  },
  {
   "cell_type": "markdown",
   "metadata": {},
   "source": [
    "# conditional statements :"
   ]
  },
  {
   "cell_type": "code",
   "execution_count": 71,
   "metadata": {},
   "outputs": [
    {
     "name": "stdout",
     "output_type": "stream",
     "text": [
      "second round\n"
     ]
    }
   ],
   "source": [
    "marks = 80\n",
    "if marks >= 80:\n",
    "    print('second round')"
   ]
  },
  {
   "cell_type": "code",
   "execution_count": 72,
   "metadata": {},
   "outputs": [],
   "source": [
    "marks = 50\n",
    "if marks >= 80:\n",
    "    print('second round') "
   ]
  },
  {
   "cell_type": "markdown",
   "metadata": {},
   "source": [
    "##### \"the above statement has no other condition so, it skips the entire statement.\""
   ]
  },
  {
   "cell_type": "code",
   "execution_count": 73,
   "metadata": {},
   "outputs": [
    {
     "name": "stdout",
     "output_type": "stream",
     "text": [
      "first round\n"
     ]
    }
   ],
   "source": [
    "marks = 75\n",
    "if marks >= 80:\n",
    "    print(\"second round\")\n",
    "elif (marks >= 70):\n",
    "    print(\"first round\")\n",
    "elif (marks >= 60):\n",
    "    print(\"screening round\")\n",
    "else:\n",
    "    print(\"study hard\")"
   ]
  },
  {
   "cell_type": "code",
   "execution_count": 74,
   "metadata": {},
   "outputs": [
    {
     "name": "stdout",
     "output_type": "stream",
     "text": [
      "second round\n"
     ]
    }
   ],
   "source": [
    "marks = 85\n",
    "if marks >= 80:\n",
    "    print(\"second round\")\n",
    "elif (marks >= 70):\n",
    "    print(\"first round\")\n",
    "elif (marks >= 60):\n",
    "    print(\"screening round\")\n",
    "else:\n",
    "    print(\"study hard\")"
   ]
  },
  {
   "cell_type": "code",
   "execution_count": 75,
   "metadata": {},
   "outputs": [
    {
     "name": "stdout",
     "output_type": "stream",
     "text": [
      "study hard\n"
     ]
    }
   ],
   "source": [
    "marks = 40\n",
    "if marks >= 80:\n",
    "    print(\"second round\")\n",
    "elif (marks >= 70):\n",
    "    print(\"first round\")\n",
    "elif (marks >= 60):\n",
    "    print(\"screening round\")\n",
    "else:\n",
    "    print(\"study hard\")"
   ]
  },
  {
   "cell_type": "code",
   "execution_count": 76,
   "metadata": {},
   "outputs": [
    {
     "name": "stdout",
     "output_type": "stream",
     "text": [
      "screening round\n"
     ]
    }
   ],
   "source": [
    "marks = 69\n",
    "if marks >= 80:\n",
    "    print(\"second round\")\n",
    "elif (marks >= 70):\n",
    "    print(\"first round\")\n",
    "elif (marks >= 60):\n",
    "    print(\"screening round\")\n",
    "else:\n",
    "    print(\"study hard\")"
   ]
  },
  {
   "cell_type": "code",
   "execution_count": null,
   "metadata": {},
   "outputs": [],
   "source": []
  }
 ],
 "metadata": {
  "kernelspec": {
   "display_name": "Python 3",
   "language": "python",
   "name": "python3"
  },
  "language_info": {
   "codemirror_mode": {
    "name": "ipython",
    "version": 3
   },
   "file_extension": ".py",
   "mimetype": "text/x-python",
   "name": "python",
   "nbconvert_exporter": "python",
   "pygments_lexer": "ipython3",
   "version": "3.8.5"
  }
 },
 "nbformat": 4,
 "nbformat_minor": 4
}
